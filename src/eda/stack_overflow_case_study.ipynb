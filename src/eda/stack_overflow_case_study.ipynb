{
 "cells": [
  {
   "cell_type": "markdown",
   "metadata": {
    "id": "8EjT5ES6OVE5"
   },
   "source": [
    "## ***Exploratory Data Analysis For StackOverflow Tag Prediction***"
   ]
  },
  {
   "cell_type": "markdown",
   "metadata": {
    "id": "1QRwEb6AOwNY"
   },
   "source": [
    "***Using EDA, help Stack Overflow implement the following features in its web application:***\n",
    "\n",
    "\n",
    "*   When a user raises a question with a data science tag ('python', 'r','matlab', 'sas', 'excel', 'sql'), then Stack Overflow sends the notification to the relevant users.\n",
    "\n",
    "*   When a user provides a data science tag ('python', 'r', 'matlab', 'sas', 'excel', 'sql') to their question, then Stack Overflow should come up with the expected approximate time to get it answered.\n",
    "\n",
    "*   While a user raises a question, Stack Overflow wants to provide some suggestions to the users to get their queries answered quickly."
   ]
  },
  {
   "cell_type": "markdown",
   "metadata": {
    "id": "BJfxMtRrPmWx"
   },
   "source": [
    "***Load and understand your data***\n",
    "- The data consists of 4 tables which are loaded separately with appropriate formatting\n"
   ]
  },
  {
   "cell_type": "code",
   "execution_count": 1,
   "metadata": {
    "executionInfo": {
     "elapsed": 9057,
     "status": "ok",
     "timestamp": 1606147759449,
     "user": {
      "displayName": "Anannya Roy Chowdhury",
      "photoUrl": "https://lh3.googleusercontent.com/a-/AOh14GjZCSDPGcvkRjbVwz4l4zBrB1rUCc6TW93wGHysug=s64",
      "userId": "08952150216285672278"
     },
     "user_tz": -330
    },
    "id": "7-c_W36mOmVE"
   },
   "outputs": [],
   "source": [
    "# import libraries\n",
    "\n",
    "import pandas as pd\n",
    "import numpy as np\n",
    "import seaborn as sns\n",
    "from scipy.stats import norm, skew\n",
    "import matplotlib.pyplot as plt\n",
    "import warnings\n",
    "warnings.filterwarnings(\"ignore\")"
   ]
  },
  {
   "cell_type": "markdown",
   "metadata": {
    "id": "cBfJcsHtHb5Z"
   },
   "source": [
    "### ***Questions***"
   ]
  },
  {
   "cell_type": "code",
   "execution_count": 2,
   "metadata": {
    "colab": {
     "base_uri": "https://localhost:8080/",
     "height": 197
    },
    "executionInfo": {
     "elapsed": 174102,
     "status": "ok",
     "timestamp": 1606147924505,
     "user": {
      "displayName": "Anannya Roy Chowdhury",
      "photoUrl": "https://lh3.googleusercontent.com/a-/AOh14GjZCSDPGcvkRjbVwz4l4zBrB1rUCc6TW93wGHysug=s64",
      "userId": "08952150216285672278"
     },
     "user_tz": -330
    },
    "id": "30V0490rP12D",
    "outputId": "ba3679bd-5949-43e6-ee86-827821a2c89b"
   },
   "outputs": [
    {
     "data": {
      "text/html": [
       "<div>\n",
       "<style scoped>\n",
       "    .dataframe tbody tr th:only-of-type {\n",
       "        vertical-align: middle;\n",
       "    }\n",
       "\n",
       "    .dataframe tbody tr th {\n",
       "        vertical-align: top;\n",
       "    }\n",
       "\n",
       "    .dataframe thead th {\n",
       "        text-align: right;\n",
       "    }\n",
       "</style>\n",
       "<table border=\"1\" class=\"dataframe\">\n",
       "  <thead>\n",
       "    <tr style=\"text-align: right;\">\n",
       "      <th></th>\n",
       "      <th>Id</th>\n",
       "      <th>OwnerUserId</th>\n",
       "      <th>CreationDate</th>\n",
       "      <th>ClosedDate</th>\n",
       "      <th>Score</th>\n",
       "      <th>Title</th>\n",
       "      <th>Body</th>\n",
       "    </tr>\n",
       "  </thead>\n",
       "  <tbody>\n",
       "    <tr>\n",
       "      <th>0</th>\n",
       "      <td>80</td>\n",
       "      <td>26.0</td>\n",
       "      <td>2008-08-01T13:57:07Z</td>\n",
       "      <td>NaN</td>\n",
       "      <td>26</td>\n",
       "      <td>SQLStatement.execute() - multiple queries in o...</td>\n",
       "      <td>&lt;p&gt;I've written a database generation script i...</td>\n",
       "    </tr>\n",
       "    <tr>\n",
       "      <th>1</th>\n",
       "      <td>90</td>\n",
       "      <td>58.0</td>\n",
       "      <td>2008-08-01T14:41:24Z</td>\n",
       "      <td>2012-12-26T03:45:49Z</td>\n",
       "      <td>144</td>\n",
       "      <td>Good branching and merging tutorials for Torto...</td>\n",
       "      <td>&lt;p&gt;Are there any really good tutorials explain...</td>\n",
       "    </tr>\n",
       "    <tr>\n",
       "      <th>2</th>\n",
       "      <td>120</td>\n",
       "      <td>83.0</td>\n",
       "      <td>2008-08-01T15:50:08Z</td>\n",
       "      <td>NaN</td>\n",
       "      <td>21</td>\n",
       "      <td>ASP.NET Site Maps</td>\n",
       "      <td>&lt;p&gt;Has anyone got experience creating &lt;strong&gt;...</td>\n",
       "    </tr>\n",
       "    <tr>\n",
       "      <th>3</th>\n",
       "      <td>180</td>\n",
       "      <td>2089740.0</td>\n",
       "      <td>2008-08-01T18:42:19Z</td>\n",
       "      <td>NaN</td>\n",
       "      <td>53</td>\n",
       "      <td>Function for creating color wheels</td>\n",
       "      <td>&lt;p&gt;This is something I've pseudo-solved many t...</td>\n",
       "    </tr>\n",
       "    <tr>\n",
       "      <th>4</th>\n",
       "      <td>260</td>\n",
       "      <td>91.0</td>\n",
       "      <td>2008-08-01T23:22:08Z</td>\n",
       "      <td>NaN</td>\n",
       "      <td>49</td>\n",
       "      <td>Adding scripting functionality to .NET applica...</td>\n",
       "      <td>&lt;p&gt;I have a little game written in C#. It uses...</td>\n",
       "    </tr>\n",
       "  </tbody>\n",
       "</table>\n",
       "</div>"
      ],
      "text/plain": [
       "    Id  ...                                               Body\n",
       "0   80  ...  <p>I've written a database generation script i...\n",
       "1   90  ...  <p>Are there any really good tutorials explain...\n",
       "2  120  ...  <p>Has anyone got experience creating <strong>...\n",
       "3  180  ...  <p>This is something I've pseudo-solved many t...\n",
       "4  260  ...  <p>I have a little game written in C#. It uses...\n",
       "\n",
       "[5 rows x 7 columns]"
      ]
     },
     "execution_count": 2,
     "metadata": {
      "tags": []
     },
     "output_type": "execute_result"
    }
   ],
   "source": [
    "df_Question = pd.read_csv('https://stack-overflow-casestudy-datasets.s3.amazonaws.com/Questions.csv',encoding='latin_1')\n",
    "df_Question.head()"
   ]
  },
  {
   "cell_type": "markdown",
   "metadata": {
    "id": "LMm3yBd4G9QM"
   },
   "source": [
    "##### We can see that Title is in plain text, while Body is in HTML format, which requires a lot of data cleansing before it is in a useful format. Also note that punctuations can be meaningful in this problem, e.g. ASP.NET, C#, etc, so we need to be careful not to remove them during data cleansing."
   ]
  },
  {
   "cell_type": "code",
   "execution_count": 3,
   "metadata": {
    "colab": {
     "base_uri": "https://localhost:8080/",
     "height": 531
    },
    "executionInfo": {
     "elapsed": 174092,
     "status": "ok",
     "timestamp": 1606147924506,
     "user": {
      "displayName": "Anannya Roy Chowdhury",
      "photoUrl": "https://lh3.googleusercontent.com/a-/AOh14GjZCSDPGcvkRjbVwz4l4zBrB1rUCc6TW93wGHysug=s64",
      "userId": "08952150216285672278"
     },
     "user_tz": -330
    },
    "id": "-nVoq_aYUg9m",
    "outputId": "11136cb5-678b-4991-e199-573f72fc90f4"
   },
   "outputs": [
    {
     "name": "stdout",
     "output_type": "stream",
     "text": [
      "<class 'pandas.core.frame.DataFrame'>\n",
      "RangeIndex: 1264216 entries, 0 to 1264215\n",
      "Data columns (total 7 columns):\n",
      " #   Column        Non-Null Count    Dtype  \n",
      "---  ------        --------------    -----  \n",
      " 0   Id            1264216 non-null  int64  \n",
      " 1   OwnerUserId   1249762 non-null  float64\n",
      " 2   CreationDate  1264216 non-null  object \n",
      " 3   ClosedDate    55959 non-null    object \n",
      " 4   Score         1264216 non-null  int64  \n",
      " 5   Title         1264216 non-null  object \n",
      " 6   Body          1264216 non-null  object \n",
      "dtypes: float64(1), int64(2), object(4)\n",
      "memory usage: 67.5+ MB\n"
     ]
    },
    {
     "data": {
      "text/html": [
       "<div>\n",
       "<style scoped>\n",
       "    .dataframe tbody tr th:only-of-type {\n",
       "        vertical-align: middle;\n",
       "    }\n",
       "\n",
       "    .dataframe tbody tr th {\n",
       "        vertical-align: top;\n",
       "    }\n",
       "\n",
       "    .dataframe thead th {\n",
       "        text-align: right;\n",
       "    }\n",
       "</style>\n",
       "<table border=\"1\" class=\"dataframe\">\n",
       "  <thead>\n",
       "    <tr style=\"text-align: right;\">\n",
       "      <th></th>\n",
       "      <th>Id</th>\n",
       "      <th>OwnerUserId</th>\n",
       "      <th>Score</th>\n",
       "    </tr>\n",
       "  </thead>\n",
       "  <tbody>\n",
       "    <tr>\n",
       "      <th>count</th>\n",
       "      <td>1.264216e+06</td>\n",
       "      <td>1.249762e+06</td>\n",
       "      <td>1.264216e+06</td>\n",
       "    </tr>\n",
       "    <tr>\n",
       "      <th>mean</th>\n",
       "      <td>2.132745e+07</td>\n",
       "      <td>2.155177e+06</td>\n",
       "      <td>1.781537e+00</td>\n",
       "    </tr>\n",
       "    <tr>\n",
       "      <th>std</th>\n",
       "      <td>1.151445e+07</td>\n",
       "      <td>1.801265e+06</td>\n",
       "      <td>1.366389e+01</td>\n",
       "    </tr>\n",
       "    <tr>\n",
       "      <th>min</th>\n",
       "      <td>8.000000e+01</td>\n",
       "      <td>1.000000e+00</td>\n",
       "      <td>-7.300000e+01</td>\n",
       "    </tr>\n",
       "    <tr>\n",
       "      <th>25%</th>\n",
       "      <td>1.142598e+07</td>\n",
       "      <td>6.589110e+05</td>\n",
       "      <td>0.000000e+00</td>\n",
       "    </tr>\n",
       "    <tr>\n",
       "      <th>50%</th>\n",
       "      <td>2.172542e+07</td>\n",
       "      <td>1.611830e+06</td>\n",
       "      <td>0.000000e+00</td>\n",
       "    </tr>\n",
       "    <tr>\n",
       "      <th>75%</th>\n",
       "      <td>3.154542e+07</td>\n",
       "      <td>3.353792e+06</td>\n",
       "      <td>1.000000e+00</td>\n",
       "    </tr>\n",
       "    <tr>\n",
       "      <th>max</th>\n",
       "      <td>4.014338e+07</td>\n",
       "      <td>7.046594e+06</td>\n",
       "      <td>5.190000e+03</td>\n",
       "    </tr>\n",
       "  </tbody>\n",
       "</table>\n",
       "</div>"
      ],
      "text/plain": [
       "                 Id   OwnerUserId         Score\n",
       "count  1.264216e+06  1.249762e+06  1.264216e+06\n",
       "mean   2.132745e+07  2.155177e+06  1.781537e+00\n",
       "std    1.151445e+07  1.801265e+06  1.366389e+01\n",
       "min    8.000000e+01  1.000000e+00 -7.300000e+01\n",
       "25%    1.142598e+07  6.589110e+05  0.000000e+00\n",
       "50%    2.172542e+07  1.611830e+06  0.000000e+00\n",
       "75%    3.154542e+07  3.353792e+06  1.000000e+00\n",
       "max    4.014338e+07  7.046594e+06  5.190000e+03"
      ]
     },
     "execution_count": 3,
     "metadata": {
      "tags": []
     },
     "output_type": "execute_result"
    }
   ],
   "source": [
    "df_Question.info()\n",
    "df_Question.describe()"
   ]
  },
  {
   "cell_type": "code",
   "execution_count": 4,
   "metadata": {
    "colab": {
     "base_uri": "https://localhost:8080/",
     "height": 197
    },
    "executionInfo": {
     "elapsed": 174083,
     "status": "ok",
     "timestamp": 1606147924507,
     "user": {
      "displayName": "Anannya Roy Chowdhury",
      "photoUrl": "https://lh3.googleusercontent.com/a-/AOh14GjZCSDPGcvkRjbVwz4l4zBrB1rUCc6TW93wGHysug=s64",
      "userId": "08952150216285672278"
     },
     "user_tz": -330
    },
    "id": "BbbiEoTp5q40",
    "outputId": "01af50af-9966-4da0-a684-4fd93208f6c5"
   },
   "outputs": [
    {
     "data": {
      "text/html": [
       "<div>\n",
       "<style scoped>\n",
       "    .dataframe tbody tr th:only-of-type {\n",
       "        vertical-align: middle;\n",
       "    }\n",
       "\n",
       "    .dataframe tbody tr th {\n",
       "        vertical-align: top;\n",
       "    }\n",
       "\n",
       "    .dataframe thead th {\n",
       "        text-align: right;\n",
       "    }\n",
       "</style>\n",
       "<table border=\"1\" class=\"dataframe\">\n",
       "  <thead>\n",
       "    <tr style=\"text-align: right;\">\n",
       "      <th></th>\n",
       "      <th>Id</th>\n",
       "      <th>OwnerUserId</th>\n",
       "      <th>CreationDate</th>\n",
       "      <th>ClosedDate</th>\n",
       "      <th>Score</th>\n",
       "      <th>Title</th>\n",
       "      <th>Body</th>\n",
       "    </tr>\n",
       "  </thead>\n",
       "  <tbody>\n",
       "    <tr>\n",
       "      <th>0</th>\n",
       "      <td>80</td>\n",
       "      <td>26.0</td>\n",
       "      <td>2008-08-01T13:57:07Z</td>\n",
       "      <td>NaN</td>\n",
       "      <td>26</td>\n",
       "      <td>SQLStatement.execute() - multiple queries in o...</td>\n",
       "      <td>&lt;p&gt;I've written a database generation script i...</td>\n",
       "    </tr>\n",
       "    <tr>\n",
       "      <th>1</th>\n",
       "      <td>90</td>\n",
       "      <td>58.0</td>\n",
       "      <td>2008-08-01T14:41:24Z</td>\n",
       "      <td>2012-12-26T03:45:49Z</td>\n",
       "      <td>144</td>\n",
       "      <td>Good branching and merging tutorials for Torto...</td>\n",
       "      <td>&lt;p&gt;Are there any really good tutorials explain...</td>\n",
       "    </tr>\n",
       "    <tr>\n",
       "      <th>2</th>\n",
       "      <td>120</td>\n",
       "      <td>83.0</td>\n",
       "      <td>2008-08-01T15:50:08Z</td>\n",
       "      <td>NaN</td>\n",
       "      <td>21</td>\n",
       "      <td>ASP.NET Site Maps</td>\n",
       "      <td>&lt;p&gt;Has anyone got experience creating &lt;strong&gt;...</td>\n",
       "    </tr>\n",
       "    <tr>\n",
       "      <th>3</th>\n",
       "      <td>180</td>\n",
       "      <td>2089740.0</td>\n",
       "      <td>2008-08-01T18:42:19Z</td>\n",
       "      <td>NaN</td>\n",
       "      <td>53</td>\n",
       "      <td>Function for creating color wheels</td>\n",
       "      <td>&lt;p&gt;This is something I've pseudo-solved many t...</td>\n",
       "    </tr>\n",
       "    <tr>\n",
       "      <th>4</th>\n",
       "      <td>260</td>\n",
       "      <td>91.0</td>\n",
       "      <td>2008-08-01T23:22:08Z</td>\n",
       "      <td>NaN</td>\n",
       "      <td>49</td>\n",
       "      <td>Adding scripting functionality to .NET applica...</td>\n",
       "      <td>&lt;p&gt;I have a little game written in C#. It uses...</td>\n",
       "    </tr>\n",
       "  </tbody>\n",
       "</table>\n",
       "</div>"
      ],
      "text/plain": [
       "    Id  ...                                               Body\n",
       "0   80  ...  <p>I've written a database generation script i...\n",
       "1   90  ...  <p>Are there any really good tutorials explain...\n",
       "2  120  ...  <p>Has anyone got experience creating <strong>...\n",
       "3  180  ...  <p>This is something I've pseudo-solved many t...\n",
       "4  260  ...  <p>I have a little game written in C#. It uses...\n",
       "\n",
       "[5 rows x 7 columns]"
      ]
     },
     "execution_count": 4,
     "metadata": {
      "tags": []
     },
     "output_type": "execute_result"
    }
   ],
   "source": [
    "df_Question.head()"
   ]
  },
  {
   "cell_type": "code",
   "execution_count": 5,
   "metadata": {
    "colab": {
     "base_uri": "https://localhost:8080/"
    },
    "executionInfo": {
     "elapsed": 174074,
     "status": "ok",
     "timestamp": 1606147924508,
     "user": {
      "displayName": "Anannya Roy Chowdhury",
      "photoUrl": "https://lh3.googleusercontent.com/a-/AOh14GjZCSDPGcvkRjbVwz4l4zBrB1rUCc6TW93wGHysug=s64",
      "userId": "08952150216285672278"
     },
     "user_tz": -330
    },
    "id": "DjVHpO3blT8t",
    "outputId": "ee13aaf1-2448-4291-bdb3-59990c890241"
   },
   "outputs": [
    {
     "data": {
      "text/plain": [
       "Id                    0\n",
       "OwnerUserId       14454\n",
       "CreationDate          0\n",
       "ClosedDate      1208257\n",
       "Score                 0\n",
       "Title                 0\n",
       "Body                  0\n",
       "dtype: int64"
      ]
     },
     "execution_count": 5,
     "metadata": {
      "tags": []
     },
     "output_type": "execute_result"
    }
   ],
   "source": [
    "# summarising number of missing values in each column\n",
    "null_cols_Questions = df_Question.isnull().sum()\n",
    "null_cols_Questions"
   ]
  },
  {
   "cell_type": "code",
   "execution_count": 6,
   "metadata": {
    "colab": {
     "base_uri": "https://localhost:8080/"
    },
    "executionInfo": {
     "elapsed": 174065,
     "status": "ok",
     "timestamp": 1606147924511,
     "user": {
      "displayName": "Anannya Roy Chowdhury",
      "photoUrl": "https://lh3.googleusercontent.com/a-/AOh14GjZCSDPGcvkRjbVwz4l4zBrB1rUCc6TW93wGHysug=s64",
      "userId": "08952150216285672278"
     },
     "user_tz": -330
    },
    "id": "gM9lCBlpwrCB",
    "outputId": "a9bcb82d-a5b3-45da-fac4-b3e0fb861eec"
   },
   "outputs": [
    {
     "data": {
      "text/plain": [
       "1"
      ]
     },
     "execution_count": 6,
     "metadata": {
      "tags": []
     },
     "output_type": "execute_result"
    }
   ],
   "source": [
    "# viewing percentage of missing values in each column before drop operation\n",
    "\n",
    "null_cols_Questions = df_Question.isnull().sum()/len(df_Question.index)*100\n",
    "\n",
    "# List of Columns where NA values are more than 50%\n",
    "null_cols_Questions = null_cols_Questions[null_cols_Questions.values>50]\n",
    "len(null_cols_Questions)"
   ]
  },
  {
   "cell_type": "code",
   "execution_count": 7,
   "metadata": {
    "colab": {
     "base_uri": "https://localhost:8080/"
    },
    "executionInfo": {
     "elapsed": 174057,
     "status": "ok",
     "timestamp": 1606147924512,
     "user": {
      "displayName": "Anannya Roy Chowdhury",
      "photoUrl": "https://lh3.googleusercontent.com/a-/AOh14GjZCSDPGcvkRjbVwz4l4zBrB1rUCc6TW93wGHysug=s64",
      "userId": "08952150216285672278"
     },
     "user_tz": -330
    },
    "id": "v2gJ8b68wxj5",
    "outputId": "8d1a463b-28ad-449d-ffe2-0ef5dc21dfe8"
   },
   "outputs": [
    {
     "name": "stdout",
     "output_type": "stream",
     "text": [
      "Shape of Dataframe before drop (1264216, 7)\n",
      "Shape of Dataframe after drop (1264216, 6)\n"
     ]
    }
   ],
   "source": [
    "#dropping the columns with more than 50% nulls\n",
    "print(\"Shape of Dataframe before drop\",df_Question.shape)\n",
    "null_cols_Questions = list(null_cols_Questions.index)\n",
    "df_Question.drop(labels=null_cols_Questions,axis=1,inplace=True)\n",
    "print(\"Shape of Dataframe after drop\",df_Question.shape)"
   ]
  },
  {
   "cell_type": "code",
   "execution_count": 8,
   "metadata": {
    "executionInfo": {
     "elapsed": 176015,
     "status": "ok",
     "timestamp": 1606147926480,
     "user": {
      "displayName": "Anannya Roy Chowdhury",
      "photoUrl": "https://lh3.googleusercontent.com/a-/AOh14GjZCSDPGcvkRjbVwz4l4zBrB1rUCc6TW93wGHysug=s64",
      "userId": "08952150216285672278"
     },
     "user_tz": -330
    },
    "id": "QywNPfYfSKJG"
   },
   "outputs": [],
   "source": [
    "#Requester Id , i.e., OwnerUserId can be removed\n",
    "df_Question.drop(labels='OwnerUserId',axis=1,inplace=True)"
   ]
  },
  {
   "cell_type": "code",
   "execution_count": 9,
   "metadata": {
    "colab": {
     "base_uri": "https://localhost:8080/"
    },
    "executionInfo": {
     "elapsed": 176010,
     "status": "ok",
     "timestamp": 1606147926482,
     "user": {
      "displayName": "Anannya Roy Chowdhury",
      "photoUrl": "https://lh3.googleusercontent.com/a-/AOh14GjZCSDPGcvkRjbVwz4l4zBrB1rUCc6TW93wGHysug=s64",
      "userId": "08952150216285672278"
     },
     "user_tz": -330
    },
    "id": "382XWtSLwxtC",
    "outputId": "a4bbd966-315b-4844-9e22-77f1613a22c5"
   },
   "outputs": [
    {
     "name": "stdout",
     "output_type": "stream",
     "text": [
      "<class 'pandas.core.frame.DataFrame'>\n",
      "RangeIndex: 1264216 entries, 0 to 1264215\n",
      "Data columns (total 5 columns):\n",
      " #   Column        Non-Null Count    Dtype \n",
      "---  ------        --------------    ----- \n",
      " 0   Id            1264216 non-null  int64 \n",
      " 1   CreationDate  1264216 non-null  object\n",
      " 2   Score         1264216 non-null  int64 \n",
      " 3   Title         1264216 non-null  object\n",
      " 4   Body          1264216 non-null  object\n",
      "dtypes: int64(2), object(3)\n",
      "memory usage: 48.2+ MB\n"
     ]
    }
   ],
   "source": [
    "df_Question.info()"
   ]
  },
  {
   "cell_type": "markdown",
   "metadata": {
    "id": "pJmSAWmUHlpq"
   },
   "source": [
    "### ***Answers***"
   ]
  },
  {
   "cell_type": "code",
   "execution_count": 10,
   "metadata": {
    "colab": {
     "base_uri": "https://localhost:8080/",
     "height": 197
    },
    "executionInfo": {
     "elapsed": 316226,
     "status": "ok",
     "timestamp": 1606148066709,
     "user": {
      "displayName": "Anannya Roy Chowdhury",
      "photoUrl": "https://lh3.googleusercontent.com/a-/AOh14GjZCSDPGcvkRjbVwz4l4zBrB1rUCc6TW93wGHysug=s64",
      "userId": "08952150216285672278"
     },
     "user_tz": -330
    },
    "id": "ZAmX5KRyRPTj",
    "outputId": "89d79d71-656c-4abe-db1e-dcde9bd73a78"
   },
   "outputs": [
    {
     "data": {
      "text/html": [
       "<div>\n",
       "<style scoped>\n",
       "    .dataframe tbody tr th:only-of-type {\n",
       "        vertical-align: middle;\n",
       "    }\n",
       "\n",
       "    .dataframe tbody tr th {\n",
       "        vertical-align: top;\n",
       "    }\n",
       "\n",
       "    .dataframe thead th {\n",
       "        text-align: right;\n",
       "    }\n",
       "</style>\n",
       "<table border=\"1\" class=\"dataframe\">\n",
       "  <thead>\n",
       "    <tr style=\"text-align: right;\">\n",
       "      <th></th>\n",
       "      <th>Id</th>\n",
       "      <th>OwnerUserId</th>\n",
       "      <th>CreationDate</th>\n",
       "      <th>ParentId</th>\n",
       "      <th>Score</th>\n",
       "      <th>Body</th>\n",
       "    </tr>\n",
       "  </thead>\n",
       "  <tbody>\n",
       "    <tr>\n",
       "      <th>0</th>\n",
       "      <td>92</td>\n",
       "      <td>61.0</td>\n",
       "      <td>2008-08-01T14:45:37Z</td>\n",
       "      <td>90</td>\n",
       "      <td>13</td>\n",
       "      <td>&lt;p&gt;&lt;a href=\"http://svnbook.red-bean.com/\"&gt;Vers...</td>\n",
       "    </tr>\n",
       "    <tr>\n",
       "      <th>1</th>\n",
       "      <td>124</td>\n",
       "      <td>26.0</td>\n",
       "      <td>2008-08-01T16:09:47Z</td>\n",
       "      <td>80</td>\n",
       "      <td>12</td>\n",
       "      <td>&lt;p&gt;I wound up using this. It is a kind of a ha...</td>\n",
       "    </tr>\n",
       "    <tr>\n",
       "      <th>2</th>\n",
       "      <td>199</td>\n",
       "      <td>50.0</td>\n",
       "      <td>2008-08-01T19:36:46Z</td>\n",
       "      <td>180</td>\n",
       "      <td>1</td>\n",
       "      <td>&lt;p&gt;I've read somewhere the human eye can't dis...</td>\n",
       "    </tr>\n",
       "    <tr>\n",
       "      <th>3</th>\n",
       "      <td>269</td>\n",
       "      <td>91.0</td>\n",
       "      <td>2008-08-01T23:49:57Z</td>\n",
       "      <td>260</td>\n",
       "      <td>4</td>\n",
       "      <td>&lt;p&gt;Yes, I thought about that, but I soon figur...</td>\n",
       "    </tr>\n",
       "    <tr>\n",
       "      <th>4</th>\n",
       "      <td>307</td>\n",
       "      <td>49.0</td>\n",
       "      <td>2008-08-02T01:49:46Z</td>\n",
       "      <td>260</td>\n",
       "      <td>28</td>\n",
       "      <td>&lt;p&gt;&lt;a href=\"http://www.codeproject.com/Article...</td>\n",
       "    </tr>\n",
       "  </tbody>\n",
       "</table>\n",
       "</div>"
      ],
      "text/plain": [
       "    Id  OwnerUserId  ... Score                                               Body\n",
       "0   92         61.0  ...    13  <p><a href=\"http://svnbook.red-bean.com/\">Vers...\n",
       "1  124         26.0  ...    12  <p>I wound up using this. It is a kind of a ha...\n",
       "2  199         50.0  ...     1  <p>I've read somewhere the human eye can't dis...\n",
       "3  269         91.0  ...     4  <p>Yes, I thought about that, but I soon figur...\n",
       "4  307         49.0  ...    28  <p><a href=\"http://www.codeproject.com/Article...\n",
       "\n",
       "[5 rows x 6 columns]"
      ]
     },
     "execution_count": 10,
     "metadata": {
      "tags": []
     },
     "output_type": "execute_result"
    }
   ],
   "source": [
    "df_Answers = pd.read_csv('https://stack-overflow-casestudy-datasets.s3.amazonaws.com/Answers.csv',encoding='latin_1')\n",
    "df_Answers.head()"
   ]
  },
  {
   "cell_type": "code",
   "execution_count": 11,
   "metadata": {
    "colab": {
     "base_uri": "https://localhost:8080/",
     "height": 513
    },
    "executionInfo": {
     "elapsed": 316217,
     "status": "ok",
     "timestamp": 1606148066710,
     "user": {
      "displayName": "Anannya Roy Chowdhury",
      "photoUrl": "https://lh3.googleusercontent.com/a-/AOh14GjZCSDPGcvkRjbVwz4l4zBrB1rUCc6TW93wGHysug=s64",
      "userId": "08952150216285672278"
     },
     "user_tz": -330
    },
    "id": "2bKuQwL7UjAI",
    "outputId": "34c66148-2e45-4c69-b557-eef74ffdb490"
   },
   "outputs": [
    {
     "name": "stdout",
     "output_type": "stream",
     "text": [
      "<class 'pandas.core.frame.DataFrame'>\n",
      "RangeIndex: 2014516 entries, 0 to 2014515\n",
      "Data columns (total 6 columns):\n",
      " #   Column        Dtype  \n",
      "---  ------        -----  \n",
      " 0   Id            int64  \n",
      " 1   OwnerUserId   float64\n",
      " 2   CreationDate  object \n",
      " 3   ParentId      int64  \n",
      " 4   Score         int64  \n",
      " 5   Body          object \n",
      "dtypes: float64(1), int64(3), object(2)\n",
      "memory usage: 92.2+ MB\n"
     ]
    },
    {
     "data": {
      "text/html": [
       "<div>\n",
       "<style scoped>\n",
       "    .dataframe tbody tr th:only-of-type {\n",
       "        vertical-align: middle;\n",
       "    }\n",
       "\n",
       "    .dataframe tbody tr th {\n",
       "        vertical-align: top;\n",
       "    }\n",
       "\n",
       "    .dataframe thead th {\n",
       "        text-align: right;\n",
       "    }\n",
       "</style>\n",
       "<table border=\"1\" class=\"dataframe\">\n",
       "  <thead>\n",
       "    <tr style=\"text-align: right;\">\n",
       "      <th></th>\n",
       "      <th>Id</th>\n",
       "      <th>OwnerUserId</th>\n",
       "      <th>ParentId</th>\n",
       "      <th>Score</th>\n",
       "    </tr>\n",
       "  </thead>\n",
       "  <tbody>\n",
       "    <tr>\n",
       "      <th>count</th>\n",
       "      <td>2.014516e+06</td>\n",
       "      <td>2.001316e+06</td>\n",
       "      <td>2.014516e+06</td>\n",
       "      <td>2.014516e+06</td>\n",
       "    </tr>\n",
       "    <tr>\n",
       "      <th>mean</th>\n",
       "      <td>1.915490e+07</td>\n",
       "      <td>1.487613e+06</td>\n",
       "      <td>1.808390e+07</td>\n",
       "      <td>2.480563e+00</td>\n",
       "    </tr>\n",
       "    <tr>\n",
       "      <th>std</th>\n",
       "      <td>1.168713e+07</td>\n",
       "      <td>1.549051e+06</td>\n",
       "      <td>1.169152e+07</td>\n",
       "      <td>1.590938e+01</td>\n",
       "    </tr>\n",
       "    <tr>\n",
       "      <th>min</th>\n",
       "      <td>9.200000e+01</td>\n",
       "      <td>1.000000e+00</td>\n",
       "      <td>8.000000e+01</td>\n",
       "      <td>-4.200000e+01</td>\n",
       "    </tr>\n",
       "    <tr>\n",
       "      <th>25%</th>\n",
       "      <td>8.854490e+06</td>\n",
       "      <td>2.818680e+05</td>\n",
       "      <td>7.692900e+06</td>\n",
       "      <td>0.000000e+00</td>\n",
       "    </tr>\n",
       "    <tr>\n",
       "      <th>50%</th>\n",
       "      <td>1.866246e+07</td>\n",
       "      <td>9.546430e+05</td>\n",
       "      <td>1.712404e+07</td>\n",
       "      <td>1.000000e+00</td>\n",
       "    </tr>\n",
       "    <tr>\n",
       "      <th>75%</th>\n",
       "      <td>2.929756e+07</td>\n",
       "      <td>2.197072e+06</td>\n",
       "      <td>2.804977e+07</td>\n",
       "      <td>2.000000e+00</td>\n",
       "    </tr>\n",
       "    <tr>\n",
       "      <th>max</th>\n",
       "      <td>4.014339e+07</td>\n",
       "      <td>7.045028e+06</td>\n",
       "      <td>4.014319e+07</td>\n",
       "      <td>5.718000e+03</td>\n",
       "    </tr>\n",
       "  </tbody>\n",
       "</table>\n",
       "</div>"
      ],
      "text/plain": [
       "                 Id   OwnerUserId      ParentId         Score\n",
       "count  2.014516e+06  2.001316e+06  2.014516e+06  2.014516e+06\n",
       "mean   1.915490e+07  1.487613e+06  1.808390e+07  2.480563e+00\n",
       "std    1.168713e+07  1.549051e+06  1.169152e+07  1.590938e+01\n",
       "min    9.200000e+01  1.000000e+00  8.000000e+01 -4.200000e+01\n",
       "25%    8.854490e+06  2.818680e+05  7.692900e+06  0.000000e+00\n",
       "50%    1.866246e+07  9.546430e+05  1.712404e+07  1.000000e+00\n",
       "75%    2.929756e+07  2.197072e+06  2.804977e+07  2.000000e+00\n",
       "max    4.014339e+07  7.045028e+06  4.014319e+07  5.718000e+03"
      ]
     },
     "execution_count": 11,
     "metadata": {
      "tags": []
     },
     "output_type": "execute_result"
    }
   ],
   "source": [
    "df_Answers.info()\n",
    "df_Answers.describe()"
   ]
  },
  {
   "cell_type": "code",
   "execution_count": 12,
   "metadata": {
    "colab": {
     "base_uri": "https://localhost:8080/"
    },
    "executionInfo": {
     "elapsed": 316208,
     "status": "ok",
     "timestamp": 1606148066711,
     "user": {
      "displayName": "Anannya Roy Chowdhury",
      "photoUrl": "https://lh3.googleusercontent.com/a-/AOh14GjZCSDPGcvkRjbVwz4l4zBrB1rUCc6TW93wGHysug=s64",
      "userId": "08952150216285672278"
     },
     "user_tz": -330
    },
    "id": "Q2UpafArlgcH",
    "outputId": "f378bf5b-86e6-4da2-c840-3d27e17966af"
   },
   "outputs": [
    {
     "data": {
      "text/plain": [
       "Id                  0\n",
       "OwnerUserId     13200\n",
       "CreationDate        0\n",
       "ParentId            0\n",
       "Score               0\n",
       "Body                0\n",
       "dtype: int64"
      ]
     },
     "execution_count": 12,
     "metadata": {
      "tags": []
     },
     "output_type": "execute_result"
    }
   ],
   "source": [
    "# summarising number of missing values in each column\n",
    "null_cols_Answers = df_Answers.isnull().sum()\n",
    "null_cols_Answers"
   ]
  },
  {
   "cell_type": "code",
   "execution_count": 13,
   "metadata": {
    "colab": {
     "base_uri": "https://localhost:8080/"
    },
    "executionInfo": {
     "elapsed": 316197,
     "status": "ok",
     "timestamp": 1606148066712,
     "user": {
      "displayName": "Anannya Roy Chowdhury",
      "photoUrl": "https://lh3.googleusercontent.com/a-/AOh14GjZCSDPGcvkRjbVwz4l4zBrB1rUCc6TW93wGHysug=s64",
      "userId": "08952150216285672278"
     },
     "user_tz": -330
    },
    "id": "R87XuTVGxjf_",
    "outputId": "42b08d99-21aa-4013-db17-f8804b14d89d"
   },
   "outputs": [
    {
     "data": {
      "text/plain": [
       "0"
      ]
     },
     "execution_count": 13,
     "metadata": {
      "tags": []
     },
     "output_type": "execute_result"
    }
   ],
   "source": [
    "# viewing percentage of missing values in each column before drop operation\n",
    "\n",
    "null_cols_Answers = df_Answers.isnull().sum()/len(df_Answers.index)*100\n",
    "\n",
    "# List of Columns where NA values are more than 50%\n",
    "null_cols_Answers = null_cols_Answers[null_cols_Answers.values>50]\n",
    "len(null_cols_Answers)"
   ]
  },
  {
   "cell_type": "code",
   "execution_count": 14,
   "metadata": {
    "colab": {
     "base_uri": "https://localhost:8080/"
    },
    "executionInfo": {
     "elapsed": 318531,
     "status": "ok",
     "timestamp": 1606148069056,
     "user": {
      "displayName": "Anannya Roy Chowdhury",
      "photoUrl": "https://lh3.googleusercontent.com/a-/AOh14GjZCSDPGcvkRjbVwz4l4zBrB1rUCc6TW93wGHysug=s64",
      "userId": "08952150216285672278"
     },
     "user_tz": -330
    },
    "id": "_1fqs_KgzrF7",
    "outputId": "6661b48c-dfe8-43db-c91b-6e16a342841d"
   },
   "outputs": [
    {
     "data": {
      "text/plain": [
       "Id              0\n",
       "OwnerUserId     0\n",
       "CreationDate    0\n",
       "ParentId        0\n",
       "Score           0\n",
       "Body            0\n",
       "dtype: int64"
      ]
     },
     "execution_count": 14,
     "metadata": {
      "tags": []
     },
     "output_type": "execute_result"
    }
   ],
   "source": [
    "df_Answers[\"OwnerUserId\"] = df_Answers[\"OwnerUserId\"].fillna(0)\n",
    "null_cols_Answers = df_Answers.isnull().sum()\n",
    "null_cols_Answers"
   ]
  },
  {
   "cell_type": "code",
   "execution_count": 15,
   "metadata": {
    "colab": {
     "base_uri": "https://localhost:8080/"
    },
    "executionInfo": {
     "elapsed": 318522,
     "status": "ok",
     "timestamp": 1606148069058,
     "user": {
      "displayName": "Anannya Roy Chowdhury",
      "photoUrl": "https://lh3.googleusercontent.com/a-/AOh14GjZCSDPGcvkRjbVwz4l4zBrB1rUCc6TW93wGHysug=s64",
      "userId": "08952150216285672278"
     },
     "user_tz": -330
    },
    "id": "pzok1Wlp0gyM",
    "outputId": "8c5cd5fd-11a8-4c78-8822-0b2d07270161"
   },
   "outputs": [
    {
     "name": "stdout",
     "output_type": "stream",
     "text": [
      "<class 'pandas.core.frame.DataFrame'>\n",
      "RangeIndex: 2014516 entries, 0 to 2014515\n",
      "Data columns (total 6 columns):\n",
      " #   Column        Dtype \n",
      "---  ------        ----- \n",
      " 0   Id            int64 \n",
      " 1   OwnerUserId   int64 \n",
      " 2   CreationDate  object\n",
      " 3   ParentId      int64 \n",
      " 4   Score         int64 \n",
      " 5   Body          object\n",
      "dtypes: int64(4), object(2)\n",
      "memory usage: 92.2+ MB\n"
     ]
    }
   ],
   "source": [
    "df_Answers[\"OwnerUserId\"] = df_Answers[\"OwnerUserId\"].astype('int64')\n",
    "df_Answers.info()"
   ]
  },
  {
   "cell_type": "markdown",
   "metadata": {
    "id": "jM9EVp0AHpP_"
   },
   "source": [
    "### ***Tags***"
   ]
  },
  {
   "cell_type": "code",
   "execution_count": 16,
   "metadata": {
    "colab": {
     "base_uri": "https://localhost:8080/",
     "height": 197
    },
    "executionInfo": {
     "elapsed": 325247,
     "status": "ok",
     "timestamp": 1606148075794,
     "user": {
      "displayName": "Anannya Roy Chowdhury",
      "photoUrl": "https://lh3.googleusercontent.com/a-/AOh14GjZCSDPGcvkRjbVwz4l4zBrB1rUCc6TW93wGHysug=s64",
      "userId": "08952150216285672278"
     },
     "user_tz": -330
    },
    "id": "9IWf8dJjRPXH",
    "outputId": "503de4f0-08fa-4814-ad5e-faa7655e7290"
   },
   "outputs": [
    {
     "data": {
      "text/html": [
       "<div>\n",
       "<style scoped>\n",
       "    .dataframe tbody tr th:only-of-type {\n",
       "        vertical-align: middle;\n",
       "    }\n",
       "\n",
       "    .dataframe tbody tr th {\n",
       "        vertical-align: top;\n",
       "    }\n",
       "\n",
       "    .dataframe thead th {\n",
       "        text-align: right;\n",
       "    }\n",
       "</style>\n",
       "<table border=\"1\" class=\"dataframe\">\n",
       "  <thead>\n",
       "    <tr style=\"text-align: right;\">\n",
       "      <th></th>\n",
       "      <th>Id</th>\n",
       "      <th>Tag</th>\n",
       "    </tr>\n",
       "  </thead>\n",
       "  <tbody>\n",
       "    <tr>\n",
       "      <th>0</th>\n",
       "      <td>80</td>\n",
       "      <td>flex</td>\n",
       "    </tr>\n",
       "    <tr>\n",
       "      <th>1</th>\n",
       "      <td>80</td>\n",
       "      <td>actionscript-3</td>\n",
       "    </tr>\n",
       "    <tr>\n",
       "      <th>2</th>\n",
       "      <td>80</td>\n",
       "      <td>air</td>\n",
       "    </tr>\n",
       "    <tr>\n",
       "      <th>3</th>\n",
       "      <td>90</td>\n",
       "      <td>svn</td>\n",
       "    </tr>\n",
       "    <tr>\n",
       "      <th>4</th>\n",
       "      <td>90</td>\n",
       "      <td>tortoisesvn</td>\n",
       "    </tr>\n",
       "  </tbody>\n",
       "</table>\n",
       "</div>"
      ],
      "text/plain": [
       "   Id             Tag\n",
       "0  80            flex\n",
       "1  80  actionscript-3\n",
       "2  80             air\n",
       "3  90             svn\n",
       "4  90     tortoisesvn"
      ]
     },
     "execution_count": 16,
     "metadata": {
      "tags": []
     },
     "output_type": "execute_result"
    }
   ],
   "source": [
    "df_Tags = pd.read_csv('https://stack-overflow-casestudy-datasets.s3.amazonaws.com/Tags.csv',encoding='latin_1')\n",
    "df_Tags.head()"
   ]
  },
  {
   "cell_type": "markdown",
   "metadata": {
    "id": "7h2hU0ypHwSt"
   },
   "source": [
    "##### Questions has a one-to-many relationship with Tags, as there is only one question ID and tag pair in each record"
   ]
  },
  {
   "cell_type": "code",
   "execution_count": 17,
   "metadata": {
    "colab": {
     "base_uri": "https://localhost:8080/"
    },
    "executionInfo": {
     "elapsed": 325238,
     "status": "ok",
     "timestamp": 1606148075795,
     "user": {
      "displayName": "Anannya Roy Chowdhury",
      "photoUrl": "https://lh3.googleusercontent.com/a-/AOh14GjZCSDPGcvkRjbVwz4l4zBrB1rUCc6TW93wGHysug=s64",
      "userId": "08952150216285672278"
     },
     "user_tz": -330
    },
    "id": "7UEbrlnBUj5S",
    "outputId": "23954930-202c-4f0d-e68d-6b09de977ecc"
   },
   "outputs": [
    {
     "name": "stdout",
     "output_type": "stream",
     "text": [
      "<class 'pandas.core.frame.DataFrame'>\n",
      "RangeIndex: 3750994 entries, 0 to 3750993\n",
      "Data columns (total 2 columns):\n",
      " #   Column  Dtype \n",
      "---  ------  ----- \n",
      " 0   Id      int64 \n",
      " 1   Tag     object\n",
      "dtypes: int64(1), object(1)\n",
      "memory usage: 57.2+ MB\n"
     ]
    }
   ],
   "source": [
    "df_Tags.info()"
   ]
  },
  {
   "cell_type": "code",
   "execution_count": 18,
   "metadata": {
    "colab": {
     "base_uri": "https://localhost:8080/"
    },
    "executionInfo": {
     "elapsed": 325228,
     "status": "ok",
     "timestamp": 1606148075796,
     "user": {
      "displayName": "Anannya Roy Chowdhury",
      "photoUrl": "https://lh3.googleusercontent.com/a-/AOh14GjZCSDPGcvkRjbVwz4l4zBrB1rUCc6TW93wGHysug=s64",
      "userId": "08952150216285672278"
     },
     "user_tz": -330
    },
    "id": "7HcZ_zKblln3",
    "outputId": "256bf496-220d-4372-f645-6b6f202598c8"
   },
   "outputs": [
    {
     "data": {
      "text/plain": [
       "Id        0\n",
       "Tag    1113\n",
       "dtype: int64"
      ]
     },
     "execution_count": 18,
     "metadata": {
      "tags": []
     },
     "output_type": "execute_result"
    }
   ],
   "source": [
    "# summarising number of missing values in each column\n",
    "null_cols_Tags = df_Tags.isnull().sum()\n",
    "null_cols_Tags"
   ]
  },
  {
   "cell_type": "code",
   "execution_count": 19,
   "metadata": {
    "colab": {
     "base_uri": "https://localhost:8080/"
    },
    "executionInfo": {
     "elapsed": 325216,
     "status": "ok",
     "timestamp": 1606148075797,
     "user": {
      "displayName": "Anannya Roy Chowdhury",
      "photoUrl": "https://lh3.googleusercontent.com/a-/AOh14GjZCSDPGcvkRjbVwz4l4zBrB1rUCc6TW93wGHysug=s64",
      "userId": "08952150216285672278"
     },
     "user_tz": -330
    },
    "id": "epwPF7g5xuS6",
    "outputId": "ea68182c-ff38-497d-c75b-3c9524154eb9"
   },
   "outputs": [
    {
     "data": {
      "text/plain": [
       "0"
      ]
     },
     "execution_count": 19,
     "metadata": {
      "tags": []
     },
     "output_type": "execute_result"
    }
   ],
   "source": [
    "# viewing percentage of missing values in each column before drop operation\n",
    "\n",
    "null_cols_Tags = df_Tags.isnull().sum()/len(df_Tags.index)*100\n",
    "\n",
    "# List of Columns where NA values are more than 50%\n",
    "null_cols_Tags = null_cols_Tags[null_cols_Tags.values>50]\n",
    "len(null_cols_Tags)"
   ]
  },
  {
   "cell_type": "code",
   "execution_count": 20,
   "metadata": {
    "colab": {
     "base_uri": "https://localhost:8080/"
    },
    "executionInfo": {
     "elapsed": 325207,
     "status": "ok",
     "timestamp": 1606148075798,
     "user": {
      "displayName": "Anannya Roy Chowdhury",
      "photoUrl": "https://lh3.googleusercontent.com/a-/AOh14GjZCSDPGcvkRjbVwz4l4zBrB1rUCc6TW93wGHysug=s64",
      "userId": "08952150216285672278"
     },
     "user_tz": -330
    },
    "id": "j5KENhPP6INa",
    "outputId": "d241f42d-444a-493a-a311-23abec848eda"
   },
   "outputs": [
    {
     "data": {
      "text/plain": [
       "Id     0\n",
       "Tag    0\n",
       "dtype: int64"
      ]
     },
     "execution_count": 20,
     "metadata": {
      "tags": []
     },
     "output_type": "execute_result"
    }
   ],
   "source": [
    "#Impute Tag column with mode as it is categorical\n",
    "df_Tags = df_Tags.fillna(df_Tags['Tag'].value_counts().index[0])\n",
    "df_Tags.isnull().sum()\n"
   ]
  },
  {
   "cell_type": "markdown",
   "metadata": {
    "id": "kLevWrBwK71F"
   },
   "source": [
    "\n",
    "### ***Top 10 tags with most questions***"
   ]
  },
  {
   "cell_type": "code",
   "execution_count": 21,
   "metadata": {
    "colab": {
     "base_uri": "https://localhost:8080/"
    },
    "executionInfo": {
     "elapsed": 325195,
     "status": "ok",
     "timestamp": 1606148075798,
     "user": {
      "displayName": "Anannya Roy Chowdhury",
      "photoUrl": "https://lh3.googleusercontent.com/a-/AOh14GjZCSDPGcvkRjbVwz4l4zBrB1rUCc6TW93wGHysug=s64",
      "userId": "08952150216285672278"
     },
     "user_tz": -330
    },
    "id": "zEOFpLFl5Tp_",
    "outputId": "00014188-b065-4047-8a7e-235d3117208f"
   },
   "outputs": [
    {
     "data": {
      "text/plain": [
       "javascript    125268\n",
       "java          115212\n",
       "c#            101186\n",
       "php            98808\n",
       "android        90659\n",
       "jquery         78542\n",
       "python         64601\n",
       "html           58976\n",
       "c++            47591\n",
       "ios            47009\n",
       "Name: Tag, dtype: int64"
      ]
     },
     "execution_count": 21,
     "metadata": {
      "tags": []
     },
     "output_type": "execute_result"
    }
   ],
   "source": [
    "tag_value_counts = df_Tags[\"Tag\"].value_counts()\n",
    "top_ten_tags = tag_value_counts.head(10)\n",
    "top_ten_tags"
   ]
  },
  {
   "cell_type": "code",
   "execution_count": 22,
   "metadata": {
    "colab": {
     "base_uri": "https://localhost:8080/",
     "height": 332
    },
    "executionInfo": {
     "elapsed": 325187,
     "status": "ok",
     "timestamp": 1606148075799,
     "user": {
      "displayName": "Anannya Roy Chowdhury",
      "photoUrl": "https://lh3.googleusercontent.com/a-/AOh14GjZCSDPGcvkRjbVwz4l4zBrB1rUCc6TW93wGHysug=s64",
      "userId": "08952150216285672278"
     },
     "user_tz": -330
    },
    "id": "gRIZWH1U5Ts3",
    "outputId": "d7669d80-900f-457b-9f72-351e97a91a6a"
   },
   "outputs": [
    {
     "data": {
      "text/plain": [
       "(array([0, 1, 2, 3, 4, 5, 6, 7, 8, 9]),\n",
       " <a list of 10 Text major ticklabel objects>)"
      ]
     },
     "execution_count": 22,
     "metadata": {
      "tags": []
     },
     "output_type": "execute_result"
    },
    {
     "data": {
      "image/png": "[encoded data removed]",
      "text/plain": [
       "<Figure size 432x288 with 1 Axes>"
      ]
     },
     "metadata": {
      "needs_background": "light",
      "tags": []
     },
     "output_type": "display_data"
    }
   ],
   "source": [
    "sns.barplot(x=top_ten_tags.index, y=top_ten_tags.values)\n",
    "plt.xticks(rotation=45)"
   ]
  },
  {
   "cell_type": "code",
   "execution_count": 23,
   "metadata": {
    "colab": {
     "base_uri": "https://localhost:8080/"
    },
    "executionInfo": {
     "elapsed": 325177,
     "status": "ok",
     "timestamp": 1606148075799,
     "user": {
      "displayName": "Anannya Roy Chowdhury",
      "photoUrl": "https://lh3.googleusercontent.com/a-/AOh14GjZCSDPGcvkRjbVwz4l4zBrB1rUCc6TW93wGHysug=s64",
      "userId": "08952150216285672278"
     },
     "user_tz": -330
    },
    "id": "Mso5l6Yc5TwE",
    "outputId": "39336a65-d06c-44e3-c06e-94b76760a539"
   },
   "outputs": [
    {
     "data": {
      "text/plain": [
       "javascript       125268\n",
       "java             115212\n",
       "c#               101186\n",
       "php               98808\n",
       "android           90659\n",
       "jquery            78542\n",
       "python            64601\n",
       "html              58976\n",
       "c++               47591\n",
       "ios               47009\n",
       "mysql             42464\n",
       "css               42308\n",
       "sql               35782\n",
       "asp.net           29970\n",
       "objective-c       26922\n",
       "ruby-on-rails     25789\n",
       ".net              24059\n",
       "c                 23238\n",
       "iphone            21539\n",
       "angularjs         20345\n",
       "arrays            19799\n",
       "sql-server        18160\n",
       "json              17669\n",
       "ruby              17013\n",
       "r                 15701\n",
       "Name: Tag, dtype: int64"
      ]
     },
     "execution_count": 23,
     "metadata": {
      "tags": []
     },
     "output_type": "execute_result"
    }
   ],
   "source": [
    "top_25_tags = tag_value_counts.head(25)\n",
    "top_25_tags"
   ]
  },
  {
   "cell_type": "markdown",
   "metadata": {
    "id": "PIjy6gmaLo-1"
   },
   "source": [
    "\n",
    "### ***Top 25 tags with most questions***"
   ]
  },
  {
   "cell_type": "code",
   "execution_count": 24,
   "metadata": {
    "colab": {
     "base_uri": "https://localhost:8080/",
     "height": 318
    },
    "executionInfo": {
     "elapsed": 327416,
     "status": "ok",
     "timestamp": 1606148078048,
     "user": {
      "displayName": "Anannya Roy Chowdhury",
      "photoUrl": "https://lh3.googleusercontent.com/a-/AOh14GjZCSDPGcvkRjbVwz4l4zBrB1rUCc6TW93wGHysug=s64",
      "userId": "08952150216285672278"
     },
     "user_tz": -330
    },
    "id": "R-EWL8yk5Tzi",
    "outputId": "2b7bbb4a-13f4-48dd-bcfb-719294a5b4ec"
   },
   "outputs": [
    {
     "data": {
      "text/plain": [
       "<matplotlib.axes._subplots.AxesSubplot at 0x7f6aa7769b00>"
      ]
     },
     "execution_count": 24,
     "metadata": {
      "tags": []
     },
     "output_type": "execute_result"
    },
    {
     "data": {
      "image/png": "[encoded data removed]",
      "text/plain": [
       "<Figure size 432x288 with 1 Axes>"
      ]
     },
     "metadata": {
      "needs_background": "light",
      "tags": []
     },
     "output_type": "display_data"
    }
   ],
   "source": [
    "top_25_tags_barplot = sns.barplot(x=top_25_tags.index, y=top_25_tags.values)\n",
    "for i, label in enumerate(top_25_tags_barplot.xaxis.get_ticklabels()):\n",
    "    if i % 2 != 0:\n",
    "        label.set_visible(False)\n",
    "plt.xticks(rotation=45)\n",
    "top_25_tags_barplot"
   ]
  },
  {
   "cell_type": "code",
   "execution_count": 25,
   "metadata": {
    "colab": {
     "base_uri": "https://localhost:8080/"
    },
    "executionInfo": {
     "elapsed": 327408,
     "status": "ok",
     "timestamp": 1606148078049,
     "user": {
      "displayName": "Anannya Roy Chowdhury",
      "photoUrl": "https://lh3.googleusercontent.com/a-/AOh14GjZCSDPGcvkRjbVwz4l4zBrB1rUCc6TW93wGHysug=s64",
      "userId": "08952150216285672278"
     },
     "user_tz": -330
    },
    "id": "7rkYSFT55T2o",
    "outputId": "f58b591c-5d9c-4eb7-91b2-e15f86bc7247"
   },
   "outputs": [
    {
     "data": {
      "text/plain": [
       "javascript        3.34%\n",
       "java              6.41%\n",
       "c#                9.11%\n",
       "php              11.74%\n",
       "android          14.16%\n",
       "                  ...  \n",
       "w3c-validation   89.94%\n",
       "visible          89.94%\n",
       "gpuimage         89.95%\n",
       "disk             89.95%\n",
       "jooq             89.95%\n",
       "Name: Tag, Length: 4000, dtype: float64"
      ]
     },
     "execution_count": 25,
     "metadata": {
      "tags": []
     },
     "output_type": "execute_result"
    }
   ],
   "source": [
    "pd.options.display.float_format = \"{:.2f}%\".format\n",
    "100 * tag_value_counts.head(4000).cumsum() / tag_value_counts.sum()"
   ]
  },
  {
   "cell_type": "code",
   "execution_count": 26,
   "metadata": {
    "colab": {
     "base_uri": "https://localhost:8080/",
     "height": 406
    },
    "executionInfo": {
     "elapsed": 327397,
     "status": "ok",
     "timestamp": 1606148078049,
     "user": {
      "displayName": "Anannya Roy Chowdhury",
      "photoUrl": "https://lh3.googleusercontent.com/a-/AOh14GjZCSDPGcvkRjbVwz4l4zBrB1rUCc6TW93wGHysug=s64",
      "userId": "08952150216285672278"
     },
     "user_tz": -330
    },
    "id": "pIidxanoNUlh",
    "outputId": "2c5d9aeb-a038-4015-f5ef-7b9725ad3caa"
   },
   "outputs": [
    {
     "data": {
      "text/html": [
       "<div>\n",
       "<style scoped>\n",
       "    .dataframe tbody tr th:only-of-type {\n",
       "        vertical-align: middle;\n",
       "    }\n",
       "\n",
       "    .dataframe tbody tr th {\n",
       "        vertical-align: top;\n",
       "    }\n",
       "\n",
       "    .dataframe thead th {\n",
       "        text-align: right;\n",
       "    }\n",
       "</style>\n",
       "<table border=\"1\" class=\"dataframe\">\n",
       "  <thead>\n",
       "    <tr style=\"text-align: right;\">\n",
       "      <th></th>\n",
       "      <th>Id</th>\n",
       "      <th>Tag</th>\n",
       "    </tr>\n",
       "  </thead>\n",
       "  <tbody>\n",
       "    <tr>\n",
       "      <th>7</th>\n",
       "      <td>120</td>\n",
       "      <td>sql</td>\n",
       "    </tr>\n",
       "    <tr>\n",
       "      <th>67</th>\n",
       "      <td>1970</td>\n",
       "      <td>sql</td>\n",
       "    </tr>\n",
       "    <tr>\n",
       "      <th>72</th>\n",
       "      <td>2120</td>\n",
       "      <td>sql</td>\n",
       "    </tr>\n",
       "    <tr>\n",
       "      <th>99</th>\n",
       "      <td>2840</td>\n",
       "      <td>sql</td>\n",
       "    </tr>\n",
       "    <tr>\n",
       "      <th>130</th>\n",
       "      <td>4110</td>\n",
       "      <td>sql</td>\n",
       "    </tr>\n",
       "    <tr>\n",
       "      <th>...</th>\n",
       "      <td>...</td>\n",
       "      <td>...</td>\n",
       "    </tr>\n",
       "    <tr>\n",
       "      <th>3750911</th>\n",
       "      <td>40142550</td>\n",
       "      <td>sql</td>\n",
       "    </tr>\n",
       "    <tr>\n",
       "      <th>3750921</th>\n",
       "      <td>40142600</td>\n",
       "      <td>python</td>\n",
       "    </tr>\n",
       "    <tr>\n",
       "      <th>3750940</th>\n",
       "      <td>40142840</td>\n",
       "      <td>python</td>\n",
       "    </tr>\n",
       "    <tr>\n",
       "      <th>3750945</th>\n",
       "      <td>40142860</td>\n",
       "      <td>excel</td>\n",
       "    </tr>\n",
       "    <tr>\n",
       "      <th>3750981</th>\n",
       "      <td>40143190</td>\n",
       "      <td>python</td>\n",
       "    </tr>\n",
       "  </tbody>\n",
       "</table>\n",
       "<p>133660 rows × 2 columns</p>\n",
       "</div>"
      ],
      "text/plain": [
       "               Id     Tag\n",
       "7             120     sql\n",
       "67           1970     sql\n",
       "72           2120     sql\n",
       "99           2840     sql\n",
       "130          4110     sql\n",
       "...           ...     ...\n",
       "3750911  40142550     sql\n",
       "3750921  40142600  python\n",
       "3750940  40142840  python\n",
       "3750945  40142860   excel\n",
       "3750981  40143190  python\n",
       "\n",
       "[133660 rows x 2 columns]"
      ]
     },
     "execution_count": 26,
     "metadata": {
      "tags": []
     },
     "output_type": "execute_result"
    }
   ],
   "source": [
    "# checking if data science tags present\n",
    "\n",
    "ds_tags = ['python', 'r', 'matlab', 'sas', 'excel', 'sql']\n",
    "df_Tags.loc[df_Tags['Tag'].isin(ds_tags)]"
   ]
  },
  {
   "cell_type": "code",
   "execution_count": 27,
   "metadata": {
    "executionInfo": {
     "elapsed": 327391,
     "status": "ok",
     "timestamp": 1606148078050,
     "user": {
      "displayName": "Anannya Roy Chowdhury",
      "photoUrl": "https://lh3.googleusercontent.com/a-/AOh14GjZCSDPGcvkRjbVwz4l4zBrB1rUCc6TW93wGHysug=s64",
      "userId": "08952150216285672278"
     },
     "user_tz": -330
    },
    "id": "bo-l5yyLJIln"
   },
   "outputs": [],
   "source": [
    "df_Tags = df_Tags.loc[df_Tags['Tag'].isin(ds_tags)]\n"
   ]
  },
  {
   "cell_type": "code",
   "execution_count": 28,
   "metadata": {
    "colab": {
     "base_uri": "https://localhost:8080/"
    },
    "executionInfo": {
     "elapsed": 327384,
     "status": "ok",
     "timestamp": 1606148078051,
     "user": {
      "displayName": "Anannya Roy Chowdhury",
      "photoUrl": "https://lh3.googleusercontent.com/a-/AOh14GjZCSDPGcvkRjbVwz4l4zBrB1rUCc6TW93wGHysug=s64",
      "userId": "08952150216285672278"
     },
     "user_tz": -330
    },
    "id": "rwA8vVsZZAXi",
    "outputId": "9ff5119e-96d8-4b61-c20d-d1298e07fb5c"
   },
   "outputs": [
    {
     "name": "stdout",
     "output_type": "stream",
     "text": [
      "<class 'pandas.core.frame.DataFrame'>\n",
      "Int64Index: 133660 entries, 7 to 3750981\n",
      "Data columns (total 2 columns):\n",
      " #   Column  Non-Null Count   Dtype \n",
      "---  ------  --------------   ----- \n",
      " 0   Id      133660 non-null  int64 \n",
      " 1   Tag     133660 non-null  object\n",
      "dtypes: int64(1), object(1)\n",
      "memory usage: 3.1+ MB\n"
     ]
    },
    {
     "data": {
      "text/plain": [
       "python    64601\n",
       "sql       35782\n",
       "r         15701\n",
       "excel     10384\n",
       "matlab     6495\n",
       "sas         697\n",
       "Name: Tag, dtype: int64"
      ]
     },
     "execution_count": 28,
     "metadata": {
      "tags": []
     },
     "output_type": "execute_result"
    }
   ],
   "source": [
    "df_Tags.shape\n",
    "df_Tags.info()\n",
    "df_Tags['Tag'].value_counts()"
   ]
  },
  {
   "cell_type": "code",
   "execution_count": 29,
   "metadata": {
    "colab": {
     "base_uri": "https://localhost:8080/",
     "height": 285
    },
    "executionInfo": {
     "elapsed": 327375,
     "status": "ok",
     "timestamp": 1606148078051,
     "user": {
      "displayName": "Anannya Roy Chowdhury",
      "photoUrl": "https://lh3.googleusercontent.com/a-/AOh14GjZCSDPGcvkRjbVwz4l4zBrB1rUCc6TW93wGHysug=s64",
      "userId": "08952150216285672278"
     },
     "user_tz": -330
    },
    "id": "l20-My1KeUk5",
    "outputId": "90798977-e274-4fcf-8f1f-51d31a234300"
   },
   "outputs": [
    {
     "data": {
      "image/png": "[encoded data removed]",
      "text/plain": [
       "<Figure size 432x288 with 1 Axes>"
      ]
     },
     "metadata": {
      "tags": []
     },
     "output_type": "display_data"
    }
   ],
   "source": [
    "sns.set_theme(style=\"darkgrid\")\n",
    "ax = sns.countplot(x='Tag', data=df_Tags)"
   ]
  },
  {
   "cell_type": "markdown",
   "metadata": {
    "id": "eqLbOLdWHr3k"
   },
   "source": [
    "### ***Users***"
   ]
  },
  {
   "cell_type": "code",
   "execution_count": 30,
   "metadata": {
    "colab": {
     "base_uri": "https://localhost:8080/",
     "height": 197
    },
    "executionInfo": {
     "elapsed": 346588,
     "status": "ok",
     "timestamp": 1606148097274,
     "user": {
      "displayName": "Anannya Roy Chowdhury",
      "photoUrl": "https://lh3.googleusercontent.com/a-/AOh14GjZCSDPGcvkRjbVwz4l4zBrB1rUCc6TW93wGHysug=s64",
      "userId": "08952150216285672278"
     },
     "user_tz": -330
    },
    "id": "Ryjk2TzMRPoj",
    "outputId": "0633d74e-2f79-4fd7-fabc-672e86c72829"
   },
   "outputs": [
    {
     "data": {
      "text/html": [
       "<div>\n",
       "<style scoped>\n",
       "    .dataframe tbody tr th:only-of-type {\n",
       "        vertical-align: middle;\n",
       "    }\n",
       "\n",
       "    .dataframe tbody tr th {\n",
       "        vertical-align: top;\n",
       "    }\n",
       "\n",
       "    .dataframe thead th {\n",
       "        text-align: right;\n",
       "    }\n",
       "</style>\n",
       "<table border=\"1\" class=\"dataframe\">\n",
       "  <thead>\n",
       "    <tr style=\"text-align: right;\">\n",
       "      <th></th>\n",
       "      <th>Unnamed: 0</th>\n",
       "      <th>id</th>\n",
       "      <th>display_name</th>\n",
       "      <th>creation_date</th>\n",
       "      <th>last_access_date</th>\n",
       "      <th>reputation</th>\n",
       "      <th>up_votes</th>\n",
       "      <th>down_votes</th>\n",
       "      <th>views</th>\n",
       "    </tr>\n",
       "  </thead>\n",
       "  <tbody>\n",
       "    <tr>\n",
       "      <th>0</th>\n",
       "      <td>0</td>\n",
       "      <td>26</td>\n",
       "      <td>Shawn</td>\n",
       "      <td>2008-08-01 12:18:14.52 UTC</td>\n",
       "      <td>2018-04-11 04:40:35.66 UTC</td>\n",
       "      <td>11820</td>\n",
       "      <td>565</td>\n",
       "      <td>67</td>\n",
       "      <td>3547</td>\n",
       "    </tr>\n",
       "    <tr>\n",
       "      <th>1</th>\n",
       "      <td>1</td>\n",
       "      <td>26</td>\n",
       "      <td>Shawn</td>\n",
       "      <td>2008-08-01 12:18:14.52 UTC</td>\n",
       "      <td>2018-04-11 04:40:35.66 UTC</td>\n",
       "      <td>11820</td>\n",
       "      <td>565</td>\n",
       "      <td>67</td>\n",
       "      <td>3547</td>\n",
       "    </tr>\n",
       "    <tr>\n",
       "      <th>2</th>\n",
       "      <td>2</td>\n",
       "      <td>26</td>\n",
       "      <td>Shawn</td>\n",
       "      <td>2008-08-01 12:18:14.52 UTC</td>\n",
       "      <td>2018-04-11 04:40:35.66 UTC</td>\n",
       "      <td>11820</td>\n",
       "      <td>565</td>\n",
       "      <td>67</td>\n",
       "      <td>3547</td>\n",
       "    </tr>\n",
       "    <tr>\n",
       "      <th>3</th>\n",
       "      <td>3</td>\n",
       "      <td>26</td>\n",
       "      <td>Shawn</td>\n",
       "      <td>2008-08-01 12:18:14.52 UTC</td>\n",
       "      <td>2018-04-11 04:40:35.66 UTC</td>\n",
       "      <td>11820</td>\n",
       "      <td>565</td>\n",
       "      <td>67</td>\n",
       "      <td>3547</td>\n",
       "    </tr>\n",
       "    <tr>\n",
       "      <th>4</th>\n",
       "      <td>4</td>\n",
       "      <td>26</td>\n",
       "      <td>Shawn</td>\n",
       "      <td>2008-08-01 12:18:14.52 UTC</td>\n",
       "      <td>2018-04-11 04:40:35.66 UTC</td>\n",
       "      <td>11820</td>\n",
       "      <td>565</td>\n",
       "      <td>67</td>\n",
       "      <td>3547</td>\n",
       "    </tr>\n",
       "  </tbody>\n",
       "</table>\n",
       "</div>"
      ],
      "text/plain": [
       "   Unnamed: 0  id display_name  ... up_votes down_votes  views\n",
       "0           0  26        Shawn  ...      565         67   3547\n",
       "1           1  26        Shawn  ...      565         67   3547\n",
       "2           2  26        Shawn  ...      565         67   3547\n",
       "3           3  26        Shawn  ...      565         67   3547\n",
       "4           4  26        Shawn  ...      565         67   3547\n",
       "\n",
       "[5 rows x 9 columns]"
      ]
     },
     "execution_count": 30,
     "metadata": {
      "tags": []
     },
     "output_type": "execute_result"
    }
   ],
   "source": [
    "df_Users = pd.read_csv('https://stack-overflow-casestudy-datasets.s3.amazonaws.com/Users.csv',encoding='latin_1')\n",
    "df_Users.head()"
   ]
  },
  {
   "cell_type": "code",
   "execution_count": 31,
   "metadata": {
    "colab": {
     "base_uri": "https://localhost:8080/",
     "height": 566
    },
    "executionInfo": {
     "elapsed": 346578,
     "status": "ok",
     "timestamp": 1606148097275,
     "user": {
      "displayName": "Anannya Roy Chowdhury",
      "photoUrl": "https://lh3.googleusercontent.com/a-/AOh14GjZCSDPGcvkRjbVwz4l4zBrB1rUCc6TW93wGHysug=s64",
      "userId": "08952150216285672278"
     },
     "user_tz": -330
    },
    "id": "0n9FWVUFRkys",
    "outputId": "4c22487b-7267-4077-8dda-06243103a00b"
   },
   "outputs": [
    {
     "name": "stdout",
     "output_type": "stream",
     "text": [
      "<class 'pandas.core.frame.DataFrame'>\n",
      "RangeIndex: 1990480 entries, 0 to 1990479\n",
      "Data columns (total 9 columns):\n",
      " #   Column            Dtype \n",
      "---  ------            ----- \n",
      " 0   Unnamed: 0        int64 \n",
      " 1   id                int64 \n",
      " 2   display_name      object\n",
      " 3   creation_date     object\n",
      " 4   last_access_date  object\n",
      " 5   reputation        int64 \n",
      " 6   up_votes          int64 \n",
      " 7   down_votes        int64 \n",
      " 8   views             int64 \n",
      "dtypes: int64(6), object(3)\n",
      "memory usage: 136.7+ MB\n"
     ]
    },
    {
     "data": {
      "text/html": [
       "<div>\n",
       "<style scoped>\n",
       "    .dataframe tbody tr th:only-of-type {\n",
       "        vertical-align: middle;\n",
       "    }\n",
       "\n",
       "    .dataframe tbody tr th {\n",
       "        vertical-align: top;\n",
       "    }\n",
       "\n",
       "    .dataframe thead th {\n",
       "        text-align: right;\n",
       "    }\n",
       "</style>\n",
       "<table border=\"1\" class=\"dataframe\">\n",
       "  <thead>\n",
       "    <tr style=\"text-align: right;\">\n",
       "      <th></th>\n",
       "      <th>Unnamed: 0</th>\n",
       "      <th>id</th>\n",
       "      <th>reputation</th>\n",
       "      <th>up_votes</th>\n",
       "      <th>down_votes</th>\n",
       "      <th>views</th>\n",
       "    </tr>\n",
       "  </thead>\n",
       "  <tbody>\n",
       "    <tr>\n",
       "      <th>count</th>\n",
       "      <td>1990480.00%</td>\n",
       "      <td>1990480.00%</td>\n",
       "      <td>1990480.00%</td>\n",
       "      <td>1990480.00%</td>\n",
       "      <td>1990480.00%</td>\n",
       "      <td>1990480.00%</td>\n",
       "    </tr>\n",
       "    <tr>\n",
       "      <th>mean</th>\n",
       "      <td>995239.50%</td>\n",
       "      <td>1480736.92%</td>\n",
       "      <td>45455.04%</td>\n",
       "      <td>1539.70%</td>\n",
       "      <td>821.24%</td>\n",
       "      <td>9450.82%</td>\n",
       "    </tr>\n",
       "    <tr>\n",
       "      <th>std</th>\n",
       "      <td>574602.23%</td>\n",
       "      <td>1543848.19%</td>\n",
       "      <td>122637.78%</td>\n",
       "      <td>3494.25%</td>\n",
       "      <td>4199.03%</td>\n",
       "      <td>78775.72%</td>\n",
       "    </tr>\n",
       "    <tr>\n",
       "      <th>min</th>\n",
       "      <td>0.00%</td>\n",
       "      <td>1.00%</td>\n",
       "      <td>1.00%</td>\n",
       "      <td>0.00%</td>\n",
       "      <td>0.00%</td>\n",
       "      <td>0.00%</td>\n",
       "    </tr>\n",
       "    <tr>\n",
       "      <th>25%</th>\n",
       "      <td>497619.75%</td>\n",
       "      <td>279761.75%</td>\n",
       "      <td>931.00%</td>\n",
       "      <td>58.00%</td>\n",
       "      <td>2.00%</td>\n",
       "      <td>109.00%</td>\n",
       "    </tr>\n",
       "    <tr>\n",
       "      <th>50%</th>\n",
       "      <td>995239.50%</td>\n",
       "      <td>949476.00%</td>\n",
       "      <td>5042.00%</td>\n",
       "      <td>353.00%</td>\n",
       "      <td>18.00%</td>\n",
       "      <td>529.00%</td>\n",
       "    </tr>\n",
       "    <tr>\n",
       "      <th>75%</th>\n",
       "      <td>1492859.25%</td>\n",
       "      <td>2183668.50%</td>\n",
       "      <td>28061.00%</td>\n",
       "      <td>1470.00%</td>\n",
       "      <td>149.00%</td>\n",
       "      <td>2675.00%</td>\n",
       "    </tr>\n",
       "    <tr>\n",
       "      <th>max</th>\n",
       "      <td>1990479.00%</td>\n",
       "      <td>7045028.00%</td>\n",
       "      <td>1128126.00%</td>\n",
       "      <td>100520.00%</td>\n",
       "      <td>74955.00%</td>\n",
       "      <td>1835157.00%</td>\n",
       "    </tr>\n",
       "  </tbody>\n",
       "</table>\n",
       "</div>"
      ],
      "text/plain": [
       "       Unnamed: 0          id  reputation    up_votes  down_votes       views\n",
       "count 1990480.00% 1990480.00% 1990480.00% 1990480.00% 1990480.00% 1990480.00%\n",
       "mean   995239.50% 1480736.92%   45455.04%    1539.70%     821.24%    9450.82%\n",
       "std    574602.23% 1543848.19%  122637.78%    3494.25%    4199.03%   78775.72%\n",
       "min         0.00%       1.00%       1.00%       0.00%       0.00%       0.00%\n",
       "25%    497619.75%  279761.75%     931.00%      58.00%       2.00%     109.00%\n",
       "50%    995239.50%  949476.00%    5042.00%     353.00%      18.00%     529.00%\n",
       "75%   1492859.25% 2183668.50%   28061.00%    1470.00%     149.00%    2675.00%\n",
       "max   1990479.00% 7045028.00% 1128126.00%  100520.00%   74955.00% 1835157.00%"
      ]
     },
     "execution_count": 31,
     "metadata": {
      "tags": []
     },
     "output_type": "execute_result"
    }
   ],
   "source": [
    "df_Users.info()\n",
    "df_Users.describe()"
   ]
  },
  {
   "cell_type": "code",
   "execution_count": 32,
   "metadata": {
    "colab": {
     "base_uri": "https://localhost:8080/"
    },
    "executionInfo": {
     "elapsed": 346569,
     "status": "ok",
     "timestamp": 1606148097277,
     "user": {
      "displayName": "Anannya Roy Chowdhury",
      "photoUrl": "https://lh3.googleusercontent.com/a-/AOh14GjZCSDPGcvkRjbVwz4l4zBrB1rUCc6TW93wGHysug=s64",
      "userId": "08952150216285672278"
     },
     "user_tz": -330
    },
    "id": "W9vh9uPZlnkR",
    "outputId": "4e518a4f-0322-42ad-8cce-33c0ff81c524"
   },
   "outputs": [
    {
     "data": {
      "text/plain": [
       "Unnamed: 0            0\n",
       "id                    0\n",
       "display_name        136\n",
       "creation_date         0\n",
       "last_access_date      0\n",
       "reputation            0\n",
       "up_votes              0\n",
       "down_votes            0\n",
       "views                 0\n",
       "dtype: int64"
      ]
     },
     "execution_count": 32,
     "metadata": {
      "tags": []
     },
     "output_type": "execute_result"
    }
   ],
   "source": [
    "# summarising number of missing values in each column\n",
    "null_cols_Users = df_Users.isnull().sum()\n",
    "null_cols_Users"
   ]
  },
  {
   "cell_type": "code",
   "execution_count": 33,
   "metadata": {
    "colab": {
     "base_uri": "https://localhost:8080/"
    },
    "executionInfo": {
     "elapsed": 346563,
     "status": "ok",
     "timestamp": 1606148097281,
     "user": {
      "displayName": "Anannya Roy Chowdhury",
      "photoUrl": "https://lh3.googleusercontent.com/a-/AOh14GjZCSDPGcvkRjbVwz4l4zBrB1rUCc6TW93wGHysug=s64",
      "userId": "08952150216285672278"
     },
     "user_tz": -330
    },
    "id": "l5E16pcjxxG5",
    "outputId": "08499ace-4444-4667-8d03-08d5fc3b0ac8"
   },
   "outputs": [
    {
     "data": {
      "text/plain": [
       "0"
      ]
     },
     "execution_count": 33,
     "metadata": {
      "tags": []
     },
     "output_type": "execute_result"
    }
   ],
   "source": [
    "# viewing percentage of missing values in each column before drop operation\n",
    "\n",
    "null_cols_Users = df_Users.isnull().sum()/len(df_Users.index)*100\n",
    "\n",
    "# List of Columns where NA values are more than 50%\n",
    "null_cols_Users = null_cols_Users[null_cols_Users.values>50]\n",
    "len(null_cols_Users)"
   ]
  },
  {
   "cell_type": "code",
   "execution_count": 34,
   "metadata": {
    "colab": {
     "base_uri": "https://localhost:8080/",
     "height": 197
    },
    "executionInfo": {
     "elapsed": 346547,
     "status": "ok",
     "timestamp": 1606148097285,
     "user": {
      "displayName": "Anannya Roy Chowdhury",
      "photoUrl": "https://lh3.googleusercontent.com/a-/AOh14GjZCSDPGcvkRjbVwz4l4zBrB1rUCc6TW93wGHysug=s64",
      "userId": "08952150216285672278"
     },
     "user_tz": -330
    },
    "id": "ZcMTdoW-EC9h",
    "outputId": "4cae99d9-e261-4afd-d073-960901b68a2c"
   },
   "outputs": [
    {
     "data": {
      "text/html": [
       "<div>\n",
       "<style scoped>\n",
       "    .dataframe tbody tr th:only-of-type {\n",
       "        vertical-align: middle;\n",
       "    }\n",
       "\n",
       "    .dataframe tbody tr th {\n",
       "        vertical-align: top;\n",
       "    }\n",
       "\n",
       "    .dataframe thead th {\n",
       "        text-align: right;\n",
       "    }\n",
       "</style>\n",
       "<table border=\"1\" class=\"dataframe\">\n",
       "  <thead>\n",
       "    <tr style=\"text-align: right;\">\n",
       "      <th></th>\n",
       "      <th>id</th>\n",
       "      <th>reputation</th>\n",
       "      <th>up_votes</th>\n",
       "      <th>down_votes</th>\n",
       "      <th>views</th>\n",
       "    </tr>\n",
       "  </thead>\n",
       "  <tbody>\n",
       "    <tr>\n",
       "      <th>0</th>\n",
       "      <td>26</td>\n",
       "      <td>11820</td>\n",
       "      <td>565</td>\n",
       "      <td>67</td>\n",
       "      <td>3547</td>\n",
       "    </tr>\n",
       "    <tr>\n",
       "      <th>1</th>\n",
       "      <td>26</td>\n",
       "      <td>11820</td>\n",
       "      <td>565</td>\n",
       "      <td>67</td>\n",
       "      <td>3547</td>\n",
       "    </tr>\n",
       "    <tr>\n",
       "      <th>2</th>\n",
       "      <td>26</td>\n",
       "      <td>11820</td>\n",
       "      <td>565</td>\n",
       "      <td>67</td>\n",
       "      <td>3547</td>\n",
       "    </tr>\n",
       "    <tr>\n",
       "      <th>3</th>\n",
       "      <td>26</td>\n",
       "      <td>11820</td>\n",
       "      <td>565</td>\n",
       "      <td>67</td>\n",
       "      <td>3547</td>\n",
       "    </tr>\n",
       "    <tr>\n",
       "      <th>4</th>\n",
       "      <td>26</td>\n",
       "      <td>11820</td>\n",
       "      <td>565</td>\n",
       "      <td>67</td>\n",
       "      <td>3547</td>\n",
       "    </tr>\n",
       "  </tbody>\n",
       "</table>\n",
       "</div>"
      ],
      "text/plain": [
       "   id  reputation  up_votes  down_votes  views\n",
       "0  26       11820       565          67   3547\n",
       "1  26       11820       565          67   3547\n",
       "2  26       11820       565          67   3547\n",
       "3  26       11820       565          67   3547\n",
       "4  26       11820       565          67   3547"
      ]
     },
     "execution_count": 34,
     "metadata": {
      "tags": []
     },
     "output_type": "execute_result"
    }
   ],
   "source": [
    "#Removing other columns which are not required\n",
    "\n",
    "drop_cols=['creation_date', 'last_access_date', 'display_name','Unnamed: 0']\n",
    "df_Users.drop(labels=drop_cols,axis=1,inplace=True)\n",
    "df_Users.head()"
   ]
  },
  {
   "cell_type": "code",
   "execution_count": 35,
   "metadata": {
    "colab": {
     "base_uri": "https://localhost:8080/",
     "height": 382
    },
    "executionInfo": {
     "elapsed": 346535,
     "status": "ok",
     "timestamp": 1606148097287,
     "user": {
      "displayName": "Anannya Roy Chowdhury",
      "photoUrl": "https://lh3.googleusercontent.com/a-/AOh14GjZCSDPGcvkRjbVwz4l4zBrB1rUCc6TW93wGHysug=s64",
      "userId": "08952150216285672278"
     },
     "user_tz": -330
    },
    "id": "jVnvg-4glO2E",
    "outputId": "0643fcc1-14e8-43d2-e229-6e71744a189f"
   },
   "outputs": [
    {
     "name": "stdout",
     "output_type": "stream",
     "text": [
      "Shape of Dataframe before drop (1990480, 5)\n",
      "Shape of Dataframe after drop (465460, 5)\n"
     ]
    },
    {
     "data": {
      "text/html": [
       "<div>\n",
       "<style scoped>\n",
       "    .dataframe tbody tr th:only-of-type {\n",
       "        vertical-align: middle;\n",
       "    }\n",
       "\n",
       "    .dataframe tbody tr th {\n",
       "        vertical-align: top;\n",
       "    }\n",
       "\n",
       "    .dataframe thead th {\n",
       "        text-align: right;\n",
       "    }\n",
       "</style>\n",
       "<table border=\"1\" class=\"dataframe\">\n",
       "  <thead>\n",
       "    <tr style=\"text-align: right;\">\n",
       "      <th></th>\n",
       "      <th>id</th>\n",
       "      <th>reputation</th>\n",
       "      <th>up_votes</th>\n",
       "      <th>down_votes</th>\n",
       "      <th>views</th>\n",
       "    </tr>\n",
       "  </thead>\n",
       "  <tbody>\n",
       "    <tr>\n",
       "      <th>0</th>\n",
       "      <td>26</td>\n",
       "      <td>11820</td>\n",
       "      <td>565</td>\n",
       "      <td>67</td>\n",
       "      <td>3547</td>\n",
       "    </tr>\n",
       "    <tr>\n",
       "      <th>27</th>\n",
       "      <td>1109</td>\n",
       "      <td>116072</td>\n",
       "      <td>457</td>\n",
       "      <td>136</td>\n",
       "      <td>6905</td>\n",
       "    </tr>\n",
       "    <tr>\n",
       "      <th>85</th>\n",
       "      <td>364174</td>\n",
       "      <td>325</td>\n",
       "      <td>25</td>\n",
       "      <td>1</td>\n",
       "      <td>60</td>\n",
       "    </tr>\n",
       "    <tr>\n",
       "      <th>87</th>\n",
       "      <td>61</td>\n",
       "      <td>22779</td>\n",
       "      <td>1321</td>\n",
       "      <td>219</td>\n",
       "      <td>1731</td>\n",
       "    </tr>\n",
       "    <tr>\n",
       "      <th>97</th>\n",
       "      <td>20709</td>\n",
       "      <td>978</td>\n",
       "      <td>73</td>\n",
       "      <td>2</td>\n",
       "      <td>96</td>\n",
       "    </tr>\n",
       "    <tr>\n",
       "      <th>99</th>\n",
       "      <td>16012</td>\n",
       "      <td>19888</td>\n",
       "      <td>484</td>\n",
       "      <td>30</td>\n",
       "      <td>1823</td>\n",
       "    </tr>\n",
       "    <tr>\n",
       "      <th>105</th>\n",
       "      <td>12734</td>\n",
       "      <td>695</td>\n",
       "      <td>35</td>\n",
       "      <td>0</td>\n",
       "      <td>105</td>\n",
       "    </tr>\n",
       "    <tr>\n",
       "      <th>107</th>\n",
       "      <td>50</td>\n",
       "      <td>8525</td>\n",
       "      <td>814</td>\n",
       "      <td>50</td>\n",
       "      <td>1731</td>\n",
       "    </tr>\n",
       "    <tr>\n",
       "      <th>129</th>\n",
       "      <td>86</td>\n",
       "      <td>4839</td>\n",
       "      <td>1760</td>\n",
       "      <td>60</td>\n",
       "      <td>554</td>\n",
       "    </tr>\n",
       "    <tr>\n",
       "      <th>143</th>\n",
       "      <td>157</td>\n",
       "      <td>41717</td>\n",
       "      <td>1491</td>\n",
       "      <td>588</td>\n",
       "      <td>2102</td>\n",
       "    </tr>\n",
       "  </tbody>\n",
       "</table>\n",
       "</div>"
      ],
      "text/plain": [
       "         id  reputation  up_votes  down_votes  views\n",
       "0        26       11820       565          67   3547\n",
       "27     1109      116072       457         136   6905\n",
       "85   364174         325        25           1     60\n",
       "87       61       22779      1321         219   1731\n",
       "97    20709         978        73           2     96\n",
       "99    16012       19888       484          30   1823\n",
       "105   12734         695        35           0    105\n",
       "107      50        8525       814          50   1731\n",
       "129      86        4839      1760          60    554\n",
       "143     157       41717      1491         588   2102"
      ]
     },
     "execution_count": 35,
     "metadata": {
      "tags": []
     },
     "output_type": "execute_result"
    }
   ],
   "source": [
    "# removing duplicate user ids\n",
    "print(\"Shape of Dataframe before drop\",df_Users.shape)\n",
    "df_Users.drop_duplicates(subset=['id'], keep='first', inplace=True)\n",
    "print(\"Shape of Dataframe after drop\",df_Users.shape)\n",
    "df_Users.head(10)"
   ]
  },
  {
   "cell_type": "markdown",
   "metadata": {
    "id": "U8IDiLIfhHq_"
   },
   "source": [
    "#### Combining relevant dataframes together and dropping duplicates\n",
    "\n"
   ]
  },
  {
   "cell_type": "markdown",
   "metadata": {
    "id": "zELOH76UNKtt"
   },
   "source": [
    "**Joining Questions with Tags and Answers**"
   ]
  },
  {
   "cell_type": "code",
   "execution_count": 36,
   "metadata": {
    "executionInfo": {
     "elapsed": 346536,
     "status": "ok",
     "timestamp": 1606148097296,
     "user": {
      "displayName": "Anannya Roy Chowdhury",
      "photoUrl": "https://lh3.googleusercontent.com/a-/AOh14GjZCSDPGcvkRjbVwz4l4zBrB1rUCc6TW93wGHysug=s64",
      "userId": "08952150216285672278"
     },
     "user_tz": -330
    },
    "id": "GAlaxX7r5T6B"
   },
   "outputs": [],
   "source": [
    "# standardize column names\n",
    "for df in [df_Question, df_Tags,df_Answers,df_Users]:\n",
    "    df.columns = df.columns.str.lower()"
   ]
  },
  {
   "cell_type": "code",
   "execution_count": 37,
   "metadata": {
    "executionInfo": {
     "elapsed": 346533,
     "status": "ok",
     "timestamp": 1606148097298,
     "user": {
      "displayName": "Anannya Roy Chowdhury",
      "photoUrl": "https://lh3.googleusercontent.com/a-/AOh14GjZCSDPGcvkRjbVwz4l4zBrB1rUCc6TW93wGHysug=s64",
      "userId": "08952150216285672278"
     },
     "user_tz": -330
    },
    "id": "xXmXbR1dtTiv"
   },
   "outputs": [],
   "source": [
    "df_Question.rename(columns = {'body' : 'body_quest'}, inplace = True)"
   ]
  },
  {
   "cell_type": "code",
   "execution_count": 38,
   "metadata": {
    "colab": {
     "base_uri": "https://localhost:8080/"
    },
    "executionInfo": {
     "elapsed": 350546,
     "status": "ok",
     "timestamp": 1606148101318,
     "user": {
      "displayName": "Anannya Roy Chowdhury",
      "photoUrl": "https://lh3.googleusercontent.com/a-/AOh14GjZCSDPGcvkRjbVwz4l4zBrB1rUCc6TW93wGHysug=s64",
      "userId": "08952150216285672278"
     },
     "user_tz": -330
    },
    "id": "R2BMNrqxrV9r",
    "outputId": "1773196a-cc22-46ff-e51a-fcbbd1f23ba3"
   },
   "outputs": [
    {
     "name": "stdout",
     "output_type": "stream",
     "text": [
      "CPU times: user 2.56 s, sys: 0 ns, total: 2.56 s\n",
      "Wall time: 2.57 s\n"
     ]
    }
   ],
   "source": [
    "%%time\n",
    "# group rows per question id\n",
    "tags_per_question_df = df_Tags.groupby(['id'])['tag'].apply(list)"
   ]
  },
  {
   "cell_type": "code",
   "execution_count": 39,
   "metadata": {
    "colab": {
     "base_uri": "https://localhost:8080/"
    },
    "executionInfo": {
     "elapsed": 372630,
     "status": "ok",
     "timestamp": 1606148123413,
     "user": {
      "displayName": "Anannya Roy Chowdhury",
      "photoUrl": "https://lh3.googleusercontent.com/a-/AOh14GjZCSDPGcvkRjbVwz4l4zBrB1rUCc6TW93wGHysug=s64",
      "userId": "08952150216285672278"
     },
     "user_tz": -330
    },
    "id": "R96kzMsJbO8x",
    "outputId": "7b204625-14de-4b87-97c2-e67dcd6d963b"
   },
   "outputs": [
    {
     "name": "stdout",
     "output_type": "stream",
     "text": [
      "CPU times: user 23.1 s, sys: 0 ns, total: 23.1 s\n",
      "Wall time: 23.1 s\n"
     ]
    }
   ],
   "source": [
    "%%time\n",
    "# group rows per question id\n",
    "answers_per_question_df_body = df_Answers.groupby(['parentid'])['body'].apply(list)"
   ]
  },
  {
   "cell_type": "code",
   "execution_count": 40,
   "metadata": {
    "colab": {
     "base_uri": "https://localhost:8080/"
    },
    "executionInfo": {
     "elapsed": 459964,
     "status": "ok",
     "timestamp": 1606148210757,
     "user": {
      "displayName": "Anannya Roy Chowdhury",
      "photoUrl": "https://lh3.googleusercontent.com/a-/AOh14GjZCSDPGcvkRjbVwz4l4zBrB1rUCc6TW93wGHysug=s64",
      "userId": "08952150216285672278"
     },
     "user_tz": -330
    },
    "id": "vhsWrLrApvfH",
    "outputId": "b7c02789-dbb5-4db3-f4c9-81c5e678e0fb"
   },
   "outputs": [
    {
     "name": "stdout",
     "output_type": "stream",
     "text": [
      "CPU times: user 1min 27s, sys: 0 ns, total: 1min 27s\n",
      "Wall time: 1min 27s\n"
     ]
    }
   ],
   "source": [
    "%%time\n",
    "# group rows per question id\n",
    "answers_per_question_df_score = df_Answers.groupby(['parentid'])['score'].apply(np.sum)"
   ]
  },
  {
   "cell_type": "code",
   "execution_count": 41,
   "metadata": {
    "colab": {
     "base_uri": "https://localhost:8080/"
    },
    "executionInfo": {
     "elapsed": 459954,
     "status": "ok",
     "timestamp": 1606148210758,
     "user": {
      "displayName": "Anannya Roy Chowdhury",
      "photoUrl": "https://lh3.googleusercontent.com/a-/AOh14GjZCSDPGcvkRjbVwz4l4zBrB1rUCc6TW93wGHysug=s64",
      "userId": "08952150216285672278"
     },
     "user_tz": -330
    },
    "id": "W2CJV00-8XA4",
    "outputId": "9ea7fc43-b45d-4a8a-ef07-e01aba90058c"
   },
   "outputs": [
    {
     "data": {
      "text/plain": [
       "parentid\n",
       "80     19\n",
       "90     34\n",
       "120     9\n",
       "180    54\n",
       "260    63\n",
       "Name: score, dtype: int64"
      ]
     },
     "execution_count": 41,
     "metadata": {
      "tags": []
     },
     "output_type": "execute_result"
    }
   ],
   "source": [
    "answers_per_question_df_score.head()"
   ]
  },
  {
   "cell_type": "code",
   "execution_count": 42,
   "metadata": {
    "colab": {
     "base_uri": "https://localhost:8080/"
    },
    "executionInfo": {
     "elapsed": 459944,
     "status": "ok",
     "timestamp": 1606148210759,
     "user": {
      "displayName": "Anannya Roy Chowdhury",
      "photoUrl": "https://lh3.googleusercontent.com/a-/AOh14GjZCSDPGcvkRjbVwz4l4zBrB1rUCc6TW93wGHysug=s64",
      "userId": "08952150216285672278"
     },
     "user_tz": -330
    },
    "id": "Tr_zYa5-bPDS",
    "outputId": "959afcd3-0bfc-4b8a-c308-ecbc07a51404"
   },
   "outputs": [
    {
     "name": "stdout",
     "output_type": "stream",
     "text": [
      "CPU times: user 588 ms, sys: 0 ns, total: 588 ms\n",
      "Wall time: 589 ms\n"
     ]
    }
   ],
   "source": [
    "%%time\n",
    "# we are only interested in text column from 'df_answers'\n",
    "df =  df_Question.merge(answers_per_question_df_score.to_frame(), left_on=\"id\",right_on='parentid')"
   ]
  },
  {
   "cell_type": "code",
   "execution_count": 43,
   "metadata": {
    "colab": {
     "base_uri": "https://localhost:8080/",
     "height": 197
    },
    "executionInfo": {
     "elapsed": 459933,
     "status": "ok",
     "timestamp": 1606148210759,
     "user": {
      "displayName": "Anannya Roy Chowdhury",
      "photoUrl": "https://lh3.googleusercontent.com/a-/AOh14GjZCSDPGcvkRjbVwz4l4zBrB1rUCc6TW93wGHysug=s64",
      "userId": "08952150216285672278"
     },
     "user_tz": -330
    },
    "id": "WH3ihdPVbO6V",
    "outputId": "e1fae1d8-5df2-4332-ac61-bb6dde146333"
   },
   "outputs": [
    {
     "data": {
      "text/html": [
       "<div>\n",
       "<style scoped>\n",
       "    .dataframe tbody tr th:only-of-type {\n",
       "        vertical-align: middle;\n",
       "    }\n",
       "\n",
       "    .dataframe tbody tr th {\n",
       "        vertical-align: top;\n",
       "    }\n",
       "\n",
       "    .dataframe thead th {\n",
       "        text-align: right;\n",
       "    }\n",
       "</style>\n",
       "<table border=\"1\" class=\"dataframe\">\n",
       "  <thead>\n",
       "    <tr style=\"text-align: right;\">\n",
       "      <th></th>\n",
       "      <th>id</th>\n",
       "      <th>creationdate</th>\n",
       "      <th>score_x</th>\n",
       "      <th>title</th>\n",
       "      <th>body_quest</th>\n",
       "      <th>score_y</th>\n",
       "    </tr>\n",
       "  </thead>\n",
       "  <tbody>\n",
       "    <tr>\n",
       "      <th>0</th>\n",
       "      <td>80</td>\n",
       "      <td>2008-08-01T13:57:07Z</td>\n",
       "      <td>26</td>\n",
       "      <td>SQLStatement.execute() - multiple queries in o...</td>\n",
       "      <td>&lt;p&gt;I've written a database generation script i...</td>\n",
       "      <td>19</td>\n",
       "    </tr>\n",
       "    <tr>\n",
       "      <th>1</th>\n",
       "      <td>90</td>\n",
       "      <td>2008-08-01T14:41:24Z</td>\n",
       "      <td>144</td>\n",
       "      <td>Good branching and merging tutorials for Torto...</td>\n",
       "      <td>&lt;p&gt;Are there any really good tutorials explain...</td>\n",
       "      <td>34</td>\n",
       "    </tr>\n",
       "    <tr>\n",
       "      <th>2</th>\n",
       "      <td>120</td>\n",
       "      <td>2008-08-01T15:50:08Z</td>\n",
       "      <td>21</td>\n",
       "      <td>ASP.NET Site Maps</td>\n",
       "      <td>&lt;p&gt;Has anyone got experience creating &lt;strong&gt;...</td>\n",
       "      <td>9</td>\n",
       "    </tr>\n",
       "    <tr>\n",
       "      <th>3</th>\n",
       "      <td>180</td>\n",
       "      <td>2008-08-01T18:42:19Z</td>\n",
       "      <td>53</td>\n",
       "      <td>Function for creating color wheels</td>\n",
       "      <td>&lt;p&gt;This is something I've pseudo-solved many t...</td>\n",
       "      <td>54</td>\n",
       "    </tr>\n",
       "    <tr>\n",
       "      <th>4</th>\n",
       "      <td>260</td>\n",
       "      <td>2008-08-01T23:22:08Z</td>\n",
       "      <td>49</td>\n",
       "      <td>Adding scripting functionality to .NET applica...</td>\n",
       "      <td>&lt;p&gt;I have a little game written in C#. It uses...</td>\n",
       "      <td>63</td>\n",
       "    </tr>\n",
       "  </tbody>\n",
       "</table>\n",
       "</div>"
      ],
      "text/plain": [
       "    id  ... score_y\n",
       "0   80  ...      19\n",
       "1   90  ...      34\n",
       "2  120  ...       9\n",
       "3  180  ...      54\n",
       "4  260  ...      63\n",
       "\n",
       "[5 rows x 6 columns]"
      ]
     },
     "execution_count": 43,
     "metadata": {
      "tags": []
     },
     "output_type": "execute_result"
    }
   ],
   "source": [
    "df.head()"
   ]
  },
  {
   "cell_type": "code",
   "execution_count": 44,
   "metadata": {
    "executionInfo": {
     "elapsed": 459926,
     "status": "ok",
     "timestamp": 1606148210760,
     "user": {
      "displayName": "Anannya Roy Chowdhury",
      "photoUrl": "https://lh3.googleusercontent.com/a-/AOh14GjZCSDPGcvkRjbVwz4l4zBrB1rUCc6TW93wGHysug=s64",
      "userId": "08952150216285672278"
     },
     "user_tz": -330
    },
    "id": "E3vneO14sM6r"
   },
   "outputs": [],
   "source": [
    "df.rename(columns = {'score_x' : 'score_quest', 'score_y' : 'score_ans'}, inplace = True)\n"
   ]
  },
  {
   "cell_type": "code",
   "execution_count": 45,
   "metadata": {
    "colab": {
     "base_uri": "https://localhost:8080/"
    },
    "executionInfo": {
     "elapsed": 459920,
     "status": "ok",
     "timestamp": 1606148210761,
     "user": {
      "displayName": "Anannya Roy Chowdhury",
      "photoUrl": "https://lh3.googleusercontent.com/a-/AOh14GjZCSDPGcvkRjbVwz4l4zBrB1rUCc6TW93wGHysug=s64",
      "userId": "08952150216285672278"
     },
     "user_tz": -330
    },
    "id": "BD6TJ_8yvcSs",
    "outputId": "8bc61078-7d3a-4403-c88e-743d2e1fe2d2"
   },
   "outputs": [
    {
     "name": "stdout",
     "output_type": "stream",
     "text": [
      "CPU times: user 443 ms, sys: 0 ns, total: 443 ms\n",
      "Wall time: 445 ms\n"
     ]
    }
   ],
   "source": [
    "%%time\n",
    "# we are only interested in text column from 'df_answers'\n",
    "df =  df.merge(answers_per_question_df_body.to_frame(), left_on=\"id\",right_on='parentid')"
   ]
  },
  {
   "cell_type": "code",
   "execution_count": 46,
   "metadata": {
    "colab": {
     "base_uri": "https://localhost:8080/"
    },
    "executionInfo": {
     "elapsed": 459910,
     "status": "ok",
     "timestamp": 1606148210762,
     "user": {
      "displayName": "Anannya Roy Chowdhury",
      "photoUrl": "https://lh3.googleusercontent.com/a-/AOh14GjZCSDPGcvkRjbVwz4l4zBrB1rUCc6TW93wGHysug=s64",
      "userId": "08952150216285672278"
     },
     "user_tz": -330
    },
    "id": "mn6opZuQbO34",
    "outputId": "a65630bb-4e24-4a81-8ed1-7af336003fe0"
   },
   "outputs": [
    {
     "name": "stdout",
     "output_type": "stream",
     "text": [
      "CPU times: user 275 ms, sys: 0 ns, total: 275 ms\n",
      "Wall time: 275 ms\n"
     ]
    }
   ],
   "source": [
    "%%time\n",
    "# we are only interested in text column from 'df_tags'\n",
    "df =  df.merge(tags_per_question_df.to_frame(), on='id')"
   ]
  },
  {
   "cell_type": "code",
   "execution_count": 47,
   "metadata": {
    "colab": {
     "base_uri": "https://localhost:8080/",
     "height": 347
    },
    "executionInfo": {
     "elapsed": 459898,
     "status": "ok",
     "timestamp": 1606148210763,
     "user": {
      "displayName": "Anannya Roy Chowdhury",
      "photoUrl": "https://lh3.googleusercontent.com/a-/AOh14GjZCSDPGcvkRjbVwz4l4zBrB1rUCc6TW93wGHysug=s64",
      "userId": "08952150216285672278"
     },
     "user_tz": -330
    },
    "id": "j2dJ06EuNhF9",
    "outputId": "6dcc702c-80ea-4704-df05-3e91bc99080a"
   },
   "outputs": [
    {
     "data": {
      "text/html": [
       "<div>\n",
       "<style scoped>\n",
       "    .dataframe tbody tr th:only-of-type {\n",
       "        vertical-align: middle;\n",
       "    }\n",
       "\n",
       "    .dataframe tbody tr th {\n",
       "        vertical-align: top;\n",
       "    }\n",
       "\n",
       "    .dataframe thead th {\n",
       "        text-align: right;\n",
       "    }\n",
       "</style>\n",
       "<table border=\"1\" class=\"dataframe\">\n",
       "  <thead>\n",
       "    <tr style=\"text-align: right;\">\n",
       "      <th></th>\n",
       "      <th>id</th>\n",
       "      <th>creationdate</th>\n",
       "      <th>score_quest</th>\n",
       "      <th>title</th>\n",
       "      <th>body_quest</th>\n",
       "      <th>score_ans</th>\n",
       "      <th>body</th>\n",
       "      <th>tag</th>\n",
       "    </tr>\n",
       "  </thead>\n",
       "  <tbody>\n",
       "    <tr>\n",
       "      <th>0</th>\n",
       "      <td>120</td>\n",
       "      <td>2008-08-01T15:50:08Z</td>\n",
       "      <td>21</td>\n",
       "      <td>ASP.NET Site Maps</td>\n",
       "      <td>&lt;p&gt;Has anyone got experience creating &lt;strong&gt;...</td>\n",
       "      <td>9</td>\n",
       "      <td>[&lt;p&gt;The Jeff Prosise version from MSDN magazin...</td>\n",
       "      <td>[sql]</td>\n",
       "    </tr>\n",
       "    <tr>\n",
       "      <th>1</th>\n",
       "      <td>1970</td>\n",
       "      <td>2008-08-05T06:39:31Z</td>\n",
       "      <td>10</td>\n",
       "      <td>What language do you use for PostgreSQL trigge...</td>\n",
       "      <td>&lt;p&gt;PostgreSQL is interesting in that it suppor...</td>\n",
       "      <td>22</td>\n",
       "      <td>[&lt;p&gt;When I wrote my first trigger it was in Pe...</td>\n",
       "      <td>[sql]</td>\n",
       "    </tr>\n",
       "    <tr>\n",
       "      <th>2</th>\n",
       "      <td>2120</td>\n",
       "      <td>2008-08-05T11:49:11Z</td>\n",
       "      <td>77</td>\n",
       "      <td>Convert HashBytes to VarChar</td>\n",
       "      <td>&lt;p&gt;I want to get the MD5 Hash of a string valu...</td>\n",
       "      <td>191</td>\n",
       "      <td>[&lt;p&gt;I have found the solution else where:&lt;/p&gt;\\...</td>\n",
       "      <td>[sql]</td>\n",
       "    </tr>\n",
       "    <tr>\n",
       "      <th>3</th>\n",
       "      <td>2840</td>\n",
       "      <td>2008-08-05T20:57:00Z</td>\n",
       "      <td>32</td>\n",
       "      <td>Paging SQL Server 2005 Results</td>\n",
       "      <td>&lt;p&gt;How do I page results in SQL Server 2005?&lt;/...</td>\n",
       "      <td>52</td>\n",
       "      <td>[&lt;p&gt;You can use &lt;code&gt;the Row_Number()&lt;/code&gt; ...</td>\n",
       "      <td>[sql]</td>\n",
       "    </tr>\n",
       "    <tr>\n",
       "      <th>4</th>\n",
       "      <td>4110</td>\n",
       "      <td>2008-08-06T23:19:50Z</td>\n",
       "      <td>7</td>\n",
       "      <td>What program can I use to generate diagrams of...</td>\n",
       "      <td>&lt;p&gt;I've been tasked with redesigning part of a...</td>\n",
       "      <td>5</td>\n",
       "      <td>[&lt;P&gt;If you are talking about MS SQL Server tab...</td>\n",
       "      <td>[sql]</td>\n",
       "    </tr>\n",
       "    <tr>\n",
       "      <th>5</th>\n",
       "      <td>6340</td>\n",
       "      <td>2008-08-08T20:07:43Z</td>\n",
       "      <td>10</td>\n",
       "      <td>Multiple foreign keys?</td>\n",
       "      <td>&lt;p&gt;I've got a table that is supposed to track ...</td>\n",
       "      <td>7</td>\n",
       "      <td>[&lt;p&gt;You defined the primary key twice. Try:&lt;/p...</td>\n",
       "      <td>[sql]</td>\n",
       "    </tr>\n",
       "    <tr>\n",
       "      <th>6</th>\n",
       "      <td>10190</td>\n",
       "      <td>2008-08-13T18:38:02Z</td>\n",
       "      <td>10</td>\n",
       "      <td>How to return a page of results from SQL?</td>\n",
       "      <td>&lt;p&gt;Many applications have grids that display d...</td>\n",
       "      <td>23</td>\n",
       "      <td>[&lt;p&gt;On MS SQL Server 2005 and above, &lt;a href=\"...</td>\n",
       "      <td>[sql]</td>\n",
       "    </tr>\n",
       "    <tr>\n",
       "      <th>7</th>\n",
       "      <td>11060</td>\n",
       "      <td>2008-08-14T13:59:21Z</td>\n",
       "      <td>18</td>\n",
       "      <td>How should I unit test a code-generator?</td>\n",
       "      <td>&lt;p&gt;This is a difficult and open-ended question...</td>\n",
       "      <td>12</td>\n",
       "      <td>[&lt;p&gt;I started writing up a summary of my exper...</td>\n",
       "      <td>[python]</td>\n",
       "    </tr>\n",
       "    <tr>\n",
       "      <th>8</th>\n",
       "      <td>13540</td>\n",
       "      <td>2008-08-17T06:48:50Z</td>\n",
       "      <td>83</td>\n",
       "      <td>Insert Update stored proc on SQL Server</td>\n",
       "      <td>&lt;p&gt;I've written a stored proc that will do an ...</td>\n",
       "      <td>117</td>\n",
       "      <td>[&lt;p&gt;Your assumption is right, this is the opti...</td>\n",
       "      <td>[sql]</td>\n",
       "    </tr>\n",
       "    <tr>\n",
       "      <th>9</th>\n",
       "      <td>17250</td>\n",
       "      <td>2008-08-20T00:16:40Z</td>\n",
       "      <td>24</td>\n",
       "      <td>Create an encrypted ZIP file in Python</td>\n",
       "      <td>&lt;p&gt;I'm creating an ZIP file with ZipFile in Py...</td>\n",
       "      <td>16</td>\n",
       "      <td>[&lt;p&gt;You can use the &lt;a href=\"http://www.chilka...</td>\n",
       "      <td>[python]</td>\n",
       "    </tr>\n",
       "  </tbody>\n",
       "</table>\n",
       "</div>"
      ],
      "text/plain": [
       "      id  ...       tag\n",
       "0    120  ...     [sql]\n",
       "1   1970  ...     [sql]\n",
       "2   2120  ...     [sql]\n",
       "3   2840  ...     [sql]\n",
       "4   4110  ...     [sql]\n",
       "5   6340  ...     [sql]\n",
       "6  10190  ...     [sql]\n",
       "7  11060  ...  [python]\n",
       "8  13540  ...     [sql]\n",
       "9  17250  ...  [python]\n",
       "\n",
       "[10 rows x 8 columns]"
      ]
     },
     "execution_count": 47,
     "metadata": {
      "tags": []
     },
     "output_type": "execute_result"
    }
   ],
   "source": [
    "df.head(10)"
   ]
  },
  {
   "cell_type": "code",
   "execution_count": 48,
   "metadata": {
    "executionInfo": {
     "elapsed": 459891,
     "status": "ok",
     "timestamp": 1606148210763,
     "user": {
      "displayName": "Anannya Roy Chowdhury",
      "photoUrl": "https://lh3.googleusercontent.com/a-/AOh14GjZCSDPGcvkRjbVwz4l4zBrB1rUCc6TW93wGHysug=s64",
      "userId": "08952150216285672278"
     },
     "user_tz": -330
    },
    "id": "4EetoZpfv6Vf"
   },
   "outputs": [],
   "source": [
    "df.rename(columns = {'body' : 'body_ans'}, inplace = True)"
   ]
  },
  {
   "cell_type": "code",
   "execution_count": 49,
   "metadata": {
    "executionInfo": {
     "elapsed": 461385,
     "status": "ok",
     "timestamp": 1606148212263,
     "user": {
      "displayName": "Anannya Roy Chowdhury",
      "photoUrl": "https://lh3.googleusercontent.com/a-/AOh14GjZCSDPGcvkRjbVwz4l4zBrB1rUCc6TW93wGHysug=s64",
      "userId": "08952150216285672278"
     },
     "user_tz": -330
    },
    "id": "FBnSCbZs0Pgh"
   },
   "outputs": [],
   "source": [
    "df['tags'] = [' '.join(map(str, l)) for l in df['tag']]\n",
    "df.drop(labels='tag',axis=1,inplace=True)\n",
    "df[\"tag_count\"] = df[\"tags\"].apply(lambda text: len(text.split(\" \")))"
   ]
  },
  {
   "cell_type": "code",
   "execution_count": 50,
   "metadata": {
    "colab": {
     "base_uri": "https://localhost:8080/",
     "height": 406
    },
    "executionInfo": {
     "elapsed": 461377,
     "status": "ok",
     "timestamp": 1606148212264,
     "user": {
      "displayName": "Anannya Roy Chowdhury",
      "photoUrl": "https://lh3.googleusercontent.com/a-/AOh14GjZCSDPGcvkRjbVwz4l4zBrB1rUCc6TW93wGHysug=s64",
      "userId": "08952150216285672278"
     },
     "user_tz": -330
    },
    "id": "1VDu5sByOp2o",
    "outputId": "ae3324cc-219a-49bb-9773-8d2006ca8a88"
   },
   "outputs": [
    {
     "data": {
      "text/html": [
       "<div>\n",
       "<style scoped>\n",
       "    .dataframe tbody tr th:only-of-type {\n",
       "        vertical-align: middle;\n",
       "    }\n",
       "\n",
       "    .dataframe tbody tr th {\n",
       "        vertical-align: top;\n",
       "    }\n",
       "\n",
       "    .dataframe thead th {\n",
       "        text-align: right;\n",
       "    }\n",
       "</style>\n",
       "<table border=\"1\" class=\"dataframe\">\n",
       "  <thead>\n",
       "    <tr style=\"text-align: right;\">\n",
       "      <th></th>\n",
       "      <th>id</th>\n",
       "      <th>creationdate</th>\n",
       "      <th>score_quest</th>\n",
       "      <th>title</th>\n",
       "      <th>body_quest</th>\n",
       "      <th>score_ans</th>\n",
       "      <th>body_ans</th>\n",
       "      <th>tags</th>\n",
       "      <th>tag_count</th>\n",
       "    </tr>\n",
       "  </thead>\n",
       "  <tbody>\n",
       "    <tr>\n",
       "      <th>43049</th>\n",
       "      <td>18614630</td>\n",
       "      <td>2013-09-04T13:02:47Z</td>\n",
       "      <td>0</td>\n",
       "      <td>Looking for an algorithm to count the number o...</td>\n",
       "      <td>&lt;p&gt;I need your help in constructing an algorit...</td>\n",
       "      <td>1</td>\n",
       "      <td>[&lt;p&gt;Look at the Matlab function &lt;code&gt;perms&lt;/c...</td>\n",
       "      <td>python r matlab</td>\n",
       "      <td>3</td>\n",
       "    </tr>\n",
       "    <tr>\n",
       "      <th>16762</th>\n",
       "      <td>8457110</td>\n",
       "      <td>2011-12-10T14:15:41Z</td>\n",
       "      <td>3</td>\n",
       "      <td>How to vectorize the evaluation of bilinear &amp; ...</td>\n",
       "      <td>&lt;p&gt;Given any &lt;em&gt;n&lt;/em&gt; x &lt;em&gt;n&lt;/em&gt; matrix of...</td>\n",
       "      <td>4</td>\n",
       "      <td>[&lt;p&gt;It's not entirely clear what you're trying...</td>\n",
       "      <td>python r matlab</td>\n",
       "      <td>3</td>\n",
       "    </tr>\n",
       "    <tr>\n",
       "      <th>47866</th>\n",
       "      <td>20151800</td>\n",
       "      <td>2013-11-22T18:19:20Z</td>\n",
       "      <td>1</td>\n",
       "      <td>Trying to replace a value in a sheet.row list ...</td>\n",
       "      <td>&lt;p&gt;I imported an excel spreadsheet and I am tr...</td>\n",
       "      <td>4</td>\n",
       "      <td>[&lt;p&gt;xlrd isn't really set up to edit the sprea...</td>\n",
       "      <td>python sql excel</td>\n",
       "      <td>3</td>\n",
       "    </tr>\n",
       "    <tr>\n",
       "      <th>80655</th>\n",
       "      <td>29918720</td>\n",
       "      <td>2015-04-28T11:53:11Z</td>\n",
       "      <td>1</td>\n",
       "      <td>Calculating Other records dissimilarity measur...</td>\n",
       "      <td>&lt;p&gt;Say I define dissimilarity/similarity of a ...</td>\n",
       "      <td>0</td>\n",
       "      <td>[&lt;p&gt;Here is a generalized way by converting to...</td>\n",
       "      <td>sql r sas</td>\n",
       "      <td>3</td>\n",
       "    </tr>\n",
       "    <tr>\n",
       "      <th>92692</th>\n",
       "      <td>33316150</td>\n",
       "      <td>2015-10-24T08:32:47Z</td>\n",
       "      <td>1</td>\n",
       "      <td>Create 20 unique bingo cards</td>\n",
       "      <td>&lt;p&gt;I'm trying to create 20 unique cards with n...</td>\n",
       "      <td>1</td>\n",
       "      <td>[&lt;p&gt;One 3x3 matrix with the desired value rang...</td>\n",
       "      <td>sql r excel</td>\n",
       "      <td>3</td>\n",
       "    </tr>\n",
       "    <tr>\n",
       "      <th>...</th>\n",
       "      <td>...</td>\n",
       "      <td>...</td>\n",
       "      <td>...</td>\n",
       "      <td>...</td>\n",
       "      <td>...</td>\n",
       "      <td>...</td>\n",
       "      <td>...</td>\n",
       "      <td>...</td>\n",
       "      <td>...</td>\n",
       "    </tr>\n",
       "    <tr>\n",
       "      <th>39350</th>\n",
       "      <td>17373600</td>\n",
       "      <td>2013-06-28T21:00:33Z</td>\n",
       "      <td>1</td>\n",
       "      <td>Django foreign key model is not saving reference</td>\n",
       "      <td>&lt;p&gt;I am having an issue on saving my model, my...</td>\n",
       "      <td>2</td>\n",
       "      <td>[&lt;p&gt;Here&lt;/p&gt;\\n\\n&lt;pre&gt;&lt;code&gt;up.user = u\\nu.save...</td>\n",
       "      <td>python</td>\n",
       "      <td>1</td>\n",
       "    </tr>\n",
       "    <tr>\n",
       "      <th>39349</th>\n",
       "      <td>17371700</td>\n",
       "      <td>2013-06-28T18:53:35Z</td>\n",
       "      <td>0</td>\n",
       "      <td>Python, tkinter - check to see if a window is ...</td>\n",
       "      <td>&lt;p&gt;Just to warn all of you nice people: I'm re...</td>\n",
       "      <td>1</td>\n",
       "      <td>[&lt;p&gt;Here is a way to tell if a window is runni...</td>\n",
       "      <td>python</td>\n",
       "      <td>1</td>\n",
       "    </tr>\n",
       "    <tr>\n",
       "      <th>39348</th>\n",
       "      <td>17371690</td>\n",
       "      <td>2013-06-28T18:53:12Z</td>\n",
       "      <td>1</td>\n",
       "      <td>Is there a better way to write this Oracle SQL...</td>\n",
       "      <td>&lt;p&gt;For a table in an Oracle 11g database:&lt;/p&gt;\\...</td>\n",
       "      <td>3</td>\n",
       "      <td>[&lt;p&gt;There is a more \"modern\" way to do this, u...</td>\n",
       "      <td>sql</td>\n",
       "      <td>1</td>\n",
       "    </tr>\n",
       "    <tr>\n",
       "      <th>39347</th>\n",
       "      <td>17370970</td>\n",
       "      <td>2013-06-28T18:02:55Z</td>\n",
       "      <td>0</td>\n",
       "      <td>SAS %let statement to equal a called upon valu...</td>\n",
       "      <td>&lt;p&gt;Is it possible to assign a &lt;code&gt;%let&lt;/code...</td>\n",
       "      <td>2</td>\n",
       "      <td>[&lt;p&gt;%Let statements aren't very flexible for t...</td>\n",
       "      <td>sas</td>\n",
       "      <td>1</td>\n",
       "    </tr>\n",
       "    <tr>\n",
       "      <th>117535</th>\n",
       "      <td>40143190</td>\n",
       "      <td>2016-10-19T23:36:01Z</td>\n",
       "      <td>1</td>\n",
       "      <td>How to execute multiline python code from a ba...</td>\n",
       "      <td>&lt;p&gt;I need to extend a shell script (bash). As ...</td>\n",
       "      <td>5</td>\n",
       "      <td>[&lt;p&gt;Use a here-doc:&lt;/p&gt;\\n\\n&lt;pre&gt;&lt;code&gt;result=$...</td>\n",
       "      <td>python</td>\n",
       "      <td>1</td>\n",
       "    </tr>\n",
       "  </tbody>\n",
       "</table>\n",
       "<p>117536 rows × 9 columns</p>\n",
       "</div>"
      ],
      "text/plain": [
       "              id          creationdate  ...              tags tag_count\n",
       "43049   18614630  2013-09-04T13:02:47Z  ...   python r matlab         3\n",
       "16762    8457110  2011-12-10T14:15:41Z  ...   python r matlab         3\n",
       "47866   20151800  2013-11-22T18:19:20Z  ...  python sql excel         3\n",
       "80655   29918720  2015-04-28T11:53:11Z  ...         sql r sas         3\n",
       "92692   33316150  2015-10-24T08:32:47Z  ...       sql r excel         3\n",
       "...          ...                   ...  ...               ...       ...\n",
       "39350   17373600  2013-06-28T21:00:33Z  ...            python         1\n",
       "39349   17371700  2013-06-28T18:53:35Z  ...            python         1\n",
       "39348   17371690  2013-06-28T18:53:12Z  ...               sql         1\n",
       "39347   17370970  2013-06-28T18:02:55Z  ...               sas         1\n",
       "117535  40143190  2016-10-19T23:36:01Z  ...            python         1\n",
       "\n",
       "[117536 rows x 9 columns]"
      ]
     },
     "execution_count": 50,
     "metadata": {
      "tags": []
     },
     "output_type": "execute_result"
    }
   ],
   "source": [
    "df.sort_values(by='tag_count', ascending=False)"
   ]
  },
  {
   "cell_type": "code",
   "execution_count": 51,
   "metadata": {
    "colab": {
     "base_uri": "https://localhost:8080/"
    },
    "executionInfo": {
     "elapsed": 461367,
     "status": "ok",
     "timestamp": 1606148212264,
     "user": {
      "displayName": "Anannya Roy Chowdhury",
      "photoUrl": "https://lh3.googleusercontent.com/a-/AOh14GjZCSDPGcvkRjbVwz4l4zBrB1rUCc6TW93wGHysug=s64",
      "userId": "08952150216285672278"
     },
     "user_tz": -330
    },
    "id": "TVfULJoIrwDB",
    "outputId": "4fb67fd2-a1ab-461a-f9e9-a6148902003a"
   },
   "outputs": [
    {
     "name": "stdout",
     "output_type": "stream",
     "text": [
      "Shape of Dataframe before drop (117536, 9)\n",
      "Shape of Dataframe after drop (117536, 9)\n"
     ]
    }
   ],
   "source": [
    "print(\"Shape of Dataframe before drop\",df.shape)\n",
    "df.drop_duplicates(subset=['title', 'body_quest','tags'], keep='first', inplace=True)\n",
    "print(\"Shape of Dataframe after drop\",df.shape)"
   ]
  },
  {
   "cell_type": "code",
   "execution_count": 52,
   "metadata": {
    "colab": {
     "base_uri": "https://localhost:8080/"
    },
    "executionInfo": {
     "elapsed": 461358,
     "status": "ok",
     "timestamp": 1606148212265,
     "user": {
      "displayName": "Anannya Roy Chowdhury",
      "photoUrl": "https://lh3.googleusercontent.com/a-/AOh14GjZCSDPGcvkRjbVwz4l4zBrB1rUCc6TW93wGHysug=s64",
      "userId": "08952150216285672278"
     },
     "user_tz": -330
    },
    "id": "tSF3nY632DbB",
    "outputId": "a9eb8906-a5c3-47c0-e223-ccd42cc99bad"
   },
   "outputs": [
    {
     "name": "stdout",
     "output_type": "stream",
     "text": [
      "Shape of Dataframe before drop (117536, 9)\n",
      "Shape of Dataframe after drop (117536, 9)\n"
     ]
    }
   ],
   "source": [
    "print(\"Shape of Dataframe before drop\",df.shape)\n",
    "df.drop_duplicates(subset=['body_quest','tags'], keep='first', inplace=True)\n",
    "print(\"Shape of Dataframe after drop\",df.shape)"
   ]
  },
  {
   "cell_type": "code",
   "execution_count": 53,
   "metadata": {
    "colab": {
     "base_uri": "https://localhost:8080/"
    },
    "executionInfo": {
     "elapsed": 461348,
     "status": "ok",
     "timestamp": 1606148212266,
     "user": {
      "displayName": "Anannya Roy Chowdhury",
      "photoUrl": "https://lh3.googleusercontent.com/a-/AOh14GjZCSDPGcvkRjbVwz4l4zBrB1rUCc6TW93wGHysug=s64",
      "userId": "08952150216285672278"
     },
     "user_tz": -330
    },
    "id": "gVrfGPY_2Dgt",
    "outputId": "61bd2d32-9e71-490c-d658-83faca2d6232"
   },
   "outputs": [
    {
     "name": "stdout",
     "output_type": "stream",
     "text": [
      "Shape of Dataframe before drop (117536, 9)\n",
      "Shape of Dataframe after drop (117522, 9)\n"
     ]
    }
   ],
   "source": [
    "print(\"Shape of Dataframe before drop\",df.shape)\n",
    "df.drop_duplicates(subset=['title','tags'], keep='first', inplace=True)\n",
    "print(\"Shape of Dataframe after drop\",df.shape)"
   ]
  },
  {
   "cell_type": "code",
   "execution_count": 54,
   "metadata": {
    "colab": {
     "base_uri": "https://localhost:8080/"
    },
    "executionInfo": {
     "elapsed": 464024,
     "status": "ok",
     "timestamp": 1606148214952,
     "user": {
      "displayName": "Anannya Roy Chowdhury",
      "photoUrl": "https://lh3.googleusercontent.com/a-/AOh14GjZCSDPGcvkRjbVwz4l4zBrB1rUCc6TW93wGHysug=s64",
      "userId": "08952150216285672278"
     },
     "user_tz": -330
    },
    "id": "ZPt9-KwT2DlP",
    "outputId": "99c86249-bdb0-45d5-b693-61cf4bce698d"
   },
   "outputs": [
    {
     "name": "stdout",
     "output_type": "stream",
     "text": [
      "Shape of Dataframe before drop (117522, 9)\n",
      "Shape of Dataframe after drop (117522, 9)\n"
     ]
    }
   ],
   "source": [
    "print(\"Shape of Dataframe before drop\",df.shape)\n",
    "df.drop_duplicates(subset=['title', 'body_quest'], keep='first', inplace=True)\n",
    "print(\"Shape of Dataframe after drop\",df.shape)"
   ]
  },
  {
   "cell_type": "markdown",
   "metadata": {
    "id": "XxuO9XRrOx6y"
   },
   "source": [
    "##### ***Minimum, maximum and average tags per question***"
   ]
  },
  {
   "cell_type": "code",
   "execution_count": 55,
   "metadata": {
    "colab": {
     "base_uri": "https://localhost:8080/"
    },
    "executionInfo": {
     "elapsed": 464014,
     "status": "ok",
     "timestamp": 1606148214953,
     "user": {
      "displayName": "Anannya Roy Chowdhury",
      "photoUrl": "https://lh3.googleusercontent.com/a-/AOh14GjZCSDPGcvkRjbVwz4l4zBrB1rUCc6TW93wGHysug=s64",
      "userId": "08952150216285672278"
     },
     "user_tz": -330
    },
    "id": "0XNwLC3FOr1s",
    "outputId": "4803e1f8-e36e-491e-91a8-eb2e278ed34f"
   },
   "outputs": [
    {
     "name": "stdout",
     "output_type": "stream",
     "text": [
      "Each question has a minimum of 1 tag and a maximum of 3 tags. The average number of tags per question is 1.01.\n"
     ]
    }
   ],
   "source": [
    "min_tag_count = df[\"tag_count\"].min()\n",
    "max_tag_count = df[\"tag_count\"].max()\n",
    "avg_tag_count = df[\"tag_count\"].mean()\n",
    "\n",
    "print(f\"Each question has a minimum of {min_tag_count} tag and a maximum of {max_tag_count} tags. \\\n",
    "The average number of tags per question is {avg_tag_count:.2f}.\")"
   ]
  },
  {
   "cell_type": "code",
   "execution_count": 56,
   "metadata": {
    "colab": {
     "base_uri": "https://localhost:8080/"
    },
    "executionInfo": {
     "elapsed": 464004,
     "status": "ok",
     "timestamp": 1606148214954,
     "user": {
      "displayName": "Anannya Roy Chowdhury",
      "photoUrl": "https://lh3.googleusercontent.com/a-/AOh14GjZCSDPGcvkRjbVwz4l4zBrB1rUCc6TW93wGHysug=s64",
      "userId": "08952150216285672278"
     },
     "user_tz": -330
    },
    "id": "-wH6VGSyXGZ9",
    "outputId": "e46872ab-2eab-4395-e230-b3cdd85b6109"
   },
   "outputs": [
    {
     "name": "stdout",
     "output_type": "stream",
     "text": [
      "Distribution of Tags per question:\n",
      " 1    116194\n",
      "2      1310\n",
      "3        18\n",
      "Name: tag_count, dtype: int64\n"
     ]
    }
   ],
   "source": [
    "print('Distribution of Tags per question:\\n',df['tag_count'].value_counts() )"
   ]
  },
  {
   "cell_type": "code",
   "execution_count": 57,
   "metadata": {
    "colab": {
     "base_uri": "https://localhost:8080/",
     "height": 531
    },
    "executionInfo": {
     "elapsed": 463994,
     "status": "ok",
     "timestamp": 1606148214954,
     "user": {
      "displayName": "Anannya Roy Chowdhury",
      "photoUrl": "https://lh3.googleusercontent.com/a-/AOh14GjZCSDPGcvkRjbVwz4l4zBrB1rUCc6TW93wGHysug=s64",
      "userId": "08952150216285672278"
     },
     "user_tz": -330
    },
    "id": "N3F6qVKg_ZG6",
    "outputId": "84c9f714-12f0-4820-fbc6-39f76c4499b1"
   },
   "outputs": [
    {
     "data": {
      "image/png": "[encoded data removed]",
      "text/plain": [
       "<Figure size 576x432 with 1 Axes>"
      ]
     },
     "metadata": {
      "tags": []
     },
     "output_type": "display_data"
    }
   ],
   "source": [
    "fig = plt.figure(figsize = (8, 6))\n",
    "axes = fig.add_axes([0.1,0.1,1,1])\n",
    "axes.set_title(\"Distribution of Tags per Question\", fontsize = 20)\n",
    "axes.set_xlabel(\"Tags\", fontsize = 20)\n",
    "axes.set_ylabel(\"Count\", fontsize = 20)\n",
    "plt.grid(linestyle='-', linewidth=0.5)\n",
    "axes.tick_params(labelsize = 15)\n",
    "sns.countplot(list(df['tag_count']), ax = axes)\n",
    "for i in axes.patches:\n",
    "    axes.text(i.get_x()+0.09, i.get_height()+9500, str(round(i.get_height(), 2)), fontsize=10, color='black')\n",
    "plt.show()"
   ]
  },
  {
   "cell_type": "code",
   "execution_count": 58,
   "metadata": {
    "executionInfo": {
     "elapsed": 463987,
     "status": "ok",
     "timestamp": 1606148214955,
     "user": {
      "displayName": "Anannya Roy Chowdhury",
      "photoUrl": "https://lh3.googleusercontent.com/a-/AOh14GjZCSDPGcvkRjbVwz4l4zBrB1rUCc6TW93wGHysug=s64",
      "userId": "08952150216285672278"
     },
     "user_tz": -330
    },
    "id": "CxIP5bk9XrRA"
   },
   "outputs": [],
   "source": [
    "def plot_boxplot(column):\n",
    "    plt.style.use('ggplot')\n",
    "    sns.set_style('whitegrid')\n",
    "    plt.figure(figsize = (13,15))\n",
    "    plt.boxplot(x = column, data = df)\n",
    "    plt.show()  "
   ]
  },
  {
   "cell_type": "code",
   "execution_count": 59,
   "metadata": {
    "colab": {
     "base_uri": "https://localhost:8080/",
     "height": 866
    },
    "executionInfo": {
     "elapsed": 463979,
     "status": "ok",
     "timestamp": 1606148214955,
     "user": {
      "displayName": "Anannya Roy Chowdhury",
      "photoUrl": "https://lh3.googleusercontent.com/a-/AOh14GjZCSDPGcvkRjbVwz4l4zBrB1rUCc6TW93wGHysug=s64",
      "userId": "08952150216285672278"
     },
     "user_tz": -330
    },
    "id": "azrHphEQXrUJ",
    "outputId": "08e7dae0-38e6-45b8-c8ee-41013fe35d0d"
   },
   "outputs": [
    {
     "data": {
      "image/png": "[encoded data removed]",
      "text/plain": [
       "<Figure size 936x1080 with 1 Axes>"
      ]
     },
     "metadata": {
      "tags": []
     },
     "output_type": "display_data"
    }
   ],
   "source": [
    "plot_boxplot(df['score_quest'])"
   ]
  },
  {
   "cell_type": "code",
   "execution_count": 60,
   "metadata": {
    "colab": {
     "base_uri": "https://localhost:8080/"
    },
    "executionInfo": {
     "elapsed": 463968,
     "status": "ok",
     "timestamp": 1606148214956,
     "user": {
      "displayName": "Anannya Roy Chowdhury",
      "photoUrl": "https://lh3.googleusercontent.com/a-/AOh14GjZCSDPGcvkRjbVwz4l4zBrB1rUCc6TW93wGHysug=s64",
      "userId": "08952150216285672278"
     },
     "user_tz": -330
    },
    "id": "6fsH3h3bXraK",
    "outputId": "24be9a8b-4231-4141-896d-e50ea47181df"
   },
   "outputs": [
    {
     "data": {
      "text/plain": [
       "7.0"
      ]
     },
     "execution_count": 60,
     "metadata": {
      "tags": []
     },
     "output_type": "execute_result"
    }
   ],
   "source": [
    "percentile = df['score_quest'].quantile(0.955)\n",
    "percentile"
   ]
  },
  {
   "cell_type": "code",
   "execution_count": 61,
   "metadata": {
    "executionInfo": {
     "elapsed": 463960,
     "status": "ok",
     "timestamp": 1606148214956,
     "user": {
      "displayName": "Anannya Roy Chowdhury",
      "photoUrl": "https://lh3.googleusercontent.com/a-/AOh14GjZCSDPGcvkRjbVwz4l4zBrB1rUCc6TW93wGHysug=s64",
      "userId": "08952150216285672278"
     },
     "user_tz": -330
    },
    "id": "9Bmp9VuAXrX1"
   },
   "outputs": [],
   "source": [
    "df['score_quest'][df['score_quest'] > percentile] = percentile"
   ]
  },
  {
   "cell_type": "code",
   "execution_count": 62,
   "metadata": {
    "colab": {
     "base_uri": "https://localhost:8080/",
     "height": 866
    },
    "executionInfo": {
     "elapsed": 469712,
     "status": "ok",
     "timestamp": 1606148220716,
     "user": {
      "displayName": "Anannya Roy Chowdhury",
      "photoUrl": "https://lh3.googleusercontent.com/a-/AOh14GjZCSDPGcvkRjbVwz4l4zBrB1rUCc6TW93wGHysug=s64",
      "userId": "08952150216285672278"
     },
     "user_tz": -330
    },
    "id": "x1iZ4zCY_ZQh",
    "outputId": "c22fb2c9-b6d3-4a32-9ae9-ce69e2f95983"
   },
   "outputs": [
    {
     "data": {
      "image/png": "[encoded data removed]",
      "text/plain": [
       "<Figure size 936x1080 with 1 Axes>"
      ]
     },
     "metadata": {
      "tags": []
     },
     "output_type": "display_data"
    }
   ],
   "source": [
    "plot_boxplot(df['score_quest'])"
   ]
  },
  {
   "cell_type": "code",
   "execution_count": 63,
   "metadata": {
    "colab": {
     "base_uri": "https://localhost:8080/"
    },
    "executionInfo": {
     "elapsed": 469701,
     "status": "ok",
     "timestamp": 1606148220717,
     "user": {
      "displayName": "Anannya Roy Chowdhury",
      "photoUrl": "https://lh3.googleusercontent.com/a-/AOh14GjZCSDPGcvkRjbVwz4l4zBrB1rUCc6TW93wGHysug=s64",
      "userId": "08952150216285672278"
     },
     "user_tz": -330
    },
    "id": "tRflDjD0_ZKW",
    "outputId": "ef802302-5ab2-4334-fc9b-26b7ab071752"
   },
   "outputs": [
    {
     "data": {
      "text/plain": [
       "-1.0"
      ]
     },
     "execution_count": 63,
     "metadata": {
      "tags": []
     },
     "output_type": "execute_result"
    }
   ],
   "source": [
    "percentile = df['score_quest'].quantile(0.050)\n",
    "percentile"
   ]
  },
  {
   "cell_type": "code",
   "execution_count": 64,
   "metadata": {
    "executionInfo": {
     "elapsed": 469695,
     "status": "ok",
     "timestamp": 1606148220718,
     "user": {
      "displayName": "Anannya Roy Chowdhury",
      "photoUrl": "https://lh3.googleusercontent.com/a-/AOh14GjZCSDPGcvkRjbVwz4l4zBrB1rUCc6TW93wGHysug=s64",
      "userId": "08952150216285672278"
     },
     "user_tz": -330
    },
    "id": "WGTZZmHBbKBB"
   },
   "outputs": [],
   "source": [
    "df['score_quest'][df['score_quest'] < percentile] = percentile"
   ]
  },
  {
   "cell_type": "code",
   "execution_count": 65,
   "metadata": {
    "colab": {
     "base_uri": "https://localhost:8080/",
     "height": 866
    },
    "executionInfo": {
     "elapsed": 469687,
     "status": "ok",
     "timestamp": 1606148220718,
     "user": {
      "displayName": "Anannya Roy Chowdhury",
      "photoUrl": "https://lh3.googleusercontent.com/a-/AOh14GjZCSDPGcvkRjbVwz4l4zBrB1rUCc6TW93wGHysug=s64",
      "userId": "08952150216285672278"
     },
     "user_tz": -330
    },
    "id": "nHGPfY3gbOm1",
    "outputId": "30873b61-d793-4b1c-9fb7-d2fc4c7ee2f1"
   },
   "outputs": [
    {
     "data": {
      "image/png": "[encoded data removed]",
      "text/plain": [
       "<Figure size 936x1080 with 1 Axes>"
      ]
     },
     "metadata": {
      "tags": []
     },
     "output_type": "display_data"
    }
   ],
   "source": [
    "plot_boxplot(df['score_quest'])"
   ]
  },
  {
   "cell_type": "code",
   "execution_count": 66,
   "metadata": {
    "colab": {
     "base_uri": "https://localhost:8080/",
     "height": 866
    },
    "executionInfo": {
     "elapsed": 469677,
     "status": "ok",
     "timestamp": 1606148220719,
     "user": {
      "displayName": "Anannya Roy Chowdhury",
      "photoUrl": "https://lh3.googleusercontent.com/a-/AOh14GjZCSDPGcvkRjbVwz4l4zBrB1rUCc6TW93wGHysug=s64",
      "userId": "08952150216285672278"
     },
     "user_tz": -330
    },
    "id": "9Qk_JZY6yUpt",
    "outputId": "a3b076f4-3b36-4058-9d35-3c8cae667037"
   },
   "outputs": [
    {
     "data": {
      "image/png": "[encoded data removed]",
      "text/plain": [
       "<Figure size 936x1080 with 1 Axes>"
      ]
     },
     "metadata": {
      "tags": []
     },
     "output_type": "display_data"
    }
   ],
   "source": [
    "plot_boxplot(df['score_ans'])"
   ]
  },
  {
   "cell_type": "code",
   "execution_count": 67,
   "metadata": {
    "colab": {
     "base_uri": "https://localhost:8080/"
    },
    "executionInfo": {
     "elapsed": 469667,
     "status": "ok",
     "timestamp": 1606148220720,
     "user": {
      "displayName": "Anannya Roy Chowdhury",
      "photoUrl": "https://lh3.googleusercontent.com/a-/AOh14GjZCSDPGcvkRjbVwz4l4zBrB1rUCc6TW93wGHysug=s64",
      "userId": "08952150216285672278"
     },
     "user_tz": -330
    },
    "id": "af80HYKsyUm7",
    "outputId": "0f1cb4fc-8795-43e0-b76e-1390678799ae"
   },
   "outputs": [
    {
     "data": {
      "text/plain": [
       "14.0"
      ]
     },
     "execution_count": 67,
     "metadata": {
      "tags": []
     },
     "output_type": "execute_result"
    }
   ],
   "source": [
    "percentile = df['score_ans'].quantile(0.955)\n",
    "percentile"
   ]
  },
  {
   "cell_type": "code",
   "execution_count": 68,
   "metadata": {
    "executionInfo": {
     "elapsed": 469661,
     "status": "ok",
     "timestamp": 1606148220722,
     "user": {
      "displayName": "Anannya Roy Chowdhury",
      "photoUrl": "https://lh3.googleusercontent.com/a-/AOh14GjZCSDPGcvkRjbVwz4l4zBrB1rUCc6TW93wGHysug=s64",
      "userId": "08952150216285672278"
     },
     "user_tz": -330
    },
    "id": "8K7g1YUnyUkH"
   },
   "outputs": [],
   "source": [
    "df['score_ans'][df['score_ans'] > percentile] = percentile"
   ]
  },
  {
   "cell_type": "code",
   "execution_count": 69,
   "metadata": {
    "colab": {
     "base_uri": "https://localhost:8080/",
     "height": 870
    },
    "executionInfo": {
     "elapsed": 469653,
     "status": "ok",
     "timestamp": 1606148220722,
     "user": {
      "displayName": "Anannya Roy Chowdhury",
      "photoUrl": "https://lh3.googleusercontent.com/a-/AOh14GjZCSDPGcvkRjbVwz4l4zBrB1rUCc6TW93wGHysug=s64",
      "userId": "08952150216285672278"
     },
     "user_tz": -330
    },
    "id": "PyR_uLdG0EM0",
    "outputId": "01eaf0b7-6942-4ebc-f9b2-29956bc7b0d8"
   },
   "outputs": [
    {
     "data": {
      "image/png": "[encoded data removed]",
      "text/plain": [
       "<Figure size 936x1080 with 1 Axes>"
      ]
     },
     "metadata": {
      "tags": []
     },
     "output_type": "display_data"
    }
   ],
   "source": [
    "plot_boxplot(df['score_ans'])"
   ]
  },
  {
   "cell_type": "code",
   "execution_count": 70,
   "metadata": {
    "colab": {
     "base_uri": "https://localhost:8080/",
     "height": 197
    },
    "executionInfo": {
     "elapsed": 469642,
     "status": "ok",
     "timestamp": 1606148220723,
     "user": {
      "displayName": "Anannya Roy Chowdhury",
      "photoUrl": "https://lh3.googleusercontent.com/a-/AOh14GjZCSDPGcvkRjbVwz4l4zBrB1rUCc6TW93wGHysug=s64",
      "userId": "08952150216285672278"
     },
     "user_tz": -330
    },
    "id": "McNIObMjbO07",
    "outputId": "b8de3f37-be86-4264-8586-103bf79dbe02"
   },
   "outputs": [
    {
     "data": {
      "text/html": [
       "<div>\n",
       "<style scoped>\n",
       "    .dataframe tbody tr th:only-of-type {\n",
       "        vertical-align: middle;\n",
       "    }\n",
       "\n",
       "    .dataframe tbody tr th {\n",
       "        vertical-align: top;\n",
       "    }\n",
       "\n",
       "    .dataframe thead th {\n",
       "        text-align: right;\n",
       "    }\n",
       "</style>\n",
       "<table border=\"1\" class=\"dataframe\">\n",
       "  <thead>\n",
       "    <tr style=\"text-align: right;\">\n",
       "      <th></th>\n",
       "      <th>id</th>\n",
       "      <th>creationdate</th>\n",
       "      <th>score_quest</th>\n",
       "      <th>title</th>\n",
       "      <th>body_quest</th>\n",
       "      <th>score_ans</th>\n",
       "      <th>body_ans</th>\n",
       "      <th>tags</th>\n",
       "      <th>tag_count</th>\n",
       "    </tr>\n",
       "  </thead>\n",
       "  <tbody>\n",
       "    <tr>\n",
       "      <th>0</th>\n",
       "      <td>120</td>\n",
       "      <td>2008-08-01T15:50:08Z</td>\n",
       "      <td>7</td>\n",
       "      <td>ASP.NET Site Maps</td>\n",
       "      <td>&lt;p&gt;Has anyone got experience creating &lt;strong&gt;...</td>\n",
       "      <td>9</td>\n",
       "      <td>[&lt;p&gt;The Jeff Prosise version from MSDN magazin...</td>\n",
       "      <td>sql</td>\n",
       "      <td>1</td>\n",
       "    </tr>\n",
       "    <tr>\n",
       "      <th>1</th>\n",
       "      <td>1970</td>\n",
       "      <td>2008-08-05T06:39:31Z</td>\n",
       "      <td>7</td>\n",
       "      <td>What language do you use for PostgreSQL trigge...</td>\n",
       "      <td>&lt;p&gt;PostgreSQL is interesting in that it suppor...</td>\n",
       "      <td>14</td>\n",
       "      <td>[&lt;p&gt;When I wrote my first trigger it was in Pe...</td>\n",
       "      <td>sql</td>\n",
       "      <td>1</td>\n",
       "    </tr>\n",
       "    <tr>\n",
       "      <th>2</th>\n",
       "      <td>2120</td>\n",
       "      <td>2008-08-05T11:49:11Z</td>\n",
       "      <td>7</td>\n",
       "      <td>Convert HashBytes to VarChar</td>\n",
       "      <td>&lt;p&gt;I want to get the MD5 Hash of a string valu...</td>\n",
       "      <td>14</td>\n",
       "      <td>[&lt;p&gt;I have found the solution else where:&lt;/p&gt;\\...</td>\n",
       "      <td>sql</td>\n",
       "      <td>1</td>\n",
       "    </tr>\n",
       "    <tr>\n",
       "      <th>3</th>\n",
       "      <td>2840</td>\n",
       "      <td>2008-08-05T20:57:00Z</td>\n",
       "      <td>7</td>\n",
       "      <td>Paging SQL Server 2005 Results</td>\n",
       "      <td>&lt;p&gt;How do I page results in SQL Server 2005?&lt;/...</td>\n",
       "      <td>14</td>\n",
       "      <td>[&lt;p&gt;You can use &lt;code&gt;the Row_Number()&lt;/code&gt; ...</td>\n",
       "      <td>sql</td>\n",
       "      <td>1</td>\n",
       "    </tr>\n",
       "    <tr>\n",
       "      <th>4</th>\n",
       "      <td>4110</td>\n",
       "      <td>2008-08-06T23:19:50Z</td>\n",
       "      <td>7</td>\n",
       "      <td>What program can I use to generate diagrams of...</td>\n",
       "      <td>&lt;p&gt;I've been tasked with redesigning part of a...</td>\n",
       "      <td>5</td>\n",
       "      <td>[&lt;P&gt;If you are talking about MS SQL Server tab...</td>\n",
       "      <td>sql</td>\n",
       "      <td>1</td>\n",
       "    </tr>\n",
       "  </tbody>\n",
       "</table>\n",
       "</div>"
      ],
      "text/plain": [
       "     id          creationdate  ...  tags tag_count\n",
       "0   120  2008-08-01T15:50:08Z  ...   sql         1\n",
       "1  1970  2008-08-05T06:39:31Z  ...   sql         1\n",
       "2  2120  2008-08-05T11:49:11Z  ...   sql         1\n",
       "3  2840  2008-08-05T20:57:00Z  ...   sql         1\n",
       "4  4110  2008-08-06T23:19:50Z  ...   sql         1\n",
       "\n",
       "[5 rows x 9 columns]"
      ]
     },
     "execution_count": 70,
     "metadata": {
      "tags": []
     },
     "output_type": "execute_result"
    }
   ],
   "source": [
    "df.head()"
   ]
  },
  {
   "cell_type": "code",
   "execution_count": 71,
   "metadata": {
    "executionInfo": {
     "elapsed": 469636,
     "status": "ok",
     "timestamp": 1606148220725,
     "user": {
      "displayName": "Anannya Roy Chowdhury",
      "photoUrl": "https://lh3.googleusercontent.com/a-/AOh14GjZCSDPGcvkRjbVwz4l4zBrB1rUCc6TW93wGHysug=s64",
      "userId": "08952150216285672278"
     },
     "user_tz": -330
    },
    "id": "je6Ub_J2bOzh"
   },
   "outputs": [],
   "source": [
    "df.drop(labels='creationdate',axis=1,inplace=True)"
   ]
  },
  {
   "cell_type": "code",
   "execution_count": 72,
   "metadata": {
    "colab": {
     "base_uri": "https://localhost:8080/"
    },
    "executionInfo": {
     "elapsed": 469628,
     "status": "ok",
     "timestamp": 1606148220726,
     "user": {
      "displayName": "Anannya Roy Chowdhury",
      "photoUrl": "https://lh3.googleusercontent.com/a-/AOh14GjZCSDPGcvkRjbVwz4l4zBrB1rUCc6TW93wGHysug=s64",
      "userId": "08952150216285672278"
     },
     "user_tz": -330
    },
    "id": "5zXArDrVbOsz",
    "outputId": "1538ffa1-8868-4795-aa8d-108aadb15df0"
   },
   "outputs": [
    {
     "data": {
      "text/plain": [
       "id             0\n",
       "score_quest    0\n",
       "title          0\n",
       "body_quest     0\n",
       "score_ans      0\n",
       "body_ans       0\n",
       "tags           0\n",
       "tag_count      0\n",
       "dtype: int64"
      ]
     },
     "execution_count": 72,
     "metadata": {
      "tags": []
     },
     "output_type": "execute_result"
    }
   ],
   "source": [
    "df.isnull().sum()"
   ]
  },
  {
   "cell_type": "code",
   "execution_count": 73,
   "metadata": {
    "colab": {
     "base_uri": "https://localhost:8080/"
    },
    "executionInfo": {
     "elapsed": 469617,
     "status": "ok",
     "timestamp": 1606148220726,
     "user": {
      "displayName": "Anannya Roy Chowdhury",
      "photoUrl": "https://lh3.googleusercontent.com/a-/AOh14GjZCSDPGcvkRjbVwz4l4zBrB1rUCc6TW93wGHysug=s64",
      "userId": "08952150216285672278"
     },
     "user_tz": -330
    },
    "id": "9zs0WhIGbOp7",
    "outputId": "88b06423-ca33-418d-ccc0-a99434a8c35d"
   },
   "outputs": [
    {
     "name": "stdout",
     "output_type": "stream",
     "text": [
      "<class 'pandas.core.frame.DataFrame'>\n",
      "Int64Index: 117522 entries, 0 to 117535\n",
      "Data columns (total 8 columns):\n",
      " #   Column       Non-Null Count   Dtype \n",
      "---  ------       --------------   ----- \n",
      " 0   id           117522 non-null  int64 \n",
      " 1   score_quest  117522 non-null  int64 \n",
      " 2   title        117522 non-null  object\n",
      " 3   body_quest   117522 non-null  object\n",
      " 4   score_ans    117522 non-null  int64 \n",
      " 5   body_ans     117522 non-null  object\n",
      " 6   tags         117522 non-null  object\n",
      " 7   tag_count    117522 non-null  int64 \n",
      "dtypes: int64(4), object(4)\n",
      "memory usage: 8.1+ MB\n"
     ]
    }
   ],
   "source": [
    "df.info()"
   ]
  },
  {
   "cell_type": "markdown",
   "metadata": {
    "id": "39lnHJgtE6K8"
   },
   "source": [
    "#### ***Let's examine the popularity of some common tags used in Data Science***"
   ]
  },
  {
   "cell_type": "code",
   "execution_count": 74,
   "metadata": {
    "colab": {
     "base_uri": "https://localhost:8080/"
    },
    "executionInfo": {
     "elapsed": 469607,
     "status": "ok",
     "timestamp": 1606148220727,
     "user": {
      "displayName": "Anannya Roy Chowdhury",
      "photoUrl": "https://lh3.googleusercontent.com/a-/AOh14GjZCSDPGcvkRjbVwz4l4zBrB1rUCc6TW93wGHysug=s64",
      "userId": "08952150216285672278"
     },
     "user_tz": -330
    },
    "id": "YYbV4lmrfnbS",
    "outputId": "cdd1262b-72cb-4db1-ffc0-5c1d6e6e1cc4"
   },
   "outputs": [
    {
     "data": {
      "text/plain": [
       "['sql',\n",
       " 'python',\n",
       " 'excel',\n",
       " 'matlab',\n",
       " 'python sql',\n",
       " 'r',\n",
       " 'sql excel',\n",
       " 'sas',\n",
       " 'python excel',\n",
       " 'python r',\n",
       " 'excel sas',\n",
       " 'python matlab',\n",
       " 'sql r',\n",
       " 'excel matlab',\n",
       " 'excel r',\n",
       " 'sql sas',\n",
       " 'python sas',\n",
       " 'r matlab',\n",
       " 'r sas',\n",
       " 'python r matlab',\n",
       " 'sql matlab',\n",
       " 'python excel r',\n",
       " 'python sql excel',\n",
       " 'r python',\n",
       " 'sql excel sas',\n",
       " 'r excel',\n",
       " 'python r excel',\n",
       " 'sql excel matlab',\n",
       " 'r excel matlab',\n",
       " 'sql r sas',\n",
       " 'python sql r',\n",
       " 'sql r excel']"
      ]
     },
     "execution_count": 74,
     "metadata": {
      "tags": []
     },
     "output_type": "execute_result"
    }
   ],
   "source": [
    "# 1. How many questions are asked w.r.t number of Tags?\n",
    "\n",
    "tags = list(df['tags'].unique())\n",
    "tags"
   ]
  },
  {
   "cell_type": "code",
   "execution_count": 75,
   "metadata": {
    "colab": {
     "base_uri": "https://localhost:8080/",
     "height": 66,
     "referenced_widgets": [
      "082a6a13eec74bfb8945b7a1e70f3a1e",
      "f23a157d04b74decb51c1f6509665f4c",
      "2b9ea5b879374b61b2a537627eed8d03",
      "31ea7d8775de41dca9000a38e6afdeb1",
      "c20b23ee17ef4efd88fa86c97128545b",
      "b1a3b8c8b06e4797ba7a4b496786fe17",
      "6962338d91d1484e92fbace867e323be",
      "3ccb81e122f24126970b76ab5cfe112f"
     ]
    },
    "executionInfo": {
     "elapsed": 469595,
     "status": "ok",
     "timestamp": 1606148220727,
     "user": {
      "displayName": "Anannya Roy Chowdhury",
      "photoUrl": "https://lh3.googleusercontent.com/a-/AOh14GjZCSDPGcvkRjbVwz4l4zBrB1rUCc6TW93wGHysug=s64",
      "userId": "08952150216285672278"
     },
     "user_tz": -330
    },
    "id": "I4ObQkI2fnog",
    "outputId": "b3410a96-b73f-4980-f125-5051cbd2876a"
   },
   "outputs": [
    {
     "data": {
      "application/vnd.jupyter.widget-view+json": {
       "model_id": "082a6a13eec74bfb8945b7a1e70f3a1e",
       "version_major": 2,
       "version_minor": 0
      },
      "text/plain": [
       "HBox(children=(FloatProgress(value=0.0, max=32.0), HTML(value='')))"
      ]
     },
     "metadata": {
      "tags": []
     },
     "output_type": "display_data"
    },
    {
     "name": "stdout",
     "output_type": "stream",
     "text": [
      "\n"
     ]
    }
   ],
   "source": [
    "from tqdm import tqdm_notebook\n",
    "from collections import Counter\n",
    "num_tags = []\n",
    "for tag_ in tqdm_notebook(tags):\n",
    "    num_tags.append(len(tag_.split(' ')))\n",
    "num_tags = Counter(num_tags)"
   ]
  },
  {
   "cell_type": "code",
   "execution_count": 76,
   "metadata": {
    "colab": {
     "base_uri": "https://localhost:8080/",
     "height": 302
    },
    "executionInfo": {
     "elapsed": 469585,
     "status": "ok",
     "timestamp": 1606148220728,
     "user": {
      "displayName": "Anannya Roy Chowdhury",
      "photoUrl": "https://lh3.googleusercontent.com/a-/AOh14GjZCSDPGcvkRjbVwz4l4zBrB1rUCc6TW93wGHysug=s64",
      "userId": "08952150216285672278"
     },
     "user_tz": -330
    },
    "id": "yyB0l_Z-gQzC",
    "outputId": "9a882a85-eaed-4662-92bb-79cc1fe64d2f"
   },
   "outputs": [
    {
     "data": {
      "image/png": "[encoded data removed]",
      "text/plain": [
       "<Figure size 432x288 with 1 Axes>"
      ]
     },
     "metadata": {
      "tags": []
     },
     "output_type": "display_data"
    }
   ],
   "source": [
    "plt.bar(list(num_tags.keys()), list(num_tags.values()))\n",
    "plt.xlabel('No. of Tags')\n",
    "plt.ylabel('No. of Questions')\n",
    "plt.title('No. of Questions - vs - No. of Tags')\n",
    "plt.show()"
   ]
  },
  {
   "cell_type": "markdown",
   "metadata": {
    "id": "6WPTQbqZg-ox"
   },
   "source": [
    "Most the questions asked on the platform contain 2 tags, followed by 3 tags, and 1 tags"
   ]
  },
  {
   "cell_type": "code",
   "execution_count": 77,
   "metadata": {
    "colab": {
     "base_uri": "https://localhost:8080/",
     "height": 197
    },
    "executionInfo": {
     "elapsed": 469575,
     "status": "ok",
     "timestamp": 1606148220729,
     "user": {
      "displayName": "Anannya Roy Chowdhury",
      "photoUrl": "https://lh3.googleusercontent.com/a-/AOh14GjZCSDPGcvkRjbVwz4l4zBrB1rUCc6TW93wGHysug=s64",
      "userId": "08952150216285672278"
     },
     "user_tz": -330
    },
    "id": "tP1e3jL-hGDk",
    "outputId": "9f834dfd-d474-4539-bc87-054102c5604f"
   },
   "outputs": [
    {
     "data": {
      "text/html": [
       "<div>\n",
       "<style scoped>\n",
       "    .dataframe tbody tr th:only-of-type {\n",
       "        vertical-align: middle;\n",
       "    }\n",
       "\n",
       "    .dataframe tbody tr th {\n",
       "        vertical-align: top;\n",
       "    }\n",
       "\n",
       "    .dataframe thead th {\n",
       "        text-align: right;\n",
       "    }\n",
       "</style>\n",
       "<table border=\"1\" class=\"dataframe\">\n",
       "  <thead>\n",
       "    <tr style=\"text-align: right;\">\n",
       "      <th></th>\n",
       "      <th>score_ans</th>\n",
       "      <th>score_quest</th>\n",
       "      <th>tag_count</th>\n",
       "    </tr>\n",
       "  </thead>\n",
       "  <tbody>\n",
       "    <tr>\n",
       "      <th>0</th>\n",
       "      <td>9</td>\n",
       "      <td>7</td>\n",
       "      <td>1</td>\n",
       "    </tr>\n",
       "    <tr>\n",
       "      <th>1</th>\n",
       "      <td>14</td>\n",
       "      <td>7</td>\n",
       "      <td>1</td>\n",
       "    </tr>\n",
       "    <tr>\n",
       "      <th>2</th>\n",
       "      <td>14</td>\n",
       "      <td>7</td>\n",
       "      <td>1</td>\n",
       "    </tr>\n",
       "    <tr>\n",
       "      <th>3</th>\n",
       "      <td>14</td>\n",
       "      <td>7</td>\n",
       "      <td>1</td>\n",
       "    </tr>\n",
       "    <tr>\n",
       "      <th>4</th>\n",
       "      <td>5</td>\n",
       "      <td>7</td>\n",
       "      <td>1</td>\n",
       "    </tr>\n",
       "  </tbody>\n",
       "</table>\n",
       "</div>"
      ],
      "text/plain": [
       "   score_ans  score_quest  tag_count\n",
       "0          9            7          1\n",
       "1         14            7          1\n",
       "2         14            7          1\n",
       "3         14            7          1\n",
       "4          5            7          1"
      ]
     },
     "execution_count": 77,
     "metadata": {
      "tags": []
     },
     "output_type": "execute_result"
    }
   ],
   "source": [
    "# 2. How scores of Answers /Questions related to number of tags\n",
    "\n",
    "view_tags_all  = df[['score_ans','score_quest','tag_count']]\n",
    "view_tags_all.head()"
   ]
  },
  {
   "cell_type": "code",
   "execution_count": 79,
   "metadata": {
    "colab": {
     "base_uri": "https://localhost:8080/",
     "height": 287
    },
    "executionInfo": {
     "elapsed": 2723,
     "status": "ok",
     "timestamp": 1606148252273,
     "user": {
      "displayName": "Anannya Roy Chowdhury",
      "photoUrl": "https://lh3.googleusercontent.com/a-/AOh14GjZCSDPGcvkRjbVwz4l4zBrB1rUCc6TW93wGHysug=s64",
      "userId": "08952150216285672278"
     },
     "user_tz": -330
    },
    "id": "ltTWjeHSiqfM",
    "outputId": "b9f44a1d-9812-4905-bef2-a72111644723"
   },
   "outputs": [
    {
     "data": {
      "text/html": [
       "<div>\n",
       "<style scoped>\n",
       "    .dataframe tbody tr th:only-of-type {\n",
       "        vertical-align: middle;\n",
       "    }\n",
       "\n",
       "    .dataframe tbody tr th {\n",
       "        vertical-align: top;\n",
       "    }\n",
       "\n",
       "    .dataframe thead th {\n",
       "        text-align: right;\n",
       "    }\n",
       "</style>\n",
       "<table border=\"1\" class=\"dataframe\">\n",
       "  <thead>\n",
       "    <tr style=\"text-align: right;\">\n",
       "      <th></th>\n",
       "      <th>score_ans</th>\n",
       "      <th>score_quest</th>\n",
       "      <th>tag_count</th>\n",
       "    </tr>\n",
       "  </thead>\n",
       "  <tbody>\n",
       "    <tr>\n",
       "      <th>count</th>\n",
       "      <td>117522.00%</td>\n",
       "      <td>117522.00%</td>\n",
       "      <td>117522.00%</td>\n",
       "    </tr>\n",
       "    <tr>\n",
       "      <th>mean</th>\n",
       "      <td>2.87%</td>\n",
       "      <td>1.19%</td>\n",
       "      <td>1.01%</td>\n",
       "    </tr>\n",
       "    <tr>\n",
       "      <th>std</th>\n",
       "      <td>3.59%</td>\n",
       "      <td>1.93%</td>\n",
       "      <td>0.11%</td>\n",
       "    </tr>\n",
       "    <tr>\n",
       "      <th>min</th>\n",
       "      <td>-6.00%</td>\n",
       "      <td>-1.00%</td>\n",
       "      <td>1.00%</td>\n",
       "    </tr>\n",
       "    <tr>\n",
       "      <th>25%</th>\n",
       "      <td>0.00%</td>\n",
       "      <td>0.00%</td>\n",
       "      <td>1.00%</td>\n",
       "    </tr>\n",
       "    <tr>\n",
       "      <th>50%</th>\n",
       "      <td>2.00%</td>\n",
       "      <td>1.00%</td>\n",
       "      <td>1.00%</td>\n",
       "    </tr>\n",
       "    <tr>\n",
       "      <th>75%</th>\n",
       "      <td>4.00%</td>\n",
       "      <td>2.00%</td>\n",
       "      <td>1.00%</td>\n",
       "    </tr>\n",
       "    <tr>\n",
       "      <th>max</th>\n",
       "      <td>14.00%</td>\n",
       "      <td>7.00%</td>\n",
       "      <td>3.00%</td>\n",
       "    </tr>\n",
       "  </tbody>\n",
       "</table>\n",
       "</div>"
      ],
      "text/plain": [
       "       score_ans  score_quest  tag_count\n",
       "count 117522.00%   117522.00% 117522.00%\n",
       "mean       2.87%        1.19%      1.01%\n",
       "std        3.59%        1.93%      0.11%\n",
       "min       -6.00%       -1.00%      1.00%\n",
       "25%        0.00%        0.00%      1.00%\n",
       "50%        2.00%        1.00%      1.00%\n",
       "75%        4.00%        2.00%      1.00%\n",
       "max       14.00%        7.00%      3.00%"
      ]
     },
     "execution_count": 79,
     "metadata": {
      "tags": []
     },
     "output_type": "execute_result"
    }
   ],
   "source": [
    "view_tags_all.describe()"
   ]
  },
  {
   "cell_type": "markdown",
   "metadata": {
    "id": "T9MtsJmOjN2-"
   },
   "source": [
    "From the table, we can infer following observations:\n",
    "\n",
    "1.   A one tag question got very low score.\n",
    "2.   A three tag question has a answer score of 14"
   ]
  },
  {
   "cell_type": "code",
   "execution_count": 80,
   "metadata": {
    "colab": {
     "base_uri": "https://localhost:8080/",
     "height": 197
    },
    "executionInfo": {
     "elapsed": 3755,
     "status": "ok",
     "timestamp": 1606148278085,
     "user": {
      "displayName": "Anannya Roy Chowdhury",
      "photoUrl": "https://lh3.googleusercontent.com/a-/AOh14GjZCSDPGcvkRjbVwz4l4zBrB1rUCc6TW93wGHysug=s64",
      "userId": "08952150216285672278"
     },
     "user_tz": -330
    },
    "id": "V3a4fCd4iqis",
    "outputId": "858cc52e-bbe2-4249-d00b-f02961948825"
   },
   "outputs": [
    {
     "data": {
      "text/html": [
       "<div>\n",
       "<style scoped>\n",
       "    .dataframe tbody tr th:only-of-type {\n",
       "        vertical-align: middle;\n",
       "    }\n",
       "\n",
       "    .dataframe tbody tr th {\n",
       "        vertical-align: top;\n",
       "    }\n",
       "\n",
       "    .dataframe thead th {\n",
       "        text-align: right;\n",
       "    }\n",
       "</style>\n",
       "<table border=\"1\" class=\"dataframe\">\n",
       "  <thead>\n",
       "    <tr style=\"text-align: right;\">\n",
       "      <th></th>\n",
       "      <th>score_quest</th>\n",
       "      <th>tags</th>\n",
       "    </tr>\n",
       "  </thead>\n",
       "  <tbody>\n",
       "    <tr>\n",
       "      <th>0</th>\n",
       "      <td>7</td>\n",
       "      <td>sql</td>\n",
       "    </tr>\n",
       "    <tr>\n",
       "      <th>1</th>\n",
       "      <td>7</td>\n",
       "      <td>python</td>\n",
       "    </tr>\n",
       "    <tr>\n",
       "      <th>2</th>\n",
       "      <td>2</td>\n",
       "      <td>python</td>\n",
       "    </tr>\n",
       "    <tr>\n",
       "      <th>3</th>\n",
       "      <td>5</td>\n",
       "      <td>sql</td>\n",
       "    </tr>\n",
       "    <tr>\n",
       "      <th>4</th>\n",
       "      <td>7</td>\n",
       "      <td>excel</td>\n",
       "    </tr>\n",
       "  </tbody>\n",
       "</table>\n",
       "</div>"
      ],
      "text/plain": [
       "   score_quest    tags\n",
       "0            7     sql\n",
       "1            7  python\n",
       "2            2  python\n",
       "3            5     sql\n",
       "4            7   excel"
      ]
     },
     "execution_count": 80,
     "metadata": {
      "tags": []
     },
     "output_type": "execute_result"
    }
   ],
   "source": [
    "# 3. What tags get highest/lowest rating in Questions?\n",
    "\n",
    "view_tags = df[['score_quest','tags']].drop_duplicates().reset_index(drop=True)\n",
    "view_tags.head()"
   ]
  },
  {
   "cell_type": "code",
   "execution_count": 81,
   "metadata": {
    "colab": {
     "base_uri": "https://localhost:8080/",
     "height": 66,
     "referenced_widgets": [
      "0c82136321734964914c8762cb835a17",
      "35cca3b240dd446fbb5806b1de06d7f0",
      "406d5af1f63d445f952c975712d0a8a8",
      "c40da03dd77249c8826843934160b3bb",
      "a58894bb2572492890e47edea23f2a98",
      "29183b8d430147af8dd627b9e443b529",
      "788f28d9d0ee44f8992df658d4b7f43b",
      "c7366723f8904c0c96ef4afe63fccec4"
     ]
    },
    "executionInfo": {
     "elapsed": 2476,
     "status": "ok",
     "timestamp": 1606148285152,
     "user": {
      "displayName": "Anannya Roy Chowdhury",
      "photoUrl": "https://lh3.googleusercontent.com/a-/AOh14GjZCSDPGcvkRjbVwz4l4zBrB1rUCc6TW93wGHysug=s64",
      "userId": "08952150216285672278"
     },
     "user_tz": -330
    },
    "id": "phMM4r-LiqoJ",
    "outputId": "2da03e53-3a39-4ecd-ddc2-b055bab97e5a"
   },
   "outputs": [
    {
     "data": {
      "application/vnd.jupyter.widget-view+json": {
       "model_id": "0c82136321734964914c8762cb835a17",
       "version_major": 2,
       "version_minor": 0
      },
      "text/plain": [
       "HBox(children=(FloatProgress(value=0.0, max=163.0), HTML(value='')))"
      ]
     },
     "metadata": {
      "tags": []
     },
     "output_type": "display_data"
    },
    {
     "name": "stdout",
     "output_type": "stream",
     "text": [
      "\n"
     ]
    }
   ],
   "source": [
    "tagRate = {}\n",
    "for i in tqdm_notebook(range(len(view_tags['tags']))):\n",
    "    for tag in view_tags['tags'][i].split(','):\n",
    "        try:\n",
    "            tagRate[tag].append(view_tags['score_quest'][i])\n",
    "        except Exception:\n",
    "            tagRate[tag] = [view_tags['score_quest'][i]]"
   ]
  },
  {
   "cell_type": "code",
   "execution_count": 82,
   "metadata": {
    "executionInfo": {
     "elapsed": 4179,
     "status": "ok",
     "timestamp": 1606148287246,
     "user": {
      "displayName": "Anannya Roy Chowdhury",
      "photoUrl": "https://lh3.googleusercontent.com/a-/AOh14GjZCSDPGcvkRjbVwz4l4zBrB1rUCc6TW93wGHysug=s64",
      "userId": "08952150216285672278"
     },
     "user_tz": -330
    },
    "id": "jG1QfSk7kdcx"
   },
   "outputs": [],
   "source": [
    "tagRateAvg = {}\n",
    "for key in list(tagRate.keys()):\n",
    "    tagRateAvg[key] = np.average(tagRate[key])\n",
    "\n",
    "tagRateAvg = pd.DataFrame([list(tagRateAvg.keys()), list(tagRateAvg.values())])\n",
    "tagRateAvg = tagRateAvg.transpose()\n",
    "tagRateAvg.columns = ['tags', 'score_quest']\n",
    "tagRateAvg = tagRateAvg.sort_values('score_quest')"
   ]
  },
  {
   "cell_type": "code",
   "execution_count": 83,
   "metadata": {
    "colab": {
     "base_uri": "https://localhost:8080/",
     "height": 319
    },
    "executionInfo": {
     "elapsed": 3725,
     "status": "ok",
     "timestamp": 1606148287247,
     "user": {
      "displayName": "Anannya Roy Chowdhury",
      "photoUrl": "https://lh3.googleusercontent.com/a-/AOh14GjZCSDPGcvkRjbVwz4l4zBrB1rUCc6TW93wGHysug=s64",
      "userId": "08952150216285672278"
     },
     "user_tz": -330
    },
    "id": "TqVhRCxikdgU",
    "outputId": "c1dd2b75-fd52-470f-a87b-8c001fdc0e0c"
   },
   "outputs": [
    {
     "data": {
      "text/plain": [
       "Text(0, 0.5, 'Tag')"
      ]
     },
     "execution_count": 83,
     "metadata": {
      "tags": []
     },
     "output_type": "execute_result"
    },
    {
     "data": {
      "image/png": "[encoded data removed]",
      "text/plain": [
       "<Figure size 432x288 with 1 Axes>"
      ]
     },
     "metadata": {
      "tags": []
     },
     "output_type": "display_data"
    }
   ],
   "source": [
    "plt.barh(list(tagRateAvg['tags'])[:25], list(tagRateAvg['score_quest'])[:25])\n",
    "plt.xlabel('Average Scoring')\n",
    "plt.title('25 Lowest scoring tags (Average)')\n",
    "plt.ylabel('Tag')"
   ]
  },
  {
   "cell_type": "markdown",
   "metadata": {
    "id": "LWq7x0v5lGn9"
   },
   "source": [
    "From the Graph, we can infer that combined tags of sql, excel, matlab based questions achieved the lowest scoring followed by python, sql, r."
   ]
  },
  {
   "cell_type": "code",
   "execution_count": 84,
   "metadata": {
    "colab": {
     "base_uri": "https://localhost:8080/",
     "height": 319
    },
    "executionInfo": {
     "elapsed": 4107,
     "status": "ok",
     "timestamp": 1606148299398,
     "user": {
      "displayName": "Anannya Roy Chowdhury",
      "photoUrl": "https://lh3.googleusercontent.com/a-/AOh14GjZCSDPGcvkRjbVwz4l4zBrB1rUCc6TW93wGHysug=s64",
      "userId": "08952150216285672278"
     },
     "user_tz": -330
    },
    "id": "t-yBVvpZkdlN",
    "outputId": "9fc358b1-85ae-4307-f985-5d27bdbcbabc"
   },
   "outputs": [
    {
     "data": {
      "text/plain": [
       "Text(0, 0.5, 'Tag')"
      ]
     },
     "execution_count": 84,
     "metadata": {
      "tags": []
     },
     "output_type": "execute_result"
    },
    {
     "data": {
      "image/png": "[encoded data removed]",
      "text/plain": [
       "<Figure size 432x288 with 1 Axes>"
      ]
     },
     "metadata": {
      "tags": []
     },
     "output_type": "display_data"
    }
   ],
   "source": [
    "plt.barh(list(tagRateAvg['tags'])[-25:], list(tagRateAvg['score_quest'])[-25:])\n",
    "plt.xlabel('Average Scoring')\n",
    "plt.title('25 Highest scoring tags (Average)')\n",
    "plt.ylabel('Tag')"
   ]
  },
  {
   "cell_type": "markdown",
   "metadata": {
    "id": "It5FrK4MlkLe"
   },
   "source": [
    "From the Graph, we can infer that combined tags of excel,r based questions achieved the highest scoring."
   ]
  },
  {
   "cell_type": "code",
   "execution_count": 85,
   "metadata": {
    "colab": {
     "base_uri": "https://localhost:8080/",
     "height": 197
    },
    "executionInfo": {
     "elapsed": 3290,
     "status": "ok",
     "timestamp": 1606148299399,
     "user": {
      "displayName": "Anannya Roy Chowdhury",
      "photoUrl": "https://lh3.googleusercontent.com/a-/AOh14GjZCSDPGcvkRjbVwz4l4zBrB1rUCc6TW93wGHysug=s64",
      "userId": "08952150216285672278"
     },
     "user_tz": -330
    },
    "id": "vEsImV88mxaJ",
    "outputId": "d3fe2da1-a0f7-4bf6-85f4-d3abc0826be0"
   },
   "outputs": [
    {
     "data": {
      "text/html": [
       "<div>\n",
       "<style scoped>\n",
       "    .dataframe tbody tr th:only-of-type {\n",
       "        vertical-align: middle;\n",
       "    }\n",
       "\n",
       "    .dataframe tbody tr th {\n",
       "        vertical-align: top;\n",
       "    }\n",
       "\n",
       "    .dataframe thead th {\n",
       "        text-align: right;\n",
       "    }\n",
       "</style>\n",
       "<table border=\"1\" class=\"dataframe\">\n",
       "  <thead>\n",
       "    <tr style=\"text-align: right;\">\n",
       "      <th></th>\n",
       "      <th>score_ans</th>\n",
       "      <th>tags</th>\n",
       "    </tr>\n",
       "  </thead>\n",
       "  <tbody>\n",
       "    <tr>\n",
       "      <th>0</th>\n",
       "      <td>9</td>\n",
       "      <td>sql</td>\n",
       "    </tr>\n",
       "    <tr>\n",
       "      <th>1</th>\n",
       "      <td>14</td>\n",
       "      <td>sql</td>\n",
       "    </tr>\n",
       "    <tr>\n",
       "      <th>2</th>\n",
       "      <td>5</td>\n",
       "      <td>sql</td>\n",
       "    </tr>\n",
       "    <tr>\n",
       "      <th>3</th>\n",
       "      <td>7</td>\n",
       "      <td>sql</td>\n",
       "    </tr>\n",
       "    <tr>\n",
       "      <th>4</th>\n",
       "      <td>12</td>\n",
       "      <td>python</td>\n",
       "    </tr>\n",
       "  </tbody>\n",
       "</table>\n",
       "</div>"
      ],
      "text/plain": [
       "   score_ans    tags\n",
       "0          9     sql\n",
       "1         14     sql\n",
       "2          5     sql\n",
       "3          7     sql\n",
       "4         12  python"
      ]
     },
     "execution_count": 85,
     "metadata": {
      "tags": []
     },
     "output_type": "execute_result"
    }
   ],
   "source": [
    "# 4. What tags get highest/lowest rating in Answers?\n",
    "\n",
    "view_tags = df[['score_ans','tags']].drop_duplicates().reset_index(drop=True)\n",
    "view_tags.head()"
   ]
  },
  {
   "cell_type": "code",
   "execution_count": 86,
   "metadata": {
    "colab": {
     "base_uri": "https://localhost:8080/",
     "height": 66,
     "referenced_widgets": [
      "16cdbd520891443385dacfcb5fed21e7",
      "2d94e980bd7f490f8b71bd47ed29e08c",
      "b8d5f90483724d84a080d610a5cc1ad9",
      "411b734511b44b1aa6cdf52a86e04ab3",
      "8f6e5755bec8480d9daceeb77592dd14",
      "84245c0c3aad4c05920f518f6c18eccb",
      "7b381ae010234855b3071a0182d76ad3",
      "f3a9f682ac5248b5a65b38aa41da2057"
     ]
    },
    "executionInfo": {
     "elapsed": 2906,
     "status": "ok",
     "timestamp": 1606148299400,
     "user": {
      "displayName": "Anannya Roy Chowdhury",
      "photoUrl": "https://lh3.googleusercontent.com/a-/AOh14GjZCSDPGcvkRjbVwz4l4zBrB1rUCc6TW93wGHysug=s64",
      "userId": "08952150216285672278"
     },
     "user_tz": -330
    },
    "id": "rcXoAfDQme_b",
    "outputId": "b2d67ee7-9601-42e7-c559-38b48e400826"
   },
   "outputs": [
    {
     "data": {
      "application/vnd.jupyter.widget-view+json": {
       "model_id": "16cdbd520891443385dacfcb5fed21e7",
       "version_major": 2,
       "version_minor": 0
      },
      "text/plain": [
       "HBox(children=(FloatProgress(value=0.0, max=262.0), HTML(value='')))"
      ]
     },
     "metadata": {
      "tags": []
     },
     "output_type": "display_data"
    },
    {
     "name": "stdout",
     "output_type": "stream",
     "text": [
      "\n"
     ]
    }
   ],
   "source": [
    "tagRate = {}\n",
    "for i in tqdm_notebook(range(len(view_tags['tags']))):\n",
    "    for tag in view_tags['tags'][i].split(','):\n",
    "        try:\n",
    "            tagRate[tag].append(view_tags['score_ans'][i])\n",
    "        except Exception:\n",
    "            tagRate[tag] = [view_tags['score_ans'][i]]"
   ]
  },
  {
   "cell_type": "code",
   "execution_count": 87,
   "metadata": {
    "executionInfo": {
     "elapsed": 2481,
     "status": "ok",
     "timestamp": 1606148299400,
     "user": {
      "displayName": "Anannya Roy Chowdhury",
      "photoUrl": "https://lh3.googleusercontent.com/a-/AOh14GjZCSDPGcvkRjbVwz4l4zBrB1rUCc6TW93wGHysug=s64",
      "userId": "08952150216285672278"
     },
     "user_tz": -330
    },
    "id": "mSSts6EYmfHx"
   },
   "outputs": [],
   "source": [
    "tagRateAvg = {}\n",
    "for key in list(tagRate.keys()):\n",
    "    tagRateAvg[key] = np.average(tagRate[key])\n",
    "\n",
    "tagRateAvg = pd.DataFrame([list(tagRateAvg.keys()), list(tagRateAvg.values())])\n",
    "tagRateAvg = tagRateAvg.transpose()\n",
    "tagRateAvg.columns = ['tags', 'score_ans']\n",
    "tagRateAvg = tagRateAvg.sort_values('score_ans')"
   ]
  },
  {
   "cell_type": "code",
   "execution_count": 88,
   "metadata": {
    "colab": {
     "base_uri": "https://localhost:8080/",
     "height": 319
    },
    "executionInfo": {
     "elapsed": 4873,
     "status": "ok",
     "timestamp": 1606148302223,
     "user": {
      "displayName": "Anannya Roy Chowdhury",
      "photoUrl": "https://lh3.googleusercontent.com/a-/AOh14GjZCSDPGcvkRjbVwz4l4zBrB1rUCc6TW93wGHysug=s64",
      "userId": "08952150216285672278"
     },
     "user_tz": -330
    },
    "id": "95vaA6a4mwcJ",
    "outputId": "d5d45202-b248-4d4d-d6af-bb2eddaf1b73"
   },
   "outputs": [
    {
     "data": {
      "text/plain": [
       "Text(0, 0.5, 'Tag')"
      ]
     },
     "execution_count": 88,
     "metadata": {
      "tags": []
     },
     "output_type": "execute_result"
    },
    {
     "data": {
      "image/png": "[encoded data removed]",
      "text/plain": [
       "<Figure size 432x288 with 1 Axes>"
      ]
     },
     "metadata": {
      "tags": []
     },
     "output_type": "display_data"
    }
   ],
   "source": [
    "plt.barh(list(tagRateAvg['tags'])[:25], list(tagRateAvg['score_ans'])[:25])\n",
    "plt.xlabel('Average Scoring')\n",
    "plt.title('25 Lowest scoring tags (Average)')\n",
    "plt.ylabel('Tag')"
   ]
  },
  {
   "cell_type": "markdown",
   "metadata": {
    "id": "WAe6-cTxne5h"
   },
   "source": [
    "From the Graph, we can infer that combined tags of sql,excel,r based questions achieved the lowest scoring."
   ]
  },
  {
   "cell_type": "code",
   "execution_count": 89,
   "metadata": {
    "colab": {
     "base_uri": "https://localhost:8080/",
     "height": 319
    },
    "executionInfo": {
     "elapsed": 6620,
     "status": "ok",
     "timestamp": 1606148319022,
     "user": {
      "displayName": "Anannya Roy Chowdhury",
      "photoUrl": "https://lh3.googleusercontent.com/a-/AOh14GjZCSDPGcvkRjbVwz4l4zBrB1rUCc6TW93wGHysug=s64",
      "userId": "08952150216285672278"
     },
     "user_tz": -330
    },
    "id": "tb26kgscnUw8",
    "outputId": "f5f953cb-20ba-475e-88f5-d21bffb47654"
   },
   "outputs": [
    {
     "data": {
      "text/plain": [
       "Text(0, 0.5, 'Tag')"
      ]
     },
     "execution_count": 89,
     "metadata": {
      "tags": []
     },
     "output_type": "execute_result"
    },
    {
     "data": {
      "image/png": "[encoded data removed]",
      "text/plain": [
       "<Figure size 432x288 with 1 Axes>"
      ]
     },
     "metadata": {
      "tags": []
     },
     "output_type": "display_data"
    }
   ],
   "source": [
    "plt.barh(list(tagRateAvg['tags'])[-25:], list(tagRateAvg['score_ans'])[-25:])\n",
    "plt.xlabel('Average Scoring')\n",
    "plt.title('25 Highest scoring tags (Average)')\n",
    "plt.ylabel('Tag')"
   ]
  },
  {
   "cell_type": "markdown",
   "metadata": {
    "id": "k4MWyPitndJo"
   },
   "source": [
    "From the Graph, we can infer that combined tags of excel,r based questions achieved the highest scoring."
   ]
  },
  {
   "cell_type": "code",
   "execution_count": 93,
   "metadata": {
    "executionInfo": {
     "elapsed": 4011,
     "status": "ok",
     "timestamp": 1606148780381,
     "user": {
      "displayName": "Anannya Roy Chowdhury",
      "photoUrl": "https://lh3.googleusercontent.com/a-/AOh14GjZCSDPGcvkRjbVwz4l4zBrB1rUCc6TW93wGHysug=s64",
      "userId": "08952150216285672278"
     },
     "user_tz": -330
    },
    "id": "5BL3GWLAkdq-"
   },
   "outputs": [],
   "source": [
    "# 5. What are the scoring of Data Science related tags in Answers\n",
    "\n",
    "data_science = ['python', 'r', 'matlab', 'sas', 'excel', 'sql']\n",
    "x = []\n",
    "y = []\n",
    "for tag in data_science:\n",
    "    index = list(tagRateAvg['tags']).index(tag)\n",
    "    x.append(tag)\n",
    "    y.append(list(tagRateAvg['score_ans'])[index])"
   ]
  },
  {
   "cell_type": "code",
   "execution_count": 94,
   "metadata": {
    "colab": {
     "base_uri": "https://localhost:8080/",
     "height": 302
    },
    "executionInfo": {
     "elapsed": 4676,
     "status": "ok",
     "timestamp": 1606148782471,
     "user": {
      "displayName": "Anannya Roy Chowdhury",
      "photoUrl": "https://lh3.googleusercontent.com/a-/AOh14GjZCSDPGcvkRjbVwz4l4zBrB1rUCc6TW93wGHysug=s64",
      "userId": "08952150216285672278"
     },
     "user_tz": -330
    },
    "id": "BeVJTmDMkdpR",
    "outputId": "b1c6a8c9-21cb-418b-ce61-b5261b62300b"
   },
   "outputs": [
    {
     "data": {
      "image/png": "[encoded data removed]",
      "text/plain": [
       "<Figure size 432x288 with 1 Axes>"
      ]
     },
     "metadata": {
      "tags": []
     },
     "output_type": "display_data"
    }
   ],
   "source": [
    "plt.bar(x, y)\n",
    "plt.ylabel('Average Rating')\n",
    "plt.xlabel('Tag')\n",
    "plt.title('Scoring of Data Science Tags')\n",
    "plt.show()"
   ]
  },
  {
   "cell_type": "code",
   "execution_count": 95,
   "metadata": {
    "colab": {
     "base_uri": "https://localhost:8080/",
     "height": 302
    },
    "executionInfo": {
     "elapsed": 5457,
     "status": "ok",
     "timestamp": 1606148784708,
     "user": {
      "displayName": "Anannya Roy Chowdhury",
      "photoUrl": "https://lh3.googleusercontent.com/a-/AOh14GjZCSDPGcvkRjbVwz4l4zBrB1rUCc6TW93wGHysug=s64",
      "userId": "08952150216285672278"
     },
     "user_tz": -330
    },
    "id": "lbDo0sQ1kdjT",
    "outputId": "a56ae0f6-6bc0-498a-b381-4b28d5439edb"
   },
   "outputs": [
    {
     "data": {
      "text/plain": [
       "Text(0.5, 1.0, 'excel')"
      ]
     },
     "execution_count": 95,
     "metadata": {
      "tags": []
     },
     "output_type": "execute_result"
    },
    {
     "data": {
      "image/png": "[encoded data removed]",
      "text/plain": [
       "<Figure size 432x288 with 6 Axes>"
      ]
     },
     "metadata": {
      "tags": []
     },
     "output_type": "display_data"
    }
   ],
   "source": [
    "fig, ax = plt.subplots(2, 3)\n",
    "ax[0][0].plot(tagRate['python'])\n",
    "ax[0][0].set_title('python')\n",
    "\n",
    "ax[0][1].plot(tagRate['r'])\n",
    "ax[0][1].set_title('r')\n",
    "\n",
    "ax[0][2].plot(tagRate['sql'])\n",
    "ax[0][2].set_title('sql')\n",
    "\n",
    "ax[1][0].plot(tagRate['matlab'])\n",
    "ax[1][0].set_title('matlab')\n",
    "\n",
    "ax[1][1].plot(tagRate['sas'])\n",
    "ax[1][1].set_title('sas')\n",
    "\n",
    "ax[1][2].plot(tagRate['excel'])\n",
    "ax[1][2].set_title('excel')"
   ]
  },
  {
   "cell_type": "code",
   "execution_count": 96,
   "metadata": {
    "executionInfo": {
     "elapsed": 4253,
     "status": "ok",
     "timestamp": 1606148809633,
     "user": {
      "displayName": "Anannya Roy Chowdhury",
      "photoUrl": "https://lh3.googleusercontent.com/a-/AOh14GjZCSDPGcvkRjbVwz4l4zBrB1rUCc6TW93wGHysug=s64",
      "userId": "08952150216285672278"
     },
     "user_tz": -330
    },
    "id": "HvFEJQklhGSl"
   },
   "outputs": [],
   "source": [
    "# Finding Similar tags\n",
    "\n",
    "from gensim.models import Word2Vec\n",
    "from sklearn.decomposition import PCA\n",
    "\n",
    "tags = []\n",
    "for tag in list(df['tags']):\n",
    "    tags.append(tag.split(','))\n",
    "embedding = Word2Vec(tags, sg=1, size=256, min_count=1)"
   ]
  },
  {
   "cell_type": "code",
   "execution_count": 97,
   "metadata": {
    "executionInfo": {
     "elapsed": 5203,
     "status": "ok",
     "timestamp": 1606148811746,
     "user": {
      "displayName": "Anannya Roy Chowdhury",
      "photoUrl": "https://lh3.googleusercontent.com/a-/AOh14GjZCSDPGcvkRjbVwz4l4zBrB1rUCc6TW93wGHysug=s64",
      "userId": "08952150216285672278"
     },
     "user_tz": -330
    },
    "id": "JLjYKdSYhGXT"
   },
   "outputs": [],
   "source": [
    "X = embedding[embedding.wv.vocab]\n",
    "pca = PCA(n_components=2)\n",
    "result = pca.fit_transform(X)"
   ]
  },
  {
   "cell_type": "code",
   "execution_count": 98,
   "metadata": {
    "colab": {
     "base_uri": "https://localhost:8080/",
     "height": 285
    },
    "executionInfo": {
     "elapsed": 4051,
     "status": "ok",
     "timestamp": 1606148811748,
     "user": {
      "displayName": "Anannya Roy Chowdhury",
      "photoUrl": "https://lh3.googleusercontent.com/a-/AOh14GjZCSDPGcvkRjbVwz4l4zBrB1rUCc6TW93wGHysug=s64",
      "userId": "08952150216285672278"
     },
     "user_tz": -330
    },
    "id": "-nmi03W_hGdF",
    "outputId": "73600d52-12a3-446d-dbfc-e50f23964f94"
   },
   "outputs": [
    {
     "data": {
      "image/png": "[encoded data removed]",
      "text/plain": [
       "<Figure size 432x288 with 1 Axes>"
      ]
     },
     "metadata": {
      "tags": []
     },
     "output_type": "display_data"
    }
   ],
   "source": [
    "\n",
    "fig, ax = plt.subplots()\n",
    "ax.plot(result[:, 0], result[:, 1], 'o')\n",
    "ax.set_title('Embeddings - Spread')\n",
    "plt.show()"
   ]
  },
  {
   "cell_type": "code",
   "execution_count": 99,
   "metadata": {
    "colab": {
     "base_uri": "https://localhost:8080/",
     "height": 302
    },
    "executionInfo": {
     "elapsed": 4869,
     "status": "ok",
     "timestamp": 1606148821294,
     "user": {
      "displayName": "Anannya Roy Chowdhury",
      "photoUrl": "https://lh3.googleusercontent.com/a-/AOh14GjZCSDPGcvkRjbVwz4l4zBrB1rUCc6TW93wGHysug=s64",
      "userId": "08952150216285672278"
     },
     "user_tz": -330
    },
    "id": "jCPG8hr-hGiF",
    "outputId": "b793bfce-4ecb-4181-8a92-594a06931363"
   },
   "outputs": [
    {
     "data": {
      "text/plain": [
       "<Figure size 2160x504 with 0 Axes>"
      ]
     },
     "metadata": {
      "tags": []
     },
     "output_type": "display_data"
    },
    {
     "data": {
      "image/png": "[encoded data removed]",
      "text/plain": [
       "<Figure size 432x288 with 1 Axes>"
      ]
     },
     "metadata": {
      "tags": []
     },
     "output_type": "display_data"
    }
   ],
   "source": [
    "i = 50\n",
    "plt.figure(figsize=(30,7))\n",
    "fig, ax = plt.subplots()\n",
    "ax.set_title('Embeddings - Annotated')\n",
    "ax.scatter(result[:i, 0], result[:i, 1])\n",
    "\n",
    "for j, txt in enumerate(list(embedding.wv.vocab)[:i]):\n",
    "    ax.annotate(txt, result[j])"
   ]
  },
  {
   "cell_type": "markdown",
   "metadata": {
    "id": "P0zFtUeOou7P"
   },
   "source": [
    "From the above graph we can notice that terms such as sql,sas / python,excel / pyhon, sas etc occur together which actually makes sense as these tags indicate data science components. "
   ]
  },
  {
   "cell_type": "code",
   "execution_count": 100,
   "metadata": {
    "executionInfo": {
     "elapsed": 10870,
     "status": "ok",
     "timestamp": 1606148894620,
     "user": {
      "displayName": "Anannya Roy Chowdhury",
      "photoUrl": "https://lh3.googleusercontent.com/a-/AOh14GjZCSDPGcvkRjbVwz4l4zBrB1rUCc6TW93wGHysug=s64",
      "userId": "08952150216285672278"
     },
     "user_tz": -330
    },
    "id": "hk1FxsjQovjj"
   },
   "outputs": [],
   "source": [
    "tag_csv_data = df.to_csv('tags.csv', index = True)"
   ]
  },
  {
   "cell_type": "code",
   "execution_count": 102,
   "metadata": {
    "colab": {
     "base_uri": "https://localhost:8080/"
    },
    "executionInfo": {
     "elapsed": 67123,
     "status": "ok",
     "timestamp": 1606149223866,
     "user": {
      "displayName": "Anannya Roy Chowdhury",
      "photoUrl": "https://lh3.googleusercontent.com/a-/AOh14GjZCSDPGcvkRjbVwz4l4zBrB1rUCc6TW93wGHysug=s64",
      "userId": "08952150216285672278"
     },
     "user_tz": -330
    },
    "id": "nlUyGlI0ovgt",
    "outputId": "6f41980f-62b5-49b3-bf5b-44b03caa5306"
   },
   "outputs": [
    {
     "name": "stdout",
     "output_type": "stream",
     "text": [
      "Mounted at drive\n"
     ]
    }
   ],
   "source": [
    "from google.colab import drive\n",
    "drive.mount('drive')"
   ]
  },
  {
   "cell_type": "code",
   "execution_count": null,
   "metadata": {},
   "outputs": [],
   "source": [
    "df2 = df[:10000]"
   ]
  },
  {
   "cell_type": "code",
   "execution_count": 104,
   "metadata": {
    "executionInfo": {
     "elapsed": 13652,
     "status": "ok",
     "timestamp": 1606149572094,
     "user": {
      "displayName": "Anannya Roy Chowdhury",
      "photoUrl": "https://lh3.googleusercontent.com/a-/AOh14GjZCSDPGcvkRjbVwz4l4zBrB1rUCc6TW93wGHysug=s64",
      "userId": "08952150216285672278"
     },
     "user_tz": -330
    },
    "id": "R5FzaQK8oveN"
   },
   "outputs": [],
   "source": [
    "df2.to_csv('data2.csv')\n",
    "!cp data2.csv \"drive/My Drive/Colab Notebooks/MLC_B1_C1_Project_AnannyaRoyChowdhury/\""
   ]
  },
  {
   "cell_type": "code",
   "execution_count": null,
   "metadata": {
    "id": "3bqIZko0ova_"
   },
   "outputs": [],
   "source": []
  },
  {
   "cell_type": "code",
   "execution_count": null,
   "metadata": {},
   "outputs": [],
   "source": []
  },
  {
   "cell_type": "markdown",
   "metadata": {},
   "source": [
    "### ***Begin the Analysis from DB perspective***"
   ]
  },
  {
   "cell_type": "code",
   "execution_count": 69,
   "metadata": {},
   "outputs": [],
   "source": [
    "import sqlite3\n",
    "import csv\n",
    "import re\n",
    "import os\n",
    "from sqlalchemy import create_engine # database connection\n",
    "import datetime as dt\n",
    "import pickle\n",
    "from sklearn.feature_extraction.text import CountVectorizer"
   ]
  },
  {
   "cell_type": "code",
   "execution_count": 70,
   "metadata": {},
   "outputs": [],
   "source": [
    "csvfile = pd.read_csv('data2.csv')"
   ]
  },
  {
   "cell_type": "code",
   "execution_count": 71,
   "metadata": {},
   "outputs": [
    {
     "data": {
      "text/html": [
       "<div>\n",
       "<style scoped>\n",
       "    .dataframe tbody tr th:only-of-type {\n",
       "        vertical-align: middle;\n",
       "    }\n",
       "\n",
       "    .dataframe tbody tr th {\n",
       "        vertical-align: top;\n",
       "    }\n",
       "\n",
       "    .dataframe thead th {\n",
       "        text-align: right;\n",
       "    }\n",
       "</style>\n",
       "<table border=\"1\" class=\"dataframe\">\n",
       "  <thead>\n",
       "    <tr style=\"text-align: right;\">\n",
       "      <th></th>\n",
       "      <th>id</th>\n",
       "      <th>score_quest</th>\n",
       "      <th>title</th>\n",
       "      <th>body_quest</th>\n",
       "      <th>score_ans</th>\n",
       "      <th>body_ans</th>\n",
       "      <th>tags</th>\n",
       "      <th>tag_count</th>\n",
       "    </tr>\n",
       "  </thead>\n",
       "  <tbody>\n",
       "    <tr>\n",
       "      <th>0</th>\n",
       "      <td>120</td>\n",
       "      <td>7</td>\n",
       "      <td>ASP.NET Site Maps</td>\n",
       "      <td>&lt;p&gt;Has anyone got experience creating &lt;strong&gt;...</td>\n",
       "      <td>9</td>\n",
       "      <td>['&lt;p&gt;The Jeff Prosise version from MSDN magazi...</td>\n",
       "      <td>sql</td>\n",
       "      <td>1</td>\n",
       "    </tr>\n",
       "    <tr>\n",
       "      <th>1</th>\n",
       "      <td>1970</td>\n",
       "      <td>7</td>\n",
       "      <td>What language do you use for PostgreSQL trigge...</td>\n",
       "      <td>&lt;p&gt;PostgreSQL is interesting in that it suppor...</td>\n",
       "      <td>14</td>\n",
       "      <td>[\"&lt;p&gt;When I wrote my first trigger it was in P...</td>\n",
       "      <td>sql</td>\n",
       "      <td>1</td>\n",
       "    </tr>\n",
       "    <tr>\n",
       "      <th>2</th>\n",
       "      <td>2120</td>\n",
       "      <td>7</td>\n",
       "      <td>Convert HashBytes to VarChar</td>\n",
       "      <td>&lt;p&gt;I want to get the MD5 Hash of a string valu...</td>\n",
       "      <td>14</td>\n",
       "      <td>[\"&lt;p&gt;I have found the solution else where:&lt;/p&gt;...</td>\n",
       "      <td>sql</td>\n",
       "      <td>1</td>\n",
       "    </tr>\n",
       "    <tr>\n",
       "      <th>3</th>\n",
       "      <td>2840</td>\n",
       "      <td>7</td>\n",
       "      <td>Paging SQL Server 2005 Results</td>\n",
       "      <td>&lt;p&gt;How do I page results in SQL Server 2005?&lt;/...</td>\n",
       "      <td>14</td>\n",
       "      <td>['&lt;p&gt;You can use &lt;code&gt;the Row_Number()&lt;/code&gt;...</td>\n",
       "      <td>sql</td>\n",
       "      <td>1</td>\n",
       "    </tr>\n",
       "    <tr>\n",
       "      <th>4</th>\n",
       "      <td>4110</td>\n",
       "      <td>7</td>\n",
       "      <td>What program can I use to generate diagrams of...</td>\n",
       "      <td>&lt;p&gt;I've been tasked with redesigning part of a...</td>\n",
       "      <td>5</td>\n",
       "      <td>[\"&lt;P&gt;If you are talking about MS SQL Server ta...</td>\n",
       "      <td>sql</td>\n",
       "      <td>1</td>\n",
       "    </tr>\n",
       "    <tr>\n",
       "      <th>5</th>\n",
       "      <td>6340</td>\n",
       "      <td>7</td>\n",
       "      <td>Multiple foreign keys?</td>\n",
       "      <td>&lt;p&gt;I've got a table that is supposed to track ...</td>\n",
       "      <td>7</td>\n",
       "      <td>[\"&lt;p&gt;You defined the primary key twice. Try:&lt;/...</td>\n",
       "      <td>sql</td>\n",
       "      <td>1</td>\n",
       "    </tr>\n",
       "    <tr>\n",
       "      <th>6</th>\n",
       "      <td>10190</td>\n",
       "      <td>7</td>\n",
       "      <td>How to return a page of results from SQL?</td>\n",
       "      <td>&lt;p&gt;Many applications have grids that display d...</td>\n",
       "      <td>14</td>\n",
       "      <td>['&lt;p&gt;On MS SQL Server 2005 and above, &lt;a href=...</td>\n",
       "      <td>sql</td>\n",
       "      <td>1</td>\n",
       "    </tr>\n",
       "    <tr>\n",
       "      <th>7</th>\n",
       "      <td>11060</td>\n",
       "      <td>7</td>\n",
       "      <td>How should I unit test a code-generator?</td>\n",
       "      <td>&lt;p&gt;This is a difficult and open-ended question...</td>\n",
       "      <td>12</td>\n",
       "      <td>[\"&lt;p&gt;I started writing up a summary of my expe...</td>\n",
       "      <td>python</td>\n",
       "      <td>1</td>\n",
       "    </tr>\n",
       "    <tr>\n",
       "      <th>8</th>\n",
       "      <td>13540</td>\n",
       "      <td>7</td>\n",
       "      <td>Insert Update stored proc on SQL Server</td>\n",
       "      <td>&lt;p&gt;I've written a stored proc that will do an ...</td>\n",
       "      <td>14</td>\n",
       "      <td>['&lt;p&gt;Your assumption is right, this is the opt...</td>\n",
       "      <td>sql</td>\n",
       "      <td>1</td>\n",
       "    </tr>\n",
       "    <tr>\n",
       "      <th>9</th>\n",
       "      <td>17250</td>\n",
       "      <td>7</td>\n",
       "      <td>Create an encrypted ZIP file in Python</td>\n",
       "      <td>&lt;p&gt;I'm creating an ZIP file with ZipFile in Py...</td>\n",
       "      <td>14</td>\n",
       "      <td>['&lt;p&gt;You can use the &lt;a href=\"http://www.chilk...</td>\n",
       "      <td>python</td>\n",
       "      <td>1</td>\n",
       "    </tr>\n",
       "  </tbody>\n",
       "</table>\n",
       "</div>"
      ],
      "text/plain": [
       "      id  score_quest                                              title  \\\n",
       "0    120            7                                  ASP.NET Site Maps   \n",
       "1   1970            7  What language do you use for PostgreSQL trigge...   \n",
       "2   2120            7                       Convert HashBytes to VarChar   \n",
       "3   2840            7                     Paging SQL Server 2005 Results   \n",
       "4   4110            7  What program can I use to generate diagrams of...   \n",
       "5   6340            7                             Multiple foreign keys?   \n",
       "6  10190            7          How to return a page of results from SQL?   \n",
       "7  11060            7           How should I unit test a code-generator?   \n",
       "8  13540            7            Insert Update stored proc on SQL Server   \n",
       "9  17250            7             Create an encrypted ZIP file in Python   \n",
       "\n",
       "                                          body_quest  score_ans  \\\n",
       "0  <p>Has anyone got experience creating <strong>...          9   \n",
       "1  <p>PostgreSQL is interesting in that it suppor...         14   \n",
       "2  <p>I want to get the MD5 Hash of a string valu...         14   \n",
       "3  <p>How do I page results in SQL Server 2005?</...         14   \n",
       "4  <p>I've been tasked with redesigning part of a...          5   \n",
       "5  <p>I've got a table that is supposed to track ...          7   \n",
       "6  <p>Many applications have grids that display d...         14   \n",
       "7  <p>This is a difficult and open-ended question...         12   \n",
       "8  <p>I've written a stored proc that will do an ...         14   \n",
       "9  <p>I'm creating an ZIP file with ZipFile in Py...         14   \n",
       "\n",
       "                                            body_ans    tags  tag_count  \n",
       "0  ['<p>The Jeff Prosise version from MSDN magazi...     sql          1  \n",
       "1  [\"<p>When I wrote my first trigger it was in P...     sql          1  \n",
       "2  [\"<p>I have found the solution else where:</p>...     sql          1  \n",
       "3  ['<p>You can use <code>the Row_Number()</code>...     sql          1  \n",
       "4  [\"<P>If you are talking about MS SQL Server ta...     sql          1  \n",
       "5  [\"<p>You defined the primary key twice. Try:</...     sql          1  \n",
       "6  ['<p>On MS SQL Server 2005 and above, <a href=...     sql          1  \n",
       "7  [\"<p>I started writing up a summary of my expe...  python          1  \n",
       "8  ['<p>Your assumption is right, this is the opt...     sql          1  \n",
       "9  ['<p>You can use the <a href=\"http://www.chilk...  python          1  "
      ]
     },
     "execution_count": 71,
     "metadata": {},
     "output_type": "execute_result"
    }
   ],
   "source": [
    "\n",
    "csvfile.drop(labels='Unnamed: 0',axis=1,inplace=True)\n",
    "csvfile.head(10)"
   ]
  },
  {
   "cell_type": "code",
   "execution_count": 105,
   "metadata": {},
   "outputs": [],
   "source": [
    "#Creating db file from csv\n",
    "if not os.path.isfile(os.path.join(\"Dtbsso.db\")):\n",
    "    #this sqlalchemy create_engine creates an in-memory SQLite database.\n",
    "    engine = create_engine(\"sqlite:///Dtbsso.db\") #https://docs.sqlalchemy.org/en/13/core/engines.html\n",
    "    chunksize = 150\n",
    "    cnt = 0\n",
    "    for rows in pd.read_csv((\"data2.csv\"),header=None, names = [ \"recordid\",\"id\", \"score_quest\", \"title\", \"body_quest\",\"score_ans\",\"body_ans\" ,\"tags\"], chunksize = chunksize, iterator = True):\n",
    "        cnt+=1\n",
    "        rows.to_sql('Rows', engine, if_exists='append', index = False)\n",
    "        if cnt % 1000 == 0:\n",
    "            print(\"{} rows written\".format(cnt*chunksize))\n",
    "    \n",
    "#Here above what we are doing is that, first we have created an in memory sqlite database using the line: \n",
    "#\"create_engine(\"sqlite:///\"+os.path.join(DATAPATH, DATA_DB))\". \n",
    "#After this we are reading our csv file in chunks of 150 as an iterator. It simply means that whenever the loop runs we are \n",
    "#simply reading 150 rows everytime and appending this 150 rows in the sqlite database created above in the table name \"Rows\"."
   ]
  },
  {
   "cell_type": "code",
   "execution_count": 106,
   "metadata": {},
   "outputs": [
    {
     "data": {
      "text/html": [
       "<div>\n",
       "<style scoped>\n",
       "    .dataframe tbody tr th:only-of-type {\n",
       "        vertical-align: middle;\n",
       "    }\n",
       "\n",
       "    .dataframe tbody tr th {\n",
       "        vertical-align: top;\n",
       "    }\n",
       "\n",
       "    .dataframe thead th {\n",
       "        text-align: right;\n",
       "    }\n",
       "</style>\n",
       "<table border=\"1\" class=\"dataframe\">\n",
       "  <thead>\n",
       "    <tr style=\"text-align: right;\">\n",
       "      <th></th>\n",
       "      <th>recordid</th>\n",
       "      <th>id</th>\n",
       "      <th>score_quest</th>\n",
       "      <th>title</th>\n",
       "      <th>body_quest</th>\n",
       "      <th>score_ans</th>\n",
       "      <th>body_ans</th>\n",
       "      <th>tags</th>\n",
       "    </tr>\n",
       "  </thead>\n",
       "  <tbody>\n",
       "    <tr>\n",
       "      <th>0</th>\n",
       "      <td>id</td>\n",
       "      <td>score_quest</td>\n",
       "      <td>title</td>\n",
       "      <td>body_quest</td>\n",
       "      <td>score_ans</td>\n",
       "      <td>body_ans</td>\n",
       "      <td>tags</td>\n",
       "      <td>tag_count</td>\n",
       "    </tr>\n",
       "    <tr>\n",
       "      <th>1</th>\n",
       "      <td>120</td>\n",
       "      <td>7</td>\n",
       "      <td>ASP.NET Site Maps</td>\n",
       "      <td>&lt;p&gt;Has anyone got experience creating &lt;strong&gt;...</td>\n",
       "      <td>9</td>\n",
       "      <td>['&lt;p&gt;The Jeff Prosise version from MSDN magazi...</td>\n",
       "      <td>sql</td>\n",
       "      <td>1</td>\n",
       "    </tr>\n",
       "    <tr>\n",
       "      <th>2</th>\n",
       "      <td>1970</td>\n",
       "      <td>7</td>\n",
       "      <td>What language do you use for PostgreSQL trigge...</td>\n",
       "      <td>&lt;p&gt;PostgreSQL is interesting in that it suppor...</td>\n",
       "      <td>14</td>\n",
       "      <td>[\"&lt;p&gt;When I wrote my first trigger it was in P...</td>\n",
       "      <td>sql</td>\n",
       "      <td>1</td>\n",
       "    </tr>\n",
       "    <tr>\n",
       "      <th>3</th>\n",
       "      <td>2120</td>\n",
       "      <td>7</td>\n",
       "      <td>Convert HashBytes to VarChar</td>\n",
       "      <td>&lt;p&gt;I want to get the MD5 Hash of a string valu...</td>\n",
       "      <td>14</td>\n",
       "      <td>[\"&lt;p&gt;I have found the solution else where:&lt;/p&gt;...</td>\n",
       "      <td>sql</td>\n",
       "      <td>1</td>\n",
       "    </tr>\n",
       "    <tr>\n",
       "      <th>4</th>\n",
       "      <td>2840</td>\n",
       "      <td>7</td>\n",
       "      <td>Paging SQL Server 2005 Results</td>\n",
       "      <td>&lt;p&gt;How do I page results in SQL Server 2005?&lt;/...</td>\n",
       "      <td>14</td>\n",
       "      <td>['&lt;p&gt;You can use &lt;code&gt;the Row_Number()&lt;/code&gt;...</td>\n",
       "      <td>sql</td>\n",
       "      <td>1</td>\n",
       "    </tr>\n",
       "    <tr>\n",
       "      <th>...</th>\n",
       "      <td>...</td>\n",
       "      <td>...</td>\n",
       "      <td>...</td>\n",
       "      <td>...</td>\n",
       "      <td>...</td>\n",
       "      <td>...</td>\n",
       "      <td>...</td>\n",
       "      <td>...</td>\n",
       "    </tr>\n",
       "    <tr>\n",
       "      <th>9996</th>\n",
       "      <td>5206910</td>\n",
       "      <td>0</td>\n",
       "      <td>How to correct \" Subscript indices must either...</td>\n",
       "      <td>&lt;p&gt;I am very new in Matlab. I made a for loop ...</td>\n",
       "      <td>0</td>\n",
       "      <td>[\"&lt;p&gt;well, it's simple. first let's just remov...</td>\n",
       "      <td>matlab</td>\n",
       "      <td>1</td>\n",
       "    </tr>\n",
       "    <tr>\n",
       "      <th>9997</th>\n",
       "      <td>5207430</td>\n",
       "      <td>1</td>\n",
       "      <td>non-prime factorings with some repeats</td>\n",
       "      <td>&lt;p&gt;Let's say we have numbers factors, for exam...</td>\n",
       "      <td>3</td>\n",
       "      <td>['&lt;p&gt;What you are looking for is more commonly...</td>\n",
       "      <td>python</td>\n",
       "      <td>1</td>\n",
       "    </tr>\n",
       "    <tr>\n",
       "      <th>9998</th>\n",
       "      <td>5207960</td>\n",
       "      <td>2</td>\n",
       "      <td>How to partition an image to 64 block in matlab</td>\n",
       "      <td>&lt;p&gt;I want to compute the Color Layout Descript...</td>\n",
       "      <td>6</td>\n",
       "      <td>[\"&lt;p&gt;Here some pieces of code that I wrote for...</td>\n",
       "      <td>matlab</td>\n",
       "      <td>1</td>\n",
       "    </tr>\n",
       "    <tr>\n",
       "      <th>9999</th>\n",
       "      <td>5208060</td>\n",
       "      <td>1</td>\n",
       "      <td>Extending auth.User model, proxied fields, and...</td>\n",
       "      <td>&lt;p&gt;(Edit:  I know that there's a totally separ...</td>\n",
       "      <td>2</td>\n",
       "      <td>['&lt;p&gt;This is not a proxy class, it is a relati...</td>\n",
       "      <td>python</td>\n",
       "      <td>1</td>\n",
       "    </tr>\n",
       "    <tr>\n",
       "      <th>10000</th>\n",
       "      <td>5208230</td>\n",
       "      <td>0</td>\n",
       "      <td>Add element to line</td>\n",
       "      <td>&lt;p&gt;I have a log file with (space delimited) nu...</td>\n",
       "      <td>4</td>\n",
       "      <td>['&lt;p&gt;&lt;a href=\"http://gnuwin32.sourceforge.net/...</td>\n",
       "      <td>python</td>\n",
       "      <td>1</td>\n",
       "    </tr>\n",
       "  </tbody>\n",
       "</table>\n",
       "<p>10001 rows × 8 columns</p>\n",
       "</div>"
      ],
      "text/plain": [
       "      recordid           id  \\\n",
       "0           id  score_quest   \n",
       "1          120            7   \n",
       "2         1970            7   \n",
       "3         2120            7   \n",
       "4         2840            7   \n",
       "...        ...          ...   \n",
       "9996   5206910            0   \n",
       "9997   5207430            1   \n",
       "9998   5207960            2   \n",
       "9999   5208060            1   \n",
       "10000  5208230            0   \n",
       "\n",
       "                                             score_quest  \\\n",
       "0                                                  title   \n",
       "1                                      ASP.NET Site Maps   \n",
       "2      What language do you use for PostgreSQL trigge...   \n",
       "3                           Convert HashBytes to VarChar   \n",
       "4                         Paging SQL Server 2005 Results   \n",
       "...                                                  ...   \n",
       "9996   How to correct \" Subscript indices must either...   \n",
       "9997              non-prime factorings with some repeats   \n",
       "9998     How to partition an image to 64 block in matlab   \n",
       "9999   Extending auth.User model, proxied fields, and...   \n",
       "10000                                Add element to line   \n",
       "\n",
       "                                                   title body_quest  \\\n",
       "0                                             body_quest  score_ans   \n",
       "1      <p>Has anyone got experience creating <strong>...          9   \n",
       "2      <p>PostgreSQL is interesting in that it suppor...         14   \n",
       "3      <p>I want to get the MD5 Hash of a string valu...         14   \n",
       "4      <p>How do I page results in SQL Server 2005?</...         14   \n",
       "...                                                  ...        ...   \n",
       "9996   <p>I am very new in Matlab. I made a for loop ...          0   \n",
       "9997   <p>Let's say we have numbers factors, for exam...          3   \n",
       "9998   <p>I want to compute the Color Layout Descript...          6   \n",
       "9999   <p>(Edit:  I know that there's a totally separ...          2   \n",
       "10000  <p>I have a log file with (space delimited) nu...          4   \n",
       "\n",
       "                                               score_ans body_ans       tags  \n",
       "0                                               body_ans     tags  tag_count  \n",
       "1      ['<p>The Jeff Prosise version from MSDN magazi...      sql          1  \n",
       "2      [\"<p>When I wrote my first trigger it was in P...      sql          1  \n",
       "3      [\"<p>I have found the solution else where:</p>...      sql          1  \n",
       "4      ['<p>You can use <code>the Row_Number()</code>...      sql          1  \n",
       "...                                                  ...      ...        ...  \n",
       "9996   [\"<p>well, it's simple. first let's just remov...   matlab          1  \n",
       "9997   ['<p>What you are looking for is more commonly...   python          1  \n",
       "9998   [\"<p>Here some pieces of code that I wrote for...   matlab          1  \n",
       "9999   ['<p>This is not a proxy class, it is a relati...   python          1  \n",
       "10000  ['<p><a href=\"http://gnuwin32.sourceforge.net/...   python          1  \n",
       "\n",
       "[10001 rows x 8 columns]"
      ]
     },
     "execution_count": 106,
     "metadata": {},
     "output_type": "execute_result"
    }
   ],
   "source": [
    "# Counting number of rows\n",
    "if os.path.isfile(os.path.join(\"Dtbsso.db\")):\n",
    "    connection = sqlite3.connect(os.path.join(\"Dtbsso.db\"))\n",
    "    data_count = pd.read_sql_query(\"SELECT * FROM Rows\", connection)\n",
    "    connection.close()\n",
    "data_count"
   ]
  },
  {
   "cell_type": "markdown",
   "metadata": {},
   "source": [
    "***Distribution of tags per question***"
   ]
  },
  {
   "cell_type": "code",
   "execution_count": 91,
   "metadata": {},
   "outputs": [],
   "source": [
    "if os.path.isfile(os.path.join(\"Dtbsso.db\")):\n",
    "    con = sqlite3.connect(os.path.join(\"Dtbsso.db\"))\n",
    "    data_tags = pd.read_sql_query(\"SELECT body_ans FROM Rows\", con)\n",
    "    data_tags_count = data_tags[\"body_ans\"].apply(lambda x: len(x.split(\" \"))) #series.apply(func) invoke function on values of Series.\n",
    "    data_tags['tags_count'] = data_tags_count\n",
    "    data_tags.head()"
   ]
  },
  {
   "cell_type": "code",
   "execution_count": 92,
   "metadata": {},
   "outputs": [
    {
     "data": {
      "text/plain": [
       "1    9903\n",
       "2      98\n",
       "Name: tags_count, dtype: int64"
      ]
     },
     "execution_count": 92,
     "metadata": {},
     "output_type": "execute_result"
    }
   ],
   "source": [
    "\n",
    "data_tags['tags_count'].value_counts()"
   ]
  },
  {
   "cell_type": "code",
   "execution_count": 93,
   "metadata": {},
   "outputs": [],
   "source": [
    "if os.path.isfile(os.path.join(\"Dtbsso.db\")):\n",
    "    con = sqlite3.connect(os.path.join(\"Dtbsso.db\"))\n",
    "    data_tags = pd.read_sql_query(\"SELECT body_ans FROM Rows\", con)\n",
    "    vectorizer = CountVectorizer(tokenizer = lambda x: x.split(\" \"))\n",
    "    data_bow = vectorizer.fit_transform(data_tags['body_ans'])\n",
    "    con.close()"
   ]
  },
  {
   "cell_type": "markdown",
   "metadata": {},
   "source": [
    "***Number of times Tags appeared in our data***"
   ]
  },
  {
   "cell_type": "code",
   "execution_count": 94,
   "metadata": {},
   "outputs": [
    {
     "data": {
      "text/html": [
       "<div>\n",
       "<style scoped>\n",
       "    .dataframe tbody tr th:only-of-type {\n",
       "        vertical-align: middle;\n",
       "    }\n",
       "\n",
       "    .dataframe tbody tr th {\n",
       "        vertical-align: top;\n",
       "    }\n",
       "\n",
       "    .dataframe thead th {\n",
       "        text-align: right;\n",
       "    }\n",
       "</style>\n",
       "<table border=\"1\" class=\"dataframe\">\n",
       "  <thead>\n",
       "    <tr style=\"text-align: right;\">\n",
       "      <th></th>\n",
       "      <th>Tags</th>\n",
       "      <th>Count</th>\n",
       "    </tr>\n",
       "  </thead>\n",
       "  <tbody>\n",
       "    <tr>\n",
       "      <th>0</th>\n",
       "      <td>python</td>\n",
       "      <td>4903</td>\n",
       "    </tr>\n",
       "    <tr>\n",
       "      <th>1</th>\n",
       "      <td>sql</td>\n",
       "      <td>3935</td>\n",
       "    </tr>\n",
       "    <tr>\n",
       "      <th>2</th>\n",
       "      <td>excel</td>\n",
       "      <td>600</td>\n",
       "    </tr>\n",
       "    <tr>\n",
       "      <th>3</th>\n",
       "      <td>r</td>\n",
       "      <td>338</td>\n",
       "    </tr>\n",
       "    <tr>\n",
       "      <th>4</th>\n",
       "      <td>matlab</td>\n",
       "      <td>296</td>\n",
       "    </tr>\n",
       "    <tr>\n",
       "      <th>5</th>\n",
       "      <td>sas</td>\n",
       "      <td>26</td>\n",
       "    </tr>\n",
       "    <tr>\n",
       "      <th>6</th>\n",
       "      <td>tags</td>\n",
       "      <td>1</td>\n",
       "    </tr>\n",
       "  </tbody>\n",
       "</table>\n",
       "</div>"
      ],
      "text/plain": [
       "     Tags  Count\n",
       "0  python   4903\n",
       "1     sql   3935\n",
       "2   excel    600\n",
       "3       r    338\n",
       "4  matlab    296\n",
       "5     sas     26\n",
       "6    tags      1"
      ]
     },
     "execution_count": 94,
     "metadata": {},
     "output_type": "execute_result"
    }
   ],
   "source": [
    "#top highest occurring tags\n",
    "col_sum = data_bow.sum(axis = 0).A1 #data_bow.sum(axis = 0) will sum the column of sparse matrix then .A1 will convert that \n",
    "                                    #matrix into array.\n",
    "feat_count = dict(zip(vectorizer.get_feature_names(), col_sum))\n",
    "feat_count_sorted = dict(sorted(feat_count.items(), key = lambda x: x[1], reverse = True))\n",
    "count_data = {\"Tags\":list(feat_count_sorted.keys()), \"Count\": list(feat_count_sorted.values())}\n",
    "count_df = pd.DataFrame(data = count_data)\n",
    "count_df[:10]"
   ]
  },
  {
   "cell_type": "code",
   "execution_count": 96,
   "metadata": {},
   "outputs": [
    {
     "name": "stdout",
     "output_type": "stream",
     "text": [
      "Collecting wordcloud\n",
      "  Downloading wordcloud-1.8.1-cp38-cp38-win_amd64.whl (155 kB)\n",
      "Requirement already satisfied: matplotlib in c:\\users\\anannya_roy_chowdhur\\anaconda3\\lib\\site-packages (from wordcloud) (3.2.2)\n",
      "Requirement already satisfied: numpy>=1.6.1 in c:\\users\\anannya_roy_chowdhur\\anaconda3\\lib\\site-packages (from wordcloud) (1.18.5)\n",
      "Requirement already satisfied: pillow in c:\\users\\anannya_roy_chowdhur\\anaconda3\\lib\\site-packages (from wordcloud) (7.2.0)\n",
      "Requirement already satisfied: pyparsing!=2.0.4,!=2.1.2,!=2.1.6,>=2.0.1 in c:\\users\\anannya_roy_chowdhur\\anaconda3\\lib\\site-packages (from matplotlib->wordcloud) (2.4.7)\n",
      "Requirement already satisfied: kiwisolver>=1.0.1 in c:\\users\\anannya_roy_chowdhur\\anaconda3\\lib\\site-packages (from matplotlib->wordcloud) (1.2.0)\n",
      "Requirement already satisfied: python-dateutil>=2.1 in c:\\users\\anannya_roy_chowdhur\\anaconda3\\lib\\site-packages (from matplotlib->wordcloud) (2.8.1)\n",
      "Requirement already satisfied: cycler>=0.10 in c:\\users\\anannya_roy_chowdhur\\anaconda3\\lib\\site-packages (from matplotlib->wordcloud) (0.10.0)\n",
      "Requirement already satisfied: six>=1.5 in c:\\users\\anannya_roy_chowdhur\\anaconda3\\lib\\site-packages (from python-dateutil>=2.1->matplotlib->wordcloud) (1.15.0)\n",
      "Installing collected packages: wordcloud\n",
      "Successfully installed wordcloud-1.8.1\n"
     ]
    },
    {
     "data": {
      "image/png": "[encoded data removed]",
      "text/plain": [
       "<Figure size 2160x1440 with 1 Axes>"
      ]
     },
     "metadata": {
      "needs_background": "light"
     },
     "output_type": "display_data"
    }
   ],
   "source": [
    "!pip install wordcloud\n",
    "from wordcloud import WordCloud\n",
    "\n",
    "worcloudPlot = WordCloud(background_color=\"black\", width=1500, height=1000)\n",
    "worcloudPlot.generate_from_frequencies(frequencies=feat_count)\n",
    "plt.figure(figsize=(30,20))\n",
    "plt.imshow(worcloudPlot, interpolation=\"bilinear\")\n",
    "plt.axis(\"off\")\n",
    "plt.show()"
   ]
  },
  {
   "cell_type": "code",
   "execution_count": 102,
   "metadata": {},
   "outputs": [
    {
     "data": {
      "image/png": "[encoded data removed]",
      "text/plain": [
       "<Figure size 1296x720 with 1 Axes>"
      ]
     },
     "metadata": {
      "needs_background": "light"
     },
     "output_type": "display_data"
    }
   ],
   "source": [
    "axes = count_df.head(20).plot(x = 'Tags', y = 'Count', kind = 'bar', figsize = (18, 10), fontsize = 15, grid = True)\n",
    "plt.xlabel(\"\")\n",
    "plt.ylabel(\"Count\", fontsize = 20)\n",
    "plt.title(\"Top 20 Highest occurring Tags\", fontsize = 20)\n",
    "cnt = 0\n",
    "for i in axes.patches:\n",
    "    axes.text(i.get_x(), i.get_height()+500, count_df.head(20)['Tags'][cnt], fontsize=12, color='black')\n",
    "    cnt +=1"
   ]
  },
  {
   "cell_type": "code",
   "execution_count": null,
   "metadata": {},
   "outputs": [],
   "source": []
  }
 ],
 "metadata": {
  "accelerator": "GPU",
  "colab": {
   "authorship_tag": "ABX9TyMo6nWWiys2eXC3cEw8tbR+",
   "collapsed_sections": [],
   "name": "MLC_B1_C1_Project_AnannyaRoyChowdhury.ipynb",
   "provenance": [
    {
     "file_id": "1mKFNiU6j4wQ0c8Tu_RKNtJfj8cfb3Ik0",
     "timestamp": 1605985792198
    }
   ]
  },
  "kernelspec": {
   "display_name": "Python 3",
   "language": "python",
   "name": "python3"
  },
  "language_info": {
   "codemirror_mode": {
    "name": "ipython",
    "version": 3
   },
   "file_extension": ".py",
   "mimetype": "text/x-python",
   "name": "python",
   "nbconvert_exporter": "python",
   "pygments_lexer": "ipython3",
   "version": "3.8.3"
  },
  "widgets": {
   "application/vnd.jupyter.widget-state+json": {
    "082a6a13eec74bfb8945b7a1e70f3a1e": {
     "model_module": "@jupyter-widgets/controls",
     "model_name": "HBoxModel",
     "state": {
      "_dom_classes": [],
      "_model_module": "@jupyter-widgets/controls",
      "_model_module_version": "1.5.0",
      "_model_name": "HBoxModel",
      "_view_count": null,
      "_view_module": "@jupyter-widgets/controls",
      "_view_module_version": "1.5.0",
      "_view_name": "HBoxView",
      "box_style": "",
      "children": [
       "IPY_MODEL_2b9ea5b879374b61b2a537627eed8d03",
       "IPY_MODEL_31ea7d8775de41dca9000a38e6afdeb1"
      ],
      "layout": "IPY_MODEL_f23a157d04b74decb51c1f6509665f4c"
     }
    },
    "0c82136321734964914c8762cb835a17": {
     "model_module": "@jupyter-widgets/controls",
     "model_name": "HBoxModel",
     "state": {
      "_dom_classes": [],
      "_model_module": "@jupyter-widgets/controls",
      "_model_module_version": "1.5.0",
      "_model_name": "HBoxModel",
      "_view_count": null,
      "_view_module": "@jupyter-widgets/controls",
      "_view_module_version": "1.5.0",
      "_view_name": "HBoxView",
      "box_style": "",
      "children": [
       "IPY_MODEL_406d5af1f63d445f952c975712d0a8a8",
       "IPY_MODEL_c40da03dd77249c8826843934160b3bb"
      ],
      "layout": "IPY_MODEL_35cca3b240dd446fbb5806b1de06d7f0"
     }
    },
    "16cdbd520891443385dacfcb5fed21e7": {
     "model_module": "@jupyter-widgets/controls",
     "model_name": "HBoxModel",
     "state": {
      "_dom_classes": [],
      "_model_module": "@jupyter-widgets/controls",
      "_model_module_version": "1.5.0",
      "_model_name": "HBoxModel",
      "_view_count": null,
      "_view_module": "@jupyter-widgets/controls",
      "_view_module_version": "1.5.0",
      "_view_name": "HBoxView",
      "box_style": "",
      "children": [
       "IPY_MODEL_b8d5f90483724d84a080d610a5cc1ad9",
       "IPY_MODEL_411b734511b44b1aa6cdf52a86e04ab3"
      ],
      "layout": "IPY_MODEL_2d94e980bd7f490f8b71bd47ed29e08c"
     }
    },
    "29183b8d430147af8dd627b9e443b529": {
     "model_module": "@jupyter-widgets/base",
     "model_name": "LayoutModel",
     "state": {
      "_model_module": "@jupyter-widgets/base",
      "_model_module_version": "1.2.0",
      "_model_name": "LayoutModel",
      "_view_count": null,
      "_view_module": "@jupyter-widgets/base",
      "_view_module_version": "1.2.0",
      "_view_name": "LayoutView",
      "align_content": null,
      "align_items": null,
      "align_self": null,
      "border": null,
      "bottom": null,
      "display": null,
      "flex": null,
      "flex_flow": null,
      "grid_area": null,
      "grid_auto_columns": null,
      "grid_auto_flow": null,
      "grid_auto_rows": null,
      "grid_column": null,
      "grid_gap": null,
      "grid_row": null,
      "grid_template_areas": null,
      "grid_template_columns": null,
      "grid_template_rows": null,
      "height": null,
      "justify_content": null,
      "justify_items": null,
      "left": null,
      "margin": null,
      "max_height": null,
      "max_width": null,
      "min_height": null,
      "min_width": null,
      "object_fit": null,
      "object_position": null,
      "order": null,
      "overflow": null,
      "overflow_x": null,
      "overflow_y": null,
      "padding": null,
      "right": null,
      "top": null,
      "visibility": null,
      "width": null
     }
    },
    "2b9ea5b879374b61b2a537627eed8d03": {
     "model_module": "@jupyter-widgets/controls",
     "model_name": "FloatProgressModel",
     "state": {
      "_dom_classes": [],
      "_model_module": "@jupyter-widgets/controls",
      "_model_module_version": "1.5.0",
      "_model_name": "FloatProgressModel",
      "_view_count": null,
      "_view_module": "@jupyter-widgets/controls",
      "_view_module_version": "1.5.0",
      "_view_name": "ProgressView",
      "bar_style": "success",
      "description": "100%",
      "description_tooltip": null,
      "layout": "IPY_MODEL_b1a3b8c8b06e4797ba7a4b496786fe17",
      "max": 32,
      "min": 0,
      "orientation": "horizontal",
      "style": "IPY_MODEL_c20b23ee17ef4efd88fa86c97128545b",
      "value": 32
     }
    },
    "2d94e980bd7f490f8b71bd47ed29e08c": {
     "model_module": "@jupyter-widgets/base",
     "model_name": "LayoutModel",
     "state": {
      "_model_module": "@jupyter-widgets/base",
      "_model_module_version": "1.2.0",
      "_model_name": "LayoutModel",
      "_view_count": null,
      "_view_module": "@jupyter-widgets/base",
      "_view_module_version": "1.2.0",
      "_view_name": "LayoutView",
      "align_content": null,
      "align_items": null,
      "align_self": null,
      "border": null,
      "bottom": null,
      "display": null,
      "flex": null,
      "flex_flow": null,
      "grid_area": null,
      "grid_auto_columns": null,
      "grid_auto_flow": null,
      "grid_auto_rows": null,
      "grid_column": null,
      "grid_gap": null,
      "grid_row": null,
      "grid_template_areas": null,
      "grid_template_columns": null,
      "grid_template_rows": null,
      "height": null,
      "justify_content": null,
      "justify_items": null,
      "left": null,
      "margin": null,
      "max_height": null,
      "max_width": null,
      "min_height": null,
      "min_width": null,
      "object_fit": null,
      "object_position": null,
      "order": null,
      "overflow": null,
      "overflow_x": null,
      "overflow_y": null,
      "padding": null,
      "right": null,
      "top": null,
      "visibility": null,
      "width": null
     }
    },
    "31ea7d8775de41dca9000a38e6afdeb1": {
     "model_module": "@jupyter-widgets/controls",
     "model_name": "HTMLModel",
     "state": {
      "_dom_classes": [],
      "_model_module": "@jupyter-widgets/controls",
      "_model_module_version": "1.5.0",
      "_model_name": "HTMLModel",
      "_view_count": null,
      "_view_module": "@jupyter-widgets/controls",
      "_view_module_version": "1.5.0",
      "_view_name": "HTMLView",
      "description": "",
      "description_tooltip": null,
      "layout": "IPY_MODEL_3ccb81e122f24126970b76ab5cfe112f",
      "placeholder": "​",
      "style": "IPY_MODEL_6962338d91d1484e92fbace867e323be",
      "value": " 32/32 [00:00&lt;00:00, 117.34it/s]"
     }
    },
    "35cca3b240dd446fbb5806b1de06d7f0": {
     "model_module": "@jupyter-widgets/base",
     "model_name": "LayoutModel",
     "state": {
      "_model_module": "@jupyter-widgets/base",
      "_model_module_version": "1.2.0",
      "_model_name": "LayoutModel",
      "_view_count": null,
      "_view_module": "@jupyter-widgets/base",
      "_view_module_version": "1.2.0",
      "_view_name": "LayoutView",
      "align_content": null,
      "align_items": null,
      "align_self": null,
      "border": null,
      "bottom": null,
      "display": null,
      "flex": null,
      "flex_flow": null,
      "grid_area": null,
      "grid_auto_columns": null,
      "grid_auto_flow": null,
      "grid_auto_rows": null,
      "grid_column": null,
      "grid_gap": null,
      "grid_row": null,
      "grid_template_areas": null,
      "grid_template_columns": null,
      "grid_template_rows": null,
      "height": null,
      "justify_content": null,
      "justify_items": null,
      "left": null,
      "margin": null,
      "max_height": null,
      "max_width": null,
      "min_height": null,
      "min_width": null,
      "object_fit": null,
      "object_position": null,
      "order": null,
      "overflow": null,
      "overflow_x": null,
      "overflow_y": null,
      "padding": null,
      "right": null,
      "top": null,
      "visibility": null,
      "width": null
     }
    },
    "3ccb81e122f24126970b76ab5cfe112f": {
     "model_module": "@jupyter-widgets/base",
     "model_name": "LayoutModel",
     "state": {
      "_model_module": "@jupyter-widgets/base",
      "_model_module_version": "1.2.0",
      "_model_name": "LayoutModel",
      "_view_count": null,
      "_view_module": "@jupyter-widgets/base",
      "_view_module_version": "1.2.0",
      "_view_name": "LayoutView",
      "align_content": null,
      "align_items": null,
      "align_self": null,
      "border": null,
      "bottom": null,
      "display": null,
      "flex": null,
      "flex_flow": null,
      "grid_area": null,
      "grid_auto_columns": null,
      "grid_auto_flow": null,
      "grid_auto_rows": null,
      "grid_column": null,
      "grid_gap": null,
      "grid_row": null,
      "grid_template_areas": null,
      "grid_template_columns": null,
      "grid_template_rows": null,
      "height": null,
      "justify_content": null,
      "justify_items": null,
      "left": null,
      "margin": null,
      "max_height": null,
      "max_width": null,
      "min_height": null,
      "min_width": null,
      "object_fit": null,
      "object_position": null,
      "order": null,
      "overflow": null,
      "overflow_x": null,
      "overflow_y": null,
      "padding": null,
      "right": null,
      "top": null,
      "visibility": null,
      "width": null
     }
    },
    "406d5af1f63d445f952c975712d0a8a8": {
     "model_module": "@jupyter-widgets/controls",
     "model_name": "FloatProgressModel",
     "state": {
      "_dom_classes": [],
      "_model_module": "@jupyter-widgets/controls",
      "_model_module_version": "1.5.0",
      "_model_name": "FloatProgressModel",
      "_view_count": null,
      "_view_module": "@jupyter-widgets/controls",
      "_view_module_version": "1.5.0",
      "_view_name": "ProgressView",
      "bar_style": "success",
      "description": "100%",
      "description_tooltip": null,
      "layout": "IPY_MODEL_29183b8d430147af8dd627b9e443b529",
      "max": 163,
      "min": 0,
      "orientation": "horizontal",
      "style": "IPY_MODEL_a58894bb2572492890e47edea23f2a98",
      "value": 163
     }
    },
    "411b734511b44b1aa6cdf52a86e04ab3": {
     "model_module": "@jupyter-widgets/controls",
     "model_name": "HTMLModel",
     "state": {
      "_dom_classes": [],
      "_model_module": "@jupyter-widgets/controls",
      "_model_module_version": "1.5.0",
      "_model_name": "HTMLModel",
      "_view_count": null,
      "_view_module": "@jupyter-widgets/controls",
      "_view_module_version": "1.5.0",
      "_view_name": "HTMLView",
      "description": "",
      "description_tooltip": null,
      "layout": "IPY_MODEL_f3a9f682ac5248b5a65b38aa41da2057",
      "placeholder": "​",
      "style": "IPY_MODEL_7b381ae010234855b3071a0182d76ad3",
      "value": " 262/262 [00:01&lt;00:00, 155.56it/s]"
     }
    },
    "6962338d91d1484e92fbace867e323be": {
     "model_module": "@jupyter-widgets/controls",
     "model_name": "DescriptionStyleModel",
     "state": {
      "_model_module": "@jupyter-widgets/controls",
      "_model_module_version": "1.5.0",
      "_model_name": "DescriptionStyleModel",
      "_view_count": null,
      "_view_module": "@jupyter-widgets/base",
      "_view_module_version": "1.2.0",
      "_view_name": "StyleView",
      "description_width": ""
     }
    },
    "788f28d9d0ee44f8992df658d4b7f43b": {
     "model_module": "@jupyter-widgets/controls",
     "model_name": "DescriptionStyleModel",
     "state": {
      "_model_module": "@jupyter-widgets/controls",
      "_model_module_version": "1.5.0",
      "_model_name": "DescriptionStyleModel",
      "_view_count": null,
      "_view_module": "@jupyter-widgets/base",
      "_view_module_version": "1.2.0",
      "_view_name": "StyleView",
      "description_width": ""
     }
    },
    "7b381ae010234855b3071a0182d76ad3": {
     "model_module": "@jupyter-widgets/controls",
     "model_name": "DescriptionStyleModel",
     "state": {
      "_model_module": "@jupyter-widgets/controls",
      "_model_module_version": "1.5.0",
      "_model_name": "DescriptionStyleModel",
      "_view_count": null,
      "_view_module": "@jupyter-widgets/base",
      "_view_module_version": "1.2.0",
      "_view_name": "StyleView",
      "description_width": ""
     }
    },
    "84245c0c3aad4c05920f518f6c18eccb": {
     "model_module": "@jupyter-widgets/base",
     "model_name": "LayoutModel",
     "state": {
      "_model_module": "@jupyter-widgets/base",
      "_model_module_version": "1.2.0",
      "_model_name": "LayoutModel",
      "_view_count": null,
      "_view_module": "@jupyter-widgets/base",
      "_view_module_version": "1.2.0",
      "_view_name": "LayoutView",
      "align_content": null,
      "align_items": null,
      "align_self": null,
      "border": null,
      "bottom": null,
      "display": null,
      "flex": null,
      "flex_flow": null,
      "grid_area": null,
      "grid_auto_columns": null,
      "grid_auto_flow": null,
      "grid_auto_rows": null,
      "grid_column": null,
      "grid_gap": null,
      "grid_row": null,
      "grid_template_areas": null,
      "grid_template_columns": null,
      "grid_template_rows": null,
      "height": null,
      "justify_content": null,
      "justify_items": null,
      "left": null,
      "margin": null,
      "max_height": null,
      "max_width": null,
      "min_height": null,
      "min_width": null,
      "object_fit": null,
      "object_position": null,
      "order": null,
      "overflow": null,
      "overflow_x": null,
      "overflow_y": null,
      "padding": null,
      "right": null,
      "top": null,
      "visibility": null,
      "width": null
     }
    },
    "8f6e5755bec8480d9daceeb77592dd14": {
     "model_module": "@jupyter-widgets/controls",
     "model_name": "ProgressStyleModel",
     "state": {
      "_model_module": "@jupyter-widgets/controls",
      "_model_module_version": "1.5.0",
      "_model_name": "ProgressStyleModel",
      "_view_count": null,
      "_view_module": "@jupyter-widgets/base",
      "_view_module_version": "1.2.0",
      "_view_name": "StyleView",
      "bar_color": null,
      "description_width": "initial"
     }
    },
    "a58894bb2572492890e47edea23f2a98": {
     "model_module": "@jupyter-widgets/controls",
     "model_name": "ProgressStyleModel",
     "state": {
      "_model_module": "@jupyter-widgets/controls",
      "_model_module_version": "1.5.0",
      "_model_name": "ProgressStyleModel",
      "_view_count": null,
      "_view_module": "@jupyter-widgets/base",
      "_view_module_version": "1.2.0",
      "_view_name": "StyleView",
      "bar_color": null,
      "description_width": "initial"
     }
    },
    "b1a3b8c8b06e4797ba7a4b496786fe17": {
     "model_module": "@jupyter-widgets/base",
     "model_name": "LayoutModel",
     "state": {
      "_model_module": "@jupyter-widgets/base",
      "_model_module_version": "1.2.0",
      "_model_name": "LayoutModel",
      "_view_count": null,
      "_view_module": "@jupyter-widgets/base",
      "_view_module_version": "1.2.0",
      "_view_name": "LayoutView",
      "align_content": null,
      "align_items": null,
      "align_self": null,
      "border": null,
      "bottom": null,
      "display": null,
      "flex": null,
      "flex_flow": null,
      "grid_area": null,
      "grid_auto_columns": null,
      "grid_auto_flow": null,
      "grid_auto_rows": null,
      "grid_column": null,
      "grid_gap": null,
      "grid_row": null,
      "grid_template_areas": null,
      "grid_template_columns": null,
      "grid_template_rows": null,
      "height": null,
      "justify_content": null,
      "justify_items": null,
      "left": null,
      "margin": null,
      "max_height": null,
      "max_width": null,
      "min_height": null,
      "min_width": null,
      "object_fit": null,
      "object_position": null,
      "order": null,
      "overflow": null,
      "overflow_x": null,
      "overflow_y": null,
      "padding": null,
      "right": null,
      "top": null,
      "visibility": null,
      "width": null
     }
    },
    "b8d5f90483724d84a080d610a5cc1ad9": {
     "model_module": "@jupyter-widgets/controls",
     "model_name": "FloatProgressModel",
     "state": {
      "_dom_classes": [],
      "_model_module": "@jupyter-widgets/controls",
      "_model_module_version": "1.5.0",
      "_model_name": "FloatProgressModel",
      "_view_count": null,
      "_view_module": "@jupyter-widgets/controls",
      "_view_module_version": "1.5.0",
      "_view_name": "ProgressView",
      "bar_style": "success",
      "description": "100%",
      "description_tooltip": null,
      "layout": "IPY_MODEL_84245c0c3aad4c05920f518f6c18eccb",
      "max": 262,
      "min": 0,
      "orientation": "horizontal",
      "style": "IPY_MODEL_8f6e5755bec8480d9daceeb77592dd14",
      "value": 262
     }
    },
    "c20b23ee17ef4efd88fa86c97128545b": {
     "model_module": "@jupyter-widgets/controls",
     "model_name": "ProgressStyleModel",
     "state": {
      "_model_module": "@jupyter-widgets/controls",
      "_model_module_version": "1.5.0",
      "_model_name": "ProgressStyleModel",
      "_view_count": null,
      "_view_module": "@jupyter-widgets/base",
      "_view_module_version": "1.2.0",
      "_view_name": "StyleView",
      "bar_color": null,
      "description_width": "initial"
     }
    },
    "c40da03dd77249c8826843934160b3bb": {
     "model_module": "@jupyter-widgets/controls",
     "model_name": "HTMLModel",
     "state": {
      "_dom_classes": [],
      "_model_module": "@jupyter-widgets/controls",
      "_model_module_version": "1.5.0",
      "_model_name": "HTMLModel",
      "_view_count": null,
      "_view_module": "@jupyter-widgets/controls",
      "_view_module_version": "1.5.0",
      "_view_name": "HTMLView",
      "description": "",
      "description_tooltip": null,
      "layout": "IPY_MODEL_c7366723f8904c0c96ef4afe63fccec4",
      "placeholder": "​",
      "style": "IPY_MODEL_788f28d9d0ee44f8992df658d4b7f43b",
      "value": " 163/163 [00:01&lt;00:00, 109.47it/s]"
     }
    },
    "c7366723f8904c0c96ef4afe63fccec4": {
     "model_module": "@jupyter-widgets/base",
     "model_name": "LayoutModel",
     "state": {
      "_model_module": "@jupyter-widgets/base",
      "_model_module_version": "1.2.0",
      "_model_name": "LayoutModel",
      "_view_count": null,
      "_view_module": "@jupyter-widgets/base",
      "_view_module_version": "1.2.0",
      "_view_name": "LayoutView",
      "align_content": null,
      "align_items": null,
      "align_self": null,
      "border": null,
      "bottom": null,
      "display": null,
      "flex": null,
      "flex_flow": null,
      "grid_area": null,
      "grid_auto_columns": null,
      "grid_auto_flow": null,
      "grid_auto_rows": null,
      "grid_column": null,
      "grid_gap": null,
      "grid_row": null,
      "grid_template_areas": null,
      "grid_template_columns": null,
      "grid_template_rows": null,
      "height": null,
      "justify_content": null,
      "justify_items": null,
      "left": null,
      "margin": null,
      "max_height": null,
      "max_width": null,
      "min_height": null,
      "min_width": null,
      "object_fit": null,
      "object_position": null,
      "order": null,
      "overflow": null,
      "overflow_x": null,
      "overflow_y": null,
      "padding": null,
      "right": null,
      "top": null,
      "visibility": null,
      "width": null
     }
    },
    "f23a157d04b74decb51c1f6509665f4c": {
     "model_module": "@jupyter-widgets/base",
     "model_name": "LayoutModel",
     "state": {
      "_model_module": "@jupyter-widgets/base",
      "_model_module_version": "1.2.0",
      "_model_name": "LayoutModel",
      "_view_count": null,
      "_view_module": "@jupyter-widgets/base",
      "_view_module_version": "1.2.0",
      "_view_name": "LayoutView",
      "align_content": null,
      "align_items": null,
      "align_self": null,
      "border": null,
      "bottom": null,
      "display": null,
      "flex": null,
      "flex_flow": null,
      "grid_area": null,
      "grid_auto_columns": null,
      "grid_auto_flow": null,
      "grid_auto_rows": null,
      "grid_column": null,
      "grid_gap": null,
      "grid_row": null,
      "grid_template_areas": null,
      "grid_template_columns": null,
      "grid_template_rows": null,
      "height": null,
      "justify_content": null,
      "justify_items": null,
      "left": null,
      "margin": null,
      "max_height": null,
      "max_width": null,
      "min_height": null,
      "min_width": null,
      "object_fit": null,
      "object_position": null,
      "order": null,
      "overflow": null,
      "overflow_x": null,
      "overflow_y": null,
      "padding": null,
      "right": null,
      "top": null,
      "visibility": null,
      "width": null
     }
    },
    "f3a9f682ac5248b5a65b38aa41da2057": {
     "model_module": "@jupyter-widgets/base",
     "model_name": "LayoutModel",
     "state": {
      "_model_module": "@jupyter-widgets/base",
      "_model_module_version": "1.2.0",
      "_model_name": "LayoutModel",
      "_view_count": null,
      "_view_module": "@jupyter-widgets/base",
      "_view_module_version": "1.2.0",
      "_view_name": "LayoutView",
      "align_content": null,
      "align_items": null,
      "align_self": null,
      "border": null,
      "bottom": null,
      "display": null,
      "flex": null,
      "flex_flow": null,
      "grid_area": null,
      "grid_auto_columns": null,
      "grid_auto_flow": null,
      "grid_auto_rows": null,
      "grid_column": null,
      "grid_gap": null,
      "grid_row": null,
      "grid_template_areas": null,
      "grid_template_columns": null,
      "grid_template_rows": null,
      "height": null,
      "justify_content": null,
      "justify_items": null,
      "left": null,
      "margin": null,
      "max_height": null,
      "max_width": null,
      "min_height": null,
      "min_width": null,
      "object_fit": null,
      "object_position": null,
      "order": null,
      "overflow": null,
      "overflow_x": null,
      "overflow_y": null,
      "padding": null,
      "right": null,
      "top": null,
      "visibility": null,
      "width": null
     }
    }
   }
  }
 },
 "nbformat": 4,
 "nbformat_minor": 1
}
